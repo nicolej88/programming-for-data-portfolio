{
 "cells": [
  {
   "cell_type": "markdown",
   "metadata": {
    "id": "7iQyKP-SQiw1"
   },
   "source": [
    "# User-defined functions using datetime library\n",
    "\n",
    "---\n"
   ]
  },
  {
   "cell_type": "markdown",
   "metadata": {
    "id": "Vi93h5I4QnKs"
   },
   "source": [
    "When working with dates and times, fairly common in data sets, we need to be able to extract certain bits of information.  \n",
    "\n",
    "In Python, as with other languages, dates and times are stored in a data structure that combines the two together and stores the information as a number of seconds since a start point (often 1st January 1900).  This is obviously a large number but every bit of information about a date can be extracted from it and used to give a wide range of information.  \n",
    "\n",
    "Have a go at the exercises below to use a selection of datetime functions and return a new bit of data from each, to be printed by the caller.\n",
    "\n",
    "Before you can use datetime functions you will need to import them. Import the datetime functions like this:\n",
    "\n",
    "`from datetime import datetime`  \n",
    "\n",
    "\n",
    "For more information about datetime functions visit [w3Schools-Python datetime](https://www.w3schools.com/python/python_datetime.asp) and [Python docs](https://docs.python.org/3/library/datetime.html)"
   ]
  },
  {
   "cell_type": "markdown",
   "metadata": {
    "id": "MIDLi7CNR034"
   },
   "source": [
    "---\n",
    "### Exercise 1 - print current date and time\n",
    "\n",
    "Write a function that will return the date and time now.  The caller will print it.  \n",
    "\n",
    "*Hint:  the format has been added for you, the other exercises will follow a similar format.   Always remember to import datetime from datetime as shown below*"
   ]
  },
  {
   "cell_type": "code",
   "execution_count": 43,
   "metadata": {
    "colab": {
     "base_uri": "https://localhost:8080/"
    },
    "id": "gS6GJdXbQfHp",
    "outputId": "502c49d9-ea70-431e-9756-62884ac5a584"
   },
   "outputs": [
    {
     "name": "stdout",
     "output_type": "stream",
     "text": [
      "2021-07-24 17:33:37.958396+00:00\n"
     ]
    }
   ],
   "source": [
    "from datetime import datetime, timezone\n",
    "# add your function, called get_datetime_now() below here\n",
    "\n",
    "def get_datetime_now():\n",
    "\n",
    "    now_date_time = datetime.now(timezone.utc)\n",
    "    print(now_date_time)\n",
    "    \n",
    "get_datetime_now()"
   ]
  },
  {
   "cell_type": "markdown",
   "metadata": {
    "id": "Yy24sL0bUtpF"
   },
   "source": [
    "---\n",
    "Exercise 2 - print the current year\n",
    "\n",
    "Write a function that will return the current year.  The caller will print the year."
   ]
  },
  {
   "cell_type": "code",
   "execution_count": 44,
   "metadata": {
    "id": "YqlQqPIqUtyr"
   },
   "outputs": [
    {
     "name": "stdout",
     "output_type": "stream",
     "text": [
      "2021\n"
     ]
    }
   ],
   "source": [
    "from datetime import datetime, timezone\n",
    "def get_year():\n",
    "\n",
    "    now_year = datetime.now(timezone.utc)\n",
    "    print(now_year.year)\n",
    "    \n",
    "get_year()"
   ]
  },
  {
   "cell_type": "markdown",
   "metadata": {
    "id": "FzSVCaJKV1O1"
   },
   "source": [
    "---\n",
    "### Exercise 3 - print the current day of the week\n",
    "\n",
    "Write a function that will return the current day of the week.  The caller will print it."
   ]
  },
  {
   "cell_type": "code",
   "execution_count": 45,
   "metadata": {
    "id": "OP4ZIXBWV1Yj"
   },
   "outputs": [
    {
     "name": "stdout",
     "output_type": "stream",
     "text": [
      "Saturday\n"
     ]
    }
   ],
   "source": [
    "def return_day_of_week():\n",
    "     print(datetime.today().strftime('%A'))\n",
    "return_day_of_week()"
   ]
  },
  {
   "cell_type": "markdown",
   "metadata": {
    "id": "a8euCtdmWIDE"
   },
   "source": [
    "---\n",
    "### Exercise 4 - create a new date\n",
    "\n",
    "Write a function that will take 3 parameters, year, month, day (3 numbers that make a valid date) and will create, and return a new date.  The caller will print the date."
   ]
  },
  {
   "cell_type": "code",
   "execution_count": 46,
   "metadata": {
    "id": "FbOFnTwnWILN"
   },
   "outputs": [
    {
     "name": "stdout",
     "output_type": "stream",
     "text": [
      "1995-12-20 00:00:00\n"
     ]
    }
   ],
   "source": [
    "def create_date(yyyy, mm, dd):\n",
    "    date_time = datetime(yyyy, mm, dd)\n",
    "    print (date_time)\n",
    "create_date(1995, 12, 20)"
   ]
  },
  {
   "cell_type": "markdown",
   "metadata": {
    "id": "f5SKVuE0WfcE"
   },
   "source": [
    "---\n",
    "### Exercise 5 - create a valid date\n",
    "\n",
    "Write a function that will take 3 parameters, year, month, day (3 numbers) and will:  \n",
    "*   check that the month is between 1 and 12  \n",
    "*   check that the day is valid for the month (e.g. if the month is 2, then the day must be between 1 and 28 (don't worry about leap years for the moment)  \n",
    "*   if the date is not valid, print an error message and return None (which the caller will print)  \n",
    "*   if the date is valid, store it in a new variable, return the variable and the caller will print it."
   ]
  },
  {
   "cell_type": "code",
   "execution_count": 47,
   "metadata": {
    "id": "gclt-f9-XfdG"
   },
   "outputs": [
    {
     "data": {
      "text/plain": [
       "datetime.datetime(2000, 2, 28, 0, 0)"
      ]
     },
     "execution_count": 47,
     "metadata": {},
     "output_type": "execute_result"
    }
   ],
   "source": [
    "def create_date(yyyy, mm, dd):\n",
    "    \n",
    "    \n",
    "    if mm >= 1 and mm <= 12:\n",
    "        if mm in [1, 3, 5, 7, 8, 10, 12] and dd >=1 and dd <=31:\n",
    "            date_time = datetime(yyyy, mm, dd)\n",
    "            return date_time\n",
    "            \n",
    "        \n",
    "        elif mm in [4, 6, 9, 11] and dd >=1 and dd <=30:\n",
    "            date_time = datetime(yyyy, mm, dd)\n",
    "            return date_time\n",
    "        \n",
    "        elif mm in [2] and dd>=1 and dd<=28:\n",
    "            date_time = datetime(yyyy, mm, dd)\n",
    "            return date_time\n",
    "        \n",
    "        \n",
    "    print(\"Error date not valid\")\n",
    "    return None\n",
    "        \n",
    "create_date(2000, 2, 28)               \n"
   ]
  },
  {
   "cell_type": "markdown",
   "metadata": {
    "id": "js7fy2HWXfm2"
   },
   "source": [
    "---\n",
    "### Exercise 6 - is it a leap year?\n",
    "\n",
    "Write a function that will take a date as a parameter (you will need to create the date variable before calling the function) and will determine if it is a leap year, returning True or False.\n",
    "\n",
    "*Hint:  a leap year is a year that is divisible by 4 but the centuries (1900, 2000, etc are only leap years if they are divisible by 400)*"
   ]
  },
  {
   "cell_type": "code",
   "execution_count": 48,
   "metadata": {
    "id": "KY1jtf3lX_ps"
   },
   "outputs": [
    {
     "name": "stdout",
     "output_type": "stream",
     "text": [
      "2020 is a leap year\n"
     ]
    }
   ],
   "source": [
    "from datetime import datetime\n",
    "\n",
    "def is_leap_year(yyyy, mm, dd):\n",
    "    check_date = datetime(yyyy, mm, dd)\n",
    "    if check_date.year % 4 == 0:\n",
    "        print(check_date.strftime(\"%Y\"), \"is a leap year\")\n",
    "    elif check_date.year % 400 == 0:\n",
    "        print(check_date.strftime(\"%Y\"), \"is a leap year\")\n",
    "    else:\n",
    "        print(check_date.strftime(\"%Y\"), \"is not a leap year\")\n",
    "\n",
    "is_leap_year(2020,10,12)   \n",
    "\n"
   ]
  },
  {
   "cell_type": "markdown",
   "metadata": {
    "id": "9BuRDi08YAO0"
   },
   "source": [
    "---\n",
    "### Exercise 7 - display parts of date/time\n",
    "\n",
    "Write a function that will take a date and print from it the following:  \n",
    "*  given date and time  \n",
    "*  year (in full) \n",
    "*  month (as a number) \n",
    "*  month name \n",
    "*  week number of the year  \n",
    "*  weekday of the week (as a number)  \n",
    "*  day of year  \n",
    "*  day of the month  \n",
    "*  day of week (as a name)  \n",
    "\n",
    "*Hint:  see w3Schools for [strftime reference](https://www.w3schools.com/python/python_datetime.asp)*\n",
    "\n"
   ]
  },
  {
   "cell_type": "code",
   "execution_count": 49,
   "metadata": {
    "id": "zl-37Ez9ahym"
   },
   "outputs": [
    {
     "name": "stdout",
     "output_type": "stream",
     "text": [
      "2020-10-20 00:00:00 2020 10 October 42 2 294 20 Tuesday\n"
     ]
    }
   ],
   "source": [
    "def display_parts_datetime(yyyy, mm, dd):\n",
    "    test_date = datetime(yyyy, mm, dd)\n",
    "    print (test_date, test_date.year, test_date.month, test_date.strftime(\"%B\"), test_date.strftime(\"%W\"), test_date.strftime(\"%w\"),test_date.strftime(\"%j\"),test_date.strftime(\"%d\"),test_date.strftime(\"%A\"))\n",
    "    \n",
    "display_parts_datetime(2020, 10, 20)"
   ]
  },
  {
   "cell_type": "markdown",
   "metadata": {
    "id": "_rpTIoSDaiBj"
   },
   "source": [
    "---\n",
    "### Exercise 8 - next 6 days\n",
    "\n",
    "Write a function that will take a date and generate the dates of the following 6 days.  It should print each of the 6 days in the form:  \n",
    "\n",
    "DAY OF THE WEEK, MONTH NAME, FULL YEAR\n",
    "\n",
    "Hint:  to generate the days, use the function datetime.timedelta(), there is a good example of its use [here](https://www.geeksforgeeks.org/python-datetime-timedelta-function/)  "
   ]
  },
  {
   "cell_type": "code",
   "execution_count": 50,
   "metadata": {
    "id": "1d-oXqLLb0vX"
   },
   "outputs": [
    {
     "name": "stdout",
     "output_type": "stream",
     "text": [
      "The future date after 6 days is 2021-07-30 18:33:42.093691\n"
     ]
    }
   ],
   "source": [
    "from datetime import datetime, timedelta\n",
    "def next_6_days():\n",
    "\n",
    "# Using current time\n",
    "    time_now = datetime.now()\n",
    "    \n",
    "# Calculating date 6 days from now\n",
    "\n",
    "    add_6_days = time_now + \\\n",
    "                        timedelta(days = 6)\n",
    "\n",
    "    (datetime.today().strftime('%A'))\n",
    "# printing calculated future_dates\n",
    "    print('The future date after 6 days is',add_6_days)\n",
    "next_6_days()   \n"
   ]
  },
  {
   "cell_type": "code",
   "execution_count": null,
   "metadata": {
    "id": "mUr7S2Vn2H80"
   },
   "outputs": [],
   "source": []
  },
  {
   "cell_type": "markdown",
   "metadata": {
    "id": "0xNhldfM02FH"
   },
   "source": [
    "### Exercise 9 - modify date format in a dataframe with a custom function\n",
    "---\n",
    "\n",
    "Read the data set 'page_views.csv' from \"https://raw.githubusercontent.com/futureCodersSE/working-with-data/main/Data%20sets/page_views.csv\"\n",
    "\n",
    "Using dataframe.apply(), modify the dates, which are currently strings, so that they are in date format.\n",
    "\n",
    "This is a relatively small data set, so let's use this as a way to look into how an applied function works.\n",
    "\n",
    "1.  Read the data set into a dataframe and display information about it (you will see that the date is of dtype 'object' which means that it could be any data structure\n",
    "\n",
    "2.  Print the date from the first record - you will see that this is a string ('2016-05-09')\n",
    "\n",
    "3.  As a test, convert this string into a valid date (maybe take the date string, split it into three components, year, month, day and create a new datetime from this - you could use the function you wrote for Exercise 5\n",
    "\n",
    "4.  Apply a function that will convert the date (string) column in the dataframe to a date (datetime) column.  (First step - print df['date'] so that you can see that there is just one row in df in the function)\n",
    "\n"
   ]
  },
  {
   "cell_type": "code",
   "execution_count": 51,
   "metadata": {
    "id": "qsCMTwuK1zew"
   },
   "outputs": [
    {
     "data": {
      "text/plain": [
       "0      2016-05-09\n",
       "1      2016-05-10\n",
       "2      2016-05-11\n",
       "3      2016-05-12\n",
       "4      2016-05-13\n",
       "          ...    \n",
       "1299   2019-11-29\n",
       "1300   2019-11-30\n",
       "1301   2019-12-01\n",
       "1302   2019-12-02\n",
       "1303   2019-12-03\n",
       "Length: 1304, dtype: datetime64[ns]"
      ]
     },
     "execution_count": 51,
     "metadata": {},
     "output_type": "execute_result"
    }
   ],
   "source": [
    "import pandas as pd\n",
    "from datetime import datetime\n",
    "\n",
    "\n",
    "url=\"https://raw.githubusercontent.com/futureCodersSE/working-with-data/main/Data%20sets/page_views.csv\"\n",
    "page_views = pd.read_csv(url)\n",
    "\n",
    "def format_date(df):\n",
    "    string_date = df[\"date\"].split('-')\n",
    "    return create_date(int(string_date[0]),int(string_date[1]),int(string_date[2]))\n",
    "    \n",
    "page_views.apply(format_date, axis=1)\n",
    "    "
   ]
  },
  {
   "cell_type": "code",
   "execution_count": null,
   "metadata": {
    "id": "7kNdZy7C8qZA"
   },
   "outputs": [],
   "source": []
  },
  {
   "cell_type": "markdown",
   "metadata": {
    "id": "tQlJkazC6Dpt"
   },
   "source": [
    "### Exercise 10 - here's a challenge\n",
    "---\n",
    "\n",
    "Now that the date is in datetime format, it is possible that you could check for missing dates.\n",
    "\n",
    "1.  Run the code from Exercise 9 to ensure that you have datetime objects and not strings.\n",
    "\n",
    "2.  Sort the dataframe by date (ascending)\n",
    "\n",
    "3.  Starting with the first date, generate a new column with the same number of rows as the dataframe, which contains datetime objects sequentially by day\n",
    "\n",
    "4.  Write a function that takes the dataframe as a parameter, and the next date (see Exercise 8), finds the first row where the generated date and the actual date are not equal and returns the index of this row, or -1 if they are all equal (Hint:  use a filter to find the rows where there is a difference, return the index of the first row - df[df['date'] != df['seq_date']].index[0]"
   ]
  },
  {
   "cell_type": "code",
   "execution_count": 67,
   "metadata": {
    "id": "seWgiVE78VBy"
   },
   "outputs": [
    {
     "name": "stdout",
     "output_type": "stream",
     "text": [
      "<class 'pandas.core.frame.DataFrame'>\n",
      "RangeIndex: 1304 entries, 0 to 1303\n",
      "Data columns (total 1 columns):\n",
      " #   Column  Non-Null Count  Dtype         \n",
      "---  ------  --------------  -----         \n",
      " 0   0       1304 non-null   datetime64[ns]\n",
      "dtypes: datetime64[ns](1)\n",
      "memory usage: 10.3 KB\n",
      "               0\n",
      "input           \n",
      "0     2016-05-09\n",
      "1     2016-05-10\n",
      "2     2016-05-11\n",
      "3     2016-05-12\n",
      "4     2016-05-13\n",
      "...          ...\n",
      "1299  2019-11-29\n",
      "1300  2019-11-30\n",
      "1301  2019-12-01\n",
      "1302  2019-12-02\n",
      "1303  2019-12-03\n",
      "\n",
      "[1304 rows x 1 columns] None\n"
     ]
    },
    {
     "data": {
      "text/html": [
       "<div>\n",
       "<style scoped>\n",
       "    .dataframe tbody tr th:only-of-type {\n",
       "        vertical-align: middle;\n",
       "    }\n",
       "\n",
       "    .dataframe tbody tr th {\n",
       "        vertical-align: top;\n",
       "    }\n",
       "\n",
       "    .dataframe thead th {\n",
       "        text-align: right;\n",
       "    }\n",
       "</style>\n",
       "<table border=\"1\" class=\"dataframe\">\n",
       "  <thead>\n",
       "    <tr style=\"text-align: right;\">\n",
       "      <th></th>\n",
       "      <th>0</th>\n",
       "      <th>weekday</th>\n",
       "    </tr>\n",
       "    <tr>\n",
       "      <th>input</th>\n",
       "      <th></th>\n",
       "      <th></th>\n",
       "    </tr>\n",
       "  </thead>\n",
       "  <tbody>\n",
       "    <tr>\n",
       "      <th>0</th>\n",
       "      <td>2016-05-09</td>\n",
       "      <td>0</td>\n",
       "    </tr>\n",
       "    <tr>\n",
       "      <th>1</th>\n",
       "      <td>2016-05-10</td>\n",
       "      <td>1</td>\n",
       "    </tr>\n",
       "    <tr>\n",
       "      <th>2</th>\n",
       "      <td>2016-05-11</td>\n",
       "      <td>2</td>\n",
       "    </tr>\n",
       "    <tr>\n",
       "      <th>3</th>\n",
       "      <td>2016-05-12</td>\n",
       "      <td>3</td>\n",
       "    </tr>\n",
       "    <tr>\n",
       "      <th>4</th>\n",
       "      <td>2016-05-13</td>\n",
       "      <td>4</td>\n",
       "    </tr>\n",
       "    <tr>\n",
       "      <th>...</th>\n",
       "      <td>...</td>\n",
       "      <td>...</td>\n",
       "    </tr>\n",
       "    <tr>\n",
       "      <th>1299</th>\n",
       "      <td>2019-11-29</td>\n",
       "      <td>4</td>\n",
       "    </tr>\n",
       "    <tr>\n",
       "      <th>1300</th>\n",
       "      <td>2019-11-30</td>\n",
       "      <td>5</td>\n",
       "    </tr>\n",
       "    <tr>\n",
       "      <th>1301</th>\n",
       "      <td>2019-12-01</td>\n",
       "      <td>6</td>\n",
       "    </tr>\n",
       "    <tr>\n",
       "      <th>1302</th>\n",
       "      <td>2019-12-02</td>\n",
       "      <td>0</td>\n",
       "    </tr>\n",
       "    <tr>\n",
       "      <th>1303</th>\n",
       "      <td>2019-12-03</td>\n",
       "      <td>1</td>\n",
       "    </tr>\n",
       "  </tbody>\n",
       "</table>\n",
       "<p>1304 rows × 2 columns</p>\n",
       "</div>"
      ],
      "text/plain": [
       "               0  weekday\n",
       "input                    \n",
       "0     2016-05-09        0\n",
       "1     2016-05-10        1\n",
       "2     2016-05-11        2\n",
       "3     2016-05-12        3\n",
       "4     2016-05-13        4\n",
       "...          ...      ...\n",
       "1299  2019-11-29        4\n",
       "1300  2019-11-30        5\n",
       "1301  2019-12-01        6\n",
       "1302  2019-12-02        0\n",
       "1303  2019-12-03        1\n",
       "\n",
       "[1304 rows x 2 columns]"
      ]
     },
     "execution_count": 67,
     "metadata": {},
     "output_type": "execute_result"
    }
   ],
   "source": [
    "date_data = page_views.apply(format_date, axis=1).to_frame()\n",
    "print (date_data, date_data.info())\n",
    "\n",
    "\n",
    "#Sort the dataframe by date (ascending)\n",
    "date_data.sort_values(by=0)\n",
    "date_data.index.names = ['input']\n",
    "\n",
    "#Starting with the first date, generate a new column with the same number of rows as the dataframe, which contains datetime objects sequentially by day\n",
    "date_data['weekday'] = date_data[0].dt.dayofweek\n",
    "# date_data=date_data.assign(seq_date=date_data[0])\n",
    "# date_data.sort_values('seq_date')\n",
    "date_data\n"
   ]
  },
  {
   "cell_type": "markdown",
   "metadata": {
    "id": "22Rhwx2Sb1Ey"
   },
   "source": [
    "---\n",
    "### Optional extra practice\n",
    "\n",
    "There are some similar and some more challenging exercises [here](https://www.w3resource.com/python-exercises/date-time-exercise/) if you would like to practice more. The site has its own editor."
   ]
  }
 ],
 "metadata": {
  "colab": {
   "collapsed_sections": [],
   "name": "Working with datetime.ipynb",
   "provenance": []
  },
  "kernelspec": {
   "display_name": "Python 3",
   "language": "python",
   "name": "python3"
  },
  "language_info": {
   "codemirror_mode": {
    "name": "ipython",
    "version": 3
   },
   "file_extension": ".py",
   "mimetype": "text/x-python",
   "name": "python",
   "nbconvert_exporter": "python",
   "pygments_lexer": "ipython3",
   "version": "3.8.8"
  }
 },
 "nbformat": 4,
 "nbformat_minor": 1
}
