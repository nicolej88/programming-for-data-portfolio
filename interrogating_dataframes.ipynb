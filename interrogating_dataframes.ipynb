{
 "cells": [
  {
   "cell_type": "markdown",
   "metadata": {
    "id": "1Gs0TsVUvHgr"
   },
   "source": [
    "# Interrogating the dataframe\n",
    "---\n",
    "\n",
    "We use pandas to create dataframes from data sets in files or online tables.\n",
    "\n",
    "Once we have the dataframe we might want to:  \n",
    "*   display a subset of rows\n",
    "*   *   we can do this using df.head(), df.tail() or df.loc[index]\n",
    "*   display a subset of columns\n",
    "*   *   we can do this using the column name as the key, e.g.   \n",
    "`                df['rain (mm)']`  \n",
    "*   *   we can display more than one column, simply by listing the columns in the square brackets, e.g.   \n",
    "`                df[['rain (mm)', 'tmin (degC)', 'sun (hours)']]`  \n",
    "*   *   and can dislay a subset of rows for a subset of columns, e.g.  \n",
    " `               df[['rain (mm)', 'tmax (degC)']].head(10)`\n",
    "\n",
    "\n"
   ]
  },
  {
   "cell_type": "markdown",
   "metadata": {
    "id": "rugxYQSIyHiR"
   },
   "source": [
    "### Exercise 1 - get the data, look at first 10 records\n",
    "---\n",
    "\n",
    "\n",
    "1.  Import the pandas library with the alias pd  \n",
    "2.  Read the sheet with the name \"Industry Migration\" from the Excel file from this link: https://github.com/futureCodersSE/working-with-data/blob/main/Data%20sets/public_use-talent-migration.xlsx?raw=true  (*Hint:  use pd.read_excel(url, sheet_name=\"Industry Migration\") with the above url.*)\n",
    "3.  display the first 10 rows of the data\n",
    "\n",
    "**Test output**:  \n",
    "10 rows, 13 columns\n",
    "\n"
   ]
  },
  {
   "cell_type": "code",
   "execution_count": 3,
   "metadata": {
    "id": "WHEnQlll1vyL"
   },
   "outputs": [
    {
     "data": {
      "text/html": [
       "<div>\n",
       "<style scoped>\n",
       "    .dataframe tbody tr th:only-of-type {\n",
       "        vertical-align: middle;\n",
       "    }\n",
       "\n",
       "    .dataframe tbody tr th {\n",
       "        vertical-align: top;\n",
       "    }\n",
       "\n",
       "    .dataframe thead th {\n",
       "        text-align: right;\n",
       "    }\n",
       "</style>\n",
       "<table border=\"1\" class=\"dataframe\">\n",
       "  <thead>\n",
       "    <tr style=\"text-align: right;\">\n",
       "      <th></th>\n",
       "      <th>country_code</th>\n",
       "      <th>country_name</th>\n",
       "      <th>wb_income</th>\n",
       "      <th>wb_region</th>\n",
       "      <th>isic_section_index</th>\n",
       "      <th>isic_section_name</th>\n",
       "      <th>industry_id</th>\n",
       "      <th>industry_name</th>\n",
       "      <th>net_per_10K_2015</th>\n",
       "      <th>net_per_10K_2016</th>\n",
       "      <th>...</th>\n",
       "      <th>Unnamed: 20</th>\n",
       "      <th>Unnamed: 21</th>\n",
       "      <th>Unnamed: 22</th>\n",
       "      <th>Unnamed: 23</th>\n",
       "      <th>Unnamed: 24</th>\n",
       "      <th>Unnamed: 25</th>\n",
       "      <th>Unnamed: 26</th>\n",
       "      <th>Unnamed: 27</th>\n",
       "      <th>Unnamed: 28</th>\n",
       "      <th>Unnamed: 29</th>\n",
       "    </tr>\n",
       "  </thead>\n",
       "  <tbody>\n",
       "    <tr>\n",
       "      <th>0</th>\n",
       "      <td>ae</td>\n",
       "      <td>United Arab Emirates</td>\n",
       "      <td>High income</td>\n",
       "      <td>Middle East &amp; North Africa</td>\n",
       "      <td>C</td>\n",
       "      <td>Manufacturing</td>\n",
       "      <td>1</td>\n",
       "      <td>Defense &amp; Space</td>\n",
       "      <td>378.74</td>\n",
       "      <td>127.94</td>\n",
       "      <td>...</td>\n",
       "      <td>NaN</td>\n",
       "      <td>NaN</td>\n",
       "      <td>NaN</td>\n",
       "      <td>NaN</td>\n",
       "      <td>NaN</td>\n",
       "      <td>NaN</td>\n",
       "      <td>NaN</td>\n",
       "      <td>NaN</td>\n",
       "      <td>NaN</td>\n",
       "      <td>NaN</td>\n",
       "    </tr>\n",
       "    <tr>\n",
       "      <th>1</th>\n",
       "      <td>ae</td>\n",
       "      <td>United Arab Emirates</td>\n",
       "      <td>High income</td>\n",
       "      <td>Middle East &amp; North Africa</td>\n",
       "      <td>J</td>\n",
       "      <td>Information and communication</td>\n",
       "      <td>3</td>\n",
       "      <td>Computer Hardware</td>\n",
       "      <td>100.97</td>\n",
       "      <td>358.14</td>\n",
       "      <td>...</td>\n",
       "      <td>NaN</td>\n",
       "      <td>NaN</td>\n",
       "      <td>NaN</td>\n",
       "      <td>NaN</td>\n",
       "      <td>NaN</td>\n",
       "      <td>NaN</td>\n",
       "      <td>NaN</td>\n",
       "      <td>NaN</td>\n",
       "      <td>NaN</td>\n",
       "      <td>NaN</td>\n",
       "    </tr>\n",
       "    <tr>\n",
       "      <th>2</th>\n",
       "      <td>ae</td>\n",
       "      <td>United Arab Emirates</td>\n",
       "      <td>High income</td>\n",
       "      <td>Middle East &amp; North Africa</td>\n",
       "      <td>J</td>\n",
       "      <td>Information and communication</td>\n",
       "      <td>4</td>\n",
       "      <td>Computer Software</td>\n",
       "      <td>1079.36</td>\n",
       "      <td>848.15</td>\n",
       "      <td>...</td>\n",
       "      <td>NaN</td>\n",
       "      <td>NaN</td>\n",
       "      <td>NaN</td>\n",
       "      <td>NaN</td>\n",
       "      <td>NaN</td>\n",
       "      <td>NaN</td>\n",
       "      <td>NaN</td>\n",
       "      <td>NaN</td>\n",
       "      <td>NaN</td>\n",
       "      <td>NaN</td>\n",
       "    </tr>\n",
       "    <tr>\n",
       "      <th>3</th>\n",
       "      <td>ae</td>\n",
       "      <td>United Arab Emirates</td>\n",
       "      <td>High income</td>\n",
       "      <td>Middle East &amp; North Africa</td>\n",
       "      <td>J</td>\n",
       "      <td>Information and communication</td>\n",
       "      <td>5</td>\n",
       "      <td>Computer Networking</td>\n",
       "      <td>401.46</td>\n",
       "      <td>447.39</td>\n",
       "      <td>...</td>\n",
       "      <td>NaN</td>\n",
       "      <td>NaN</td>\n",
       "      <td>NaN</td>\n",
       "      <td>NaN</td>\n",
       "      <td>NaN</td>\n",
       "      <td>NaN</td>\n",
       "      <td>NaN</td>\n",
       "      <td>NaN</td>\n",
       "      <td>NaN</td>\n",
       "      <td>NaN</td>\n",
       "    </tr>\n",
       "    <tr>\n",
       "      <th>4</th>\n",
       "      <td>ae</td>\n",
       "      <td>United Arab Emirates</td>\n",
       "      <td>High income</td>\n",
       "      <td>Middle East &amp; North Africa</td>\n",
       "      <td>J</td>\n",
       "      <td>Information and communication</td>\n",
       "      <td>6</td>\n",
       "      <td>Internet</td>\n",
       "      <td>1840.33</td>\n",
       "      <td>1368.42</td>\n",
       "      <td>...</td>\n",
       "      <td>NaN</td>\n",
       "      <td>NaN</td>\n",
       "      <td>NaN</td>\n",
       "      <td>NaN</td>\n",
       "      <td>NaN</td>\n",
       "      <td>NaN</td>\n",
       "      <td>NaN</td>\n",
       "      <td>NaN</td>\n",
       "      <td>NaN</td>\n",
       "      <td>NaN</td>\n",
       "    </tr>\n",
       "    <tr>\n",
       "      <th>5</th>\n",
       "      <td>ae</td>\n",
       "      <td>United Arab Emirates</td>\n",
       "      <td>High income</td>\n",
       "      <td>Middle East &amp; North Africa</td>\n",
       "      <td>J</td>\n",
       "      <td>Information and communication</td>\n",
       "      <td>8</td>\n",
       "      <td>Telecommunications</td>\n",
       "      <td>676.91</td>\n",
       "      <td>676.11</td>\n",
       "      <td>...</td>\n",
       "      <td>NaN</td>\n",
       "      <td>NaN</td>\n",
       "      <td>NaN</td>\n",
       "      <td>NaN</td>\n",
       "      <td>NaN</td>\n",
       "      <td>NaN</td>\n",
       "      <td>NaN</td>\n",
       "      <td>NaN</td>\n",
       "      <td>NaN</td>\n",
       "      <td>NaN</td>\n",
       "    </tr>\n",
       "    <tr>\n",
       "      <th>6</th>\n",
       "      <td>ae</td>\n",
       "      <td>United Arab Emirates</td>\n",
       "      <td>High income</td>\n",
       "      <td>Middle East &amp; North Africa</td>\n",
       "      <td>M</td>\n",
       "      <td>Professional scientific and technical activities</td>\n",
       "      <td>9</td>\n",
       "      <td>Law Practice</td>\n",
       "      <td>694.50</td>\n",
       "      <td>529.50</td>\n",
       "      <td>...</td>\n",
       "      <td>NaN</td>\n",
       "      <td>NaN</td>\n",
       "      <td>NaN</td>\n",
       "      <td>NaN</td>\n",
       "      <td>NaN</td>\n",
       "      <td>NaN</td>\n",
       "      <td>NaN</td>\n",
       "      <td>NaN</td>\n",
       "      <td>NaN</td>\n",
       "      <td>NaN</td>\n",
       "    </tr>\n",
       "    <tr>\n",
       "      <th>7</th>\n",
       "      <td>ae</td>\n",
       "      <td>United Arab Emirates</td>\n",
       "      <td>High income</td>\n",
       "      <td>Middle East &amp; North Africa</td>\n",
       "      <td>M</td>\n",
       "      <td>Professional scientific and technical activities</td>\n",
       "      <td>10</td>\n",
       "      <td>Legal Services</td>\n",
       "      <td>661.10</td>\n",
       "      <td>665.65</td>\n",
       "      <td>...</td>\n",
       "      <td>NaN</td>\n",
       "      <td>NaN</td>\n",
       "      <td>NaN</td>\n",
       "      <td>NaN</td>\n",
       "      <td>NaN</td>\n",
       "      <td>NaN</td>\n",
       "      <td>NaN</td>\n",
       "      <td>NaN</td>\n",
       "      <td>NaN</td>\n",
       "      <td>NaN</td>\n",
       "    </tr>\n",
       "    <tr>\n",
       "      <th>8</th>\n",
       "      <td>ae</td>\n",
       "      <td>United Arab Emirates</td>\n",
       "      <td>High income</td>\n",
       "      <td>Middle East &amp; North Africa</td>\n",
       "      <td>M</td>\n",
       "      <td>Professional scientific and technical activities</td>\n",
       "      <td>11</td>\n",
       "      <td>Management Consulting</td>\n",
       "      <td>982.85</td>\n",
       "      <td>694.25</td>\n",
       "      <td>...</td>\n",
       "      <td>NaN</td>\n",
       "      <td>NaN</td>\n",
       "      <td>NaN</td>\n",
       "      <td>NaN</td>\n",
       "      <td>NaN</td>\n",
       "      <td>NaN</td>\n",
       "      <td>NaN</td>\n",
       "      <td>NaN</td>\n",
       "      <td>NaN</td>\n",
       "      <td>NaN</td>\n",
       "    </tr>\n",
       "    <tr>\n",
       "      <th>9</th>\n",
       "      <td>ae</td>\n",
       "      <td>United Arab Emirates</td>\n",
       "      <td>High income</td>\n",
       "      <td>Middle East &amp; North Africa</td>\n",
       "      <td>M</td>\n",
       "      <td>Professional scientific and technical activities</td>\n",
       "      <td>12</td>\n",
       "      <td>Biotechnology</td>\n",
       "      <td>1230.17</td>\n",
       "      <td>846.28</td>\n",
       "      <td>...</td>\n",
       "      <td>NaN</td>\n",
       "      <td>NaN</td>\n",
       "      <td>NaN</td>\n",
       "      <td>NaN</td>\n",
       "      <td>NaN</td>\n",
       "      <td>NaN</td>\n",
       "      <td>NaN</td>\n",
       "      <td>NaN</td>\n",
       "      <td>NaN</td>\n",
       "      <td>NaN</td>\n",
       "    </tr>\n",
       "  </tbody>\n",
       "</table>\n",
       "<p>10 rows × 30 columns</p>\n",
       "</div>"
      ],
      "text/plain": [
       "  country_code          country_name    wb_income                   wb_region  \\\n",
       "0           ae  United Arab Emirates  High income  Middle East & North Africa   \n",
       "1           ae  United Arab Emirates  High income  Middle East & North Africa   \n",
       "2           ae  United Arab Emirates  High income  Middle East & North Africa   \n",
       "3           ae  United Arab Emirates  High income  Middle East & North Africa   \n",
       "4           ae  United Arab Emirates  High income  Middle East & North Africa   \n",
       "5           ae  United Arab Emirates  High income  Middle East & North Africa   \n",
       "6           ae  United Arab Emirates  High income  Middle East & North Africa   \n",
       "7           ae  United Arab Emirates  High income  Middle East & North Africa   \n",
       "8           ae  United Arab Emirates  High income  Middle East & North Africa   \n",
       "9           ae  United Arab Emirates  High income  Middle East & North Africa   \n",
       "\n",
       "  isic_section_index                                 isic_section_name  \\\n",
       "0                  C                                     Manufacturing   \n",
       "1                  J                     Information and communication   \n",
       "2                  J                     Information and communication   \n",
       "3                  J                     Information and communication   \n",
       "4                  J                     Information and communication   \n",
       "5                  J                     Information and communication   \n",
       "6                  M  Professional scientific and technical activities   \n",
       "7                  M  Professional scientific and technical activities   \n",
       "8                  M  Professional scientific and technical activities   \n",
       "9                  M  Professional scientific and technical activities   \n",
       "\n",
       "   industry_id          industry_name  net_per_10K_2015  net_per_10K_2016  \\\n",
       "0            1        Defense & Space            378.74            127.94   \n",
       "1            3      Computer Hardware            100.97            358.14   \n",
       "2            4      Computer Software           1079.36            848.15   \n",
       "3            5    Computer Networking            401.46            447.39   \n",
       "4            6               Internet           1840.33           1368.42   \n",
       "5            8     Telecommunications            676.91            676.11   \n",
       "6            9           Law Practice            694.50            529.50   \n",
       "7           10         Legal Services            661.10            665.65   \n",
       "8           11  Management Consulting            982.85            694.25   \n",
       "9           12          Biotechnology           1230.17            846.28   \n",
       "\n",
       "   ...  Unnamed: 20  Unnamed: 21  Unnamed: 22  Unnamed: 23  Unnamed: 24  \\\n",
       "0  ...          NaN          NaN          NaN          NaN          NaN   \n",
       "1  ...          NaN          NaN          NaN          NaN          NaN   \n",
       "2  ...          NaN          NaN          NaN          NaN          NaN   \n",
       "3  ...          NaN          NaN          NaN          NaN          NaN   \n",
       "4  ...          NaN          NaN          NaN          NaN          NaN   \n",
       "5  ...          NaN          NaN          NaN          NaN          NaN   \n",
       "6  ...          NaN          NaN          NaN          NaN          NaN   \n",
       "7  ...          NaN          NaN          NaN          NaN          NaN   \n",
       "8  ...          NaN          NaN          NaN          NaN          NaN   \n",
       "9  ...          NaN          NaN          NaN          NaN          NaN   \n",
       "\n",
       "   Unnamed: 25  Unnamed: 26  Unnamed: 27  Unnamed: 28  Unnamed: 29  \n",
       "0          NaN          NaN          NaN          NaN          NaN  \n",
       "1          NaN          NaN          NaN          NaN          NaN  \n",
       "2          NaN          NaN          NaN          NaN          NaN  \n",
       "3          NaN          NaN          NaN          NaN          NaN  \n",
       "4          NaN          NaN          NaN          NaN          NaN  \n",
       "5          NaN          NaN          NaN          NaN          NaN  \n",
       "6          NaN          NaN          NaN          NaN          NaN  \n",
       "7          NaN          NaN          NaN          NaN          NaN  \n",
       "8          NaN          NaN          NaN          NaN          NaN  \n",
       "9          NaN          NaN          NaN          NaN          NaN  \n",
       "\n",
       "[10 rows x 30 columns]"
      ]
     },
     "metadata": {},
     "output_type": "display_data"
    }
   ],
   "source": [
    "import pandas as pd\n",
    "\n",
    "url = \"https://github.com/futureCodersSE/working-with-data/blob/main/Data%20sets/public_use-talent-migration.xlsx?raw=true\"\n",
    "\n",
    "industry_migration = pd.read_excel(url, sheet_name=\"Industry Migration\")\n",
    "display (industry_migration.head(10))"
   ]
  },
  {
   "cell_type": "markdown",
   "metadata": {
    "id": "dBsdAsk43aoX"
   },
   "source": [
    "### Exercise 2 - display just two columns\n",
    "\n",
    "Display the first 50 records focusing on the industries where migration is happening in each country (show just country_name and industry_name).\n",
    "\n",
    "**Test output**:  \n",
    "Rows from 0 to 49, country_name and industry_name columns  "
   ]
  },
  {
   "cell_type": "code",
   "execution_count": null,
   "metadata": {
    "id": "rDEzOpDXvGx0"
   },
   "outputs": [],
   "source": []
  },
  {
   "cell_type": "markdown",
   "metadata": {
    "id": "ZIsrvFNjAuWE"
   },
   "source": [
    "### Exercise 3 - yearly migration\n",
    "---\n",
    "\n",
    "*   display the middle 20 records (use the shape of the dataframe to help you identify the index positions of these), showing the country_name and the migration for each of the years 2015 to 2019.  \n",
    "\n",
    "**Test output**:  \n",
    "Rows from 2637 to 2656, 6 columns (country_name and net_per_10K_ for 2015 to 2019)\n"
   ]
  },
  {
   "cell_type": "code",
   "execution_count": null,
   "metadata": {
    "id": "yXpe9SuBBloC"
   },
   "outputs": [],
   "source": []
  },
  {
   "cell_type": "markdown",
   "metadata": {
    "id": "2wfsDcuvBl7o"
   },
   "source": [
    "### Exercise 4 - migration to and from\n",
    "---\n",
    "\n",
    "The Excel file at this link (which you have already opened above): https://github.com/futureCodersSE/working-with-data/blob/main/Data%20sets/public_use-talent-migration.xlsx?raw=true has three data sheets, \"Country Migration\", \"Industry Migration\" and \"Skill Migration\"\n",
    "\n",
    "Open the data sheet \"Country Migration\" and display the first 10 records showing the country that migration was to, the country it was from and the net migration for each year from 2015 to 2019\n",
    "\n",
    "**Test output**:  \n",
    "10 rows, 7 columns"
   ]
  },
  {
   "cell_type": "code",
   "execution_count": null,
   "metadata": {
    "id": "Q2tyWrG7-UAW"
   },
   "outputs": [],
   "source": []
  },
  {
   "cell_type": "markdown",
   "metadata": {
    "id": "vb9QQv_VBHVk"
   },
   "source": [
    "### Exercise 5 - unique countries\n",
    "\n",
    "Using the \"Country Migration\" sheet, get all the unique country names from where people have migrated (base_country_name) and use a for loop to print a list of the countries.\n",
    "\n",
    "**Test output**:  \n",
    "'United Arab Emirates'  \n",
    "'Afghanistan'  \n",
    "'Albania'  \n",
    "'Armenia'  \n",
    "'Angola'  \n",
    "'Argentina'  \n",
    "'Austria'  \n",
    "'Australia'  \n",
    "'Azerbaijan'  \n",
    "'Bosnia and Herzegovina'  \n",
    "'Bangladesh'  \n",
    "...  \n",
    "...  \n",
    "'Zambia'  \n",
    "'Zimbabwe'  "
   ]
  },
  {
   "cell_type": "code",
   "execution_count": null,
   "metadata": {
    "id": "f6uCYdEHBw1f"
   },
   "outputs": [],
   "source": [
    "\n"
   ]
  },
  {
   "cell_type": "markdown",
   "metadata": {
    "id": "SQNg0Sk5FaJ3"
   },
   "source": [
    "### Exercise 6 - how many countries are migrated to\n",
    "\n",
    "Using the \"Country Migration\" sheet again, get all the unique country names to where people have migrated and display the number of unique countries.\n",
    "\n",
    "*Hint:  you can use len() for this.*\n",
    "\n",
    "**Test output**:  \n",
    "140  \n"
   ]
  },
  {
   "cell_type": "code",
   "execution_count": null,
   "metadata": {
    "id": "SCidja1FFySO"
   },
   "outputs": [],
   "source": []
  },
  {
   "cell_type": "markdown",
   "metadata": {
    "id": "qyjM39DzFy3t"
   },
   "source": [
    "### Exercise 7 - skill sets\n",
    "---\n",
    "\n",
    "\n",
    "Using the \"Skill Migration\" data sheet, display the following:\n",
    "*  the first record\n",
    "*  the last 10 records\n",
    "*  records from index 500 to index 600  \n",
    "*  a count of all unique countries\n",
    "*  a list of all unique skill group categories\n",
    "*  the first 50 skill group names and net migration in 2019\n",
    "\n",
    "**Test output**:  \n",
    "First record - index 0, 12 columns  \n",
    "Last 10 records - 10 rows (17607 to 17616), 12 columns  \n",
    "Records from 500 to 600, 12 columns  \n",
    "140 unique countries  \n",
    "Skills groups categories - array(['Tech Skills', 'Business Skills', 'Specialized Industry Skills','Disruptive Tech Skills', 'Soft Skills'], dtype=object)  \n",
    "50 rows of skills group names and net migration numbered 0 to 49   \n"
   ]
  },
  {
   "cell_type": "code",
   "execution_count": null,
   "metadata": {
    "id": "EWGy5iQHG8vA"
   },
   "outputs": [],
   "source": []
  },
  {
   "cell_type": "markdown",
   "metadata": {
    "id": "V_v89VIqG9Lq"
   },
   "source": [
    "### Exercise 8 - total net migration over 5 years\n",
    "---\n",
    "\n",
    "Using the Country Migration data sheet, display the record at position 10.  Using the column names to access the data in each column, add the five columns containing the net migration data together to calculate the total net migration over the 5 years between 2015 and 2019.\n",
    "\n",
    "**Test output**:  \n",
    "base_country_code                                   ae  \n",
    "base_country_name                 United Arab Emirates  \n",
    "base_lat                                       23.4241  \n",
    "base_long                                      53.8478  \n",
    "base_country_wb_income                     High Income  \n",
    "base_country_wb_region      Middle East & North Africa  \n",
    "target_country_code                                 by  \n",
    "target_country_name                            Belarus  \n",
    "target_lat                                     53.7098  \n",
    "target_long                                    27.9534  \n",
    "target_country_wb_income           Upper Middle Income  \n",
    "target_country_wb_region         Europe & Central Asia  \n",
    "net_per_10K_2015                                  0.12  \n",
    "net_per_10K_2016                                  0.12  \n",
    "net_per_10K_2017                                  0.11  \n",
    "net_per_10K_2018                                  0.12  \n",
    "net_per_10K_2019                                   0.1  \n",
    "Name: 10, dtype: object  \n",
    "0.57"
   ]
  },
  {
   "cell_type": "code",
   "execution_count": null,
   "metadata": {
    "id": "YTov4W2dILe2"
   },
   "outputs": [],
   "source": []
  },
  {
   "cell_type": "markdown",
   "metadata": {
    "id": "cFffYI2qJJI-"
   },
   "source": [
    "### Exercise 9 - formulating a text response\n",
    "\n",
    "Using the Industry Migration data sheet, display the record at position 100.  Using the column names again to access the data in each column, calculate net migration over the 5 years from 2015 to 2019.\n",
    "\n",
    "Then print the following message, adding the data where indicated:\n",
    "\n",
    "The total net migration into `country` of skilled workers for the `industry name` industry, during the years 2015-2019 was `total_net_migration`  \n",
    "\n",
    "**Test output**:  \n",
    "country_code                                          ae  \n",
    "country_name                        United Arab Emirates  \n",
    "wb_income                                    High income  \n",
    "wb_region                     Middle East & North Africa  \n",
    "isic_section_index                                     K  \n",
    "isic_section_name     Financial and insurance activities  \n",
    "industry_id                                          129  \n",
    "industry_name                            Capital Markets  \n",
    "net_per_10K_2015                                 1345.11  \n",
    "net_per_10K_2016                                  483.35  \n",
    "net_per_10K_2017                                  606.94  \n",
    "net_per_10K_2018                                  735.88  \n",
    "net_per_10K_2019                                  240.44  \n",
    "Name: 100, dtype: object  \n",
    "The total net migration into United Arab Emirates of skilled workers for the Capital Markets industry, during the years 2015-2019 was 3411.7200000000003  "
   ]
  },
  {
   "cell_type": "code",
   "execution_count": null,
   "metadata": {
    "id": "YfqF3sxrkdZU"
   },
   "outputs": [],
   "source": []
  },
  {
   "cell_type": "markdown",
   "metadata": {
    "id": "AGqV7ySKKadV"
   },
   "source": [
    "### Exercise 10 - five text responses\n",
    "\n",
    "Using the Industry Migration data sheet, calculate net migration (rounded to 1 decimal place) over the 5 years from 2015 to 2019 for the records at positions 1 to 5 and print the following message for each, adding the data where indicated:\n",
    "\n",
    "The total net migration into `country` of skilled workers for the `industry name` industry, during the years 2015-2019 was `total_net_migration`\n",
    "\n",
    "*Hint: use a for loop to get a record and do each calculation*  \n",
    "\n",
    "**Test output**:  \n",
    "The total net migration into United Arab Emirates of skilled workers for the Computer Hardware industry, during the years 2015-2019 was 3411.7200000000003  \n",
    "The total net migration into United Arab Emirates of skilled workers for the Computer Software industry, during the years 2015-2019 was 3411.7200000000003  \n",
    "The total net migration into United Arab Emirates of skilled workers for the Computer Networking industry, during the years 2015-2019 was 3411.7200000000003  \n",
    "The total net migration into United Arab Emirates of skilled workers for the Internet industry, during the years 2015-2019 was 3411.7200000000003  \n",
    "The total net migration into United Arab Emirates of skilled workers for the Telecommunications industry, during the years 2015-2019 was 3411.7200000000003  "
   ]
  },
  {
   "cell_type": "code",
   "execution_count": null,
   "metadata": {
    "id": "dYlVTLOGNoOO"
   },
   "outputs": [],
   "source": []
  },
  {
   "cell_type": "markdown",
   "metadata": {
    "id": "yQyytEbnZ1lw"
   },
   "source": [
    "# Reflection\n",
    "----\n",
    "\n",
    "## What skills have you demonstrated in completing this notebook?"
   ]
  },
  {
   "cell_type": "markdown",
   "metadata": {
    "id": "M9IqO6KNbSUk"
   },
   "source": [
    "Your answer: "
   ]
  },
  {
   "cell_type": "markdown",
   "metadata": {
    "id": "Zgexd27sZ1ly"
   },
   "source": [
    "## What caused you the most difficulty?"
   ]
  },
  {
   "cell_type": "markdown",
   "metadata": {
    "id": "aDYmIIcEbT7x"
   },
   "source": [
    "Your answer: "
   ]
  }
 ],
 "metadata": {
  "colab": {
   "collapsed_sections": [],
   "name": "Interrogating_dataframes.ipynb",
   "provenance": []
  },
  "kernelspec": {
   "display_name": "Python 3",
   "language": "python",
   "name": "python3"
  },
  "language_info": {
   "codemirror_mode": {
    "name": "ipython",
    "version": 3
   },
   "file_extension": ".py",
   "mimetype": "text/x-python",
   "name": "python",
   "nbconvert_exporter": "python",
   "pygments_lexer": "ipython3",
   "version": "3.8.8"
  }
 },
 "nbformat": 4,
 "nbformat_minor": 1
}
