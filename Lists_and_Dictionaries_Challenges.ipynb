{
  "nbformat": 4,
  "nbformat_minor": 0,
  "metadata": {
    "colab": {
      "name": "Lists and Dictionaries Challenges.ipynb",
      "provenance": [],
      "collapsed_sections": [],
      "include_colab_link": true
    },
    "kernelspec": {
      "name": "python3",
      "display_name": "Python 3"
    },
    "language_info": {
      "name": "python"
    }
  },
  "cells": [
    {
      "cell_type": "markdown",
      "metadata": {
        "id": "view-in-github",
        "colab_type": "text"
      },
      "source": [
        "<a href=\"https://colab.research.google.com/github/nicolej88/programming-for-data-portfolio/blob/main/Lists_and_Dictionaries_Challenges.ipynb\" target=\"_parent\"><img src=\"https://colab.research.google.com/assets/colab-badge.svg\" alt=\"Open In Colab\"/></a>"
      ]
    },
    {
      "cell_type": "markdown",
      "metadata": {
        "id": "nEJLJX3J9B2k"
      },
      "source": [
        "# Some challenges to help you become more confident with using Lists, Tuples and Dictionaries\n",
        "\n",
        "---\n",
        "\n"
      ]
    },
    {
      "cell_type": "markdown",
      "metadata": {
        "id": "JvV6htgh9Nc1"
      },
      "source": [
        "### Exercise 1 - extending a list\n",
        "\n",
        "There are three ways to extend a list in Python:  \n",
        "*  use `list_name.append(item)`, `list_name.insert(item)`\n",
        "*  concatenate two lists using the + operator (e.g. new_list = list1 + list2)\n",
        "*  use `list1_name.extend(list2_name)`\n",
        "\n",
        "The last method allows us to add all the `list2` items onto `list1` and for the new, extended list to now be `list1`.  `list2` will always be added to the end of `list1`.  \n",
        "\n",
        "If the objective is to add list2 before list1 then use `list2.extend(list1)`\n",
        "\n",
        "Write a function which will:  \n",
        "*  create a list of **years** containing the years 1960, 1970, 1980, 1990, 2000  \n",
        "*  print the list of years  \n",
        "*  calculate how long ago each year was and print the year and how long ago it was (e.g. 1990 was 30 years ago)  *(Hint:  use the datetime library to get the current year)*   \n",
        "*  create a second list, **years2** containing the years 2010 and 2020, extend `years` to include these later years\n",
        "*  create a third list, **years3** containing the years 1930, 1940 and 1950 and extend the list to include all the years between 1930 and 2020\n",
        "*  print the final list\n",
        "\n",
        "Expected output:  \n",
        "[1960, 1970, 1980, 1990]  \n",
        "1960 was 61 years ago  \n",
        "1970 was 51 years ago  \n",
        "1980 was 41 years ago  \n",
        "1990 was 31 years ago  \n",
        "2000 was 21 years ago  \n",
        "[1930, 1940, 1950, 1960, 1970, 1980, 1990, 2000, 2010, 2020] "
      ]
    },
    {
      "cell_type": "code",
      "metadata": {
        "id": "ih3xAnWu9JOp"
      },
      "source": [
        ""
      ],
      "execution_count": null,
      "outputs": []
    },
    {
      "cell_type": "code",
      "metadata": {
        "id": "QAyTVqoO8-08",
        "outputId": "e1e1c524-b912-4a49-c082-253544bdfebe",
        "colab": {
          "base_uri": "https://localhost:8080/"
        }
      },
      "source": [
        "import datetime\n",
        "\n",
        "def years_calc ():\n",
        "  years=[1960, 1970,1980,1990, 2000]\n",
        "  print (years)\n",
        "  today = datetime.datetime.now()\n",
        "  print (today)\n",
        "\n",
        "  for year in years:\n",
        "    calc = (today.year-year)\n",
        "    print (\"{} was {} years ago\" .format(year,calc))\n",
        "\n",
        "  years2 = [2010, 2020]\n",
        "  print (years2)\n",
        "  years.extend(years2) #not working\n",
        "  print (years)\n",
        "\n",
        "  years3 = [1930, 1940, 1950]\n",
        "  years3.extend(years)  #not working\n",
        "  print (years3)\n",
        "years_calc()"
      ],
      "execution_count": 26,
      "outputs": [
        {
          "output_type": "stream",
          "text": [
            "[1960, 1970, 1980, 1990, 2000]\n",
            "2021-06-22 18:58:04.169669\n",
            "1960 was 61 years ago\n",
            "1970 was 51 years ago\n",
            "1980 was 41 years ago\n",
            "1990 was 31 years ago\n",
            "2000 was 21 years ago\n",
            "[2010, 2020]\n",
            "[1960, 1970, 1980, 1990, 2000, 2010, 2020]\n",
            "[1930, 1940, 1950, 1960, 1970, 1980, 1990, 2000, 2010, 2020]\n"
          ],
          "name": "stdout"
        }
      ]
    },
    {
      "cell_type": "markdown",
      "metadata": {
        "id": "S5iPicFzBzOW"
      },
      "source": [
        "---\n",
        "### Exercise 2 - creating a dictionary from a tuple and three lists\n",
        "\n",
        "Write a function which will create a list of dictionary items using the values in a tuple as the dictionary keys and the values in three corresponding lists as the dictionary values.\n",
        "\n",
        "*  loop through the status items in the tuple called task_status\n",
        "*  for each status, loop through the list with the same name (*Hint:  you can use eval(status) to access the list with the matching name  e.g. for task in eval(status)* )\n",
        "*  each time round this second loop, create a dictionary object with the  key:value pair {status : task}\n",
        "*  add each new dictionary to a list called **project_board** that was created as an empty list before the loops  \n",
        "*  print the project_board list\n",
        "\n",
        "Expected output:  \n",
        "\n",
        "[{'assigned': 'task1'}, {'assigned': 'task2'}, {'assigned': 'task3'}, {'inprogress': 'task4'}, {'inprogress': 'task5'}, {'inprogress': 'task6'}, {'completed': 'task7'}, {'completed': 'task8'}, {'completed': 'task9'}] \n",
        "\n"
      ]
    },
    {
      "cell_type": "code",
      "metadata": {
        "id": "KXYOSHY-C7m4",
        "outputId": "bc5c07c9-fb18-425a-8287-d1ddb5943912",
        "colab": {
          "base_uri": "https://localhost:8080/"
        }
      },
      "source": [
        "def create_project_board():\n",
        "  task_status = (\"assigned\", \"inprogress\", \"completed\")\n",
        "  assigned = ['task1','task2','task3']\n",
        "  inprogress = ['task4','task5','task6']\n",
        "  completed = ['task7','task8','task9']\n",
        "  #  add your code below here\n",
        "  project_board=[]\n",
        "  status_dict = {}\n",
        "  \n",
        "\n",
        "  for status in task_status:\n",
        "    for task in eval(status):\n",
        "      project_board.append({status:task})\n",
        "  print(project_board)\n",
        "     \n",
        "create_project_board()\n"
      ],
      "execution_count": 43,
      "outputs": [
        {
          "output_type": "stream",
          "text": [
            "[{'assigned': 'task1'}, {'assigned': 'task2'}, {'assigned': 'task3'}, {'inprogress': 'task4'}, {'inprogress': 'task5'}, {'inprogress': 'task6'}, {'completed': 'task7'}, {'completed': 'task8'}, {'completed': 'task9'}]\n"
          ],
          "name": "stdout"
        }
      ]
    },
    {
      "cell_type": "markdown",
      "metadata": {
        "id": "M1BuTu9p19Ma"
      },
      "source": [
        "---\n",
        "### Exercise 3 - names and heights\n",
        "\n",
        "Write a function which will allow a user to enter the names and heights of a set of people and add each set of information as a record (dictionary) to a list. The function will stop collecting names and heights when the user enters \"STOP\" as the name.\n",
        "\n",
        "Then, the function will:  \n",
        "\n",
        "*   produce a list of names in order of the shortest person to the tallest\n",
        "*   calculate the name of the tallest person\n",
        "*   calculate the name of the shortest person\n",
        "*   calculate the average height\n",
        "*   calculate the name of the person who is closest to the average height\n",
        "\n",
        "\n",
        "\n",
        "\n"
      ]
    },
    {
      "cell_type": "code",
      "metadata": {
        "id": "reuyww3e18uv",
        "outputId": "f33d2704-90d8-4457-f5fe-8c1267d49984",
        "colab": {
          "base_uri": "https://localhost:8080/"
        }
      },
      "source": [
        "\"\"\" \n",
        "Code does not set the height to be an int/float and name a str currently.\n",
        "\"\"\"\n",
        "\n",
        "def names_and_heights():\n",
        "  #list \n",
        "  nameHeight = []\n",
        "  # Create loop\n",
        "  while True:\n",
        "    #get user name\n",
        "    name = input('Please enter name. Script will stop if you enter \\'STOP\\' - Case Sensitive: ')  #\\' is a character break to allow you to put a apostrophy in an apostrophy \\ alone allows you in code to break to new line\n",
        "    # add the set to the list if name not stop\n",
        "    try:\n",
        "      if name != 'STOP':\n",
        "        #get user height\n",
        "        height = input('Please enter height: ')\n",
        "        nameHeight.append({'name':name,'height':height})\n",
        "      else:\n",
        "        # do the print statement queries\n",
        "        # names of people shortest to largest but keeping in list \n",
        "        nameHeight.sort(key=lambda item: item.get(\"height\"))\n",
        "        \n",
        "        # last value in list [* unpacks dict]\n",
        "        name = [*nameHeight][-1]\n",
        "        nameTallestPerson = 'Tallest person is called: {}.'.format([*name.values()][0])  \n",
        "        \n",
        "        # first value in list\n",
        "        name1 = [*nameHeight][0]\n",
        "        nameShortestPerson = 'Shortest person is called: {}.'.format([*name1.values()][0])  \n",
        "        \n",
        "        name2 = [*nameHeight][int(len(nameHeight)/2)]\n",
        "        averageHeightPerson = 'Average person is called: {}.'.format([*name2.values()][0])\n",
        "        print(nameHeight,'\\n', nameTallestPerson ,'\\n', nameShortestPerson ,'\\n', averageHeightPerson)\n",
        "        return nameHeight,name1,name2,name3\n",
        "    except:\n",
        "      #break the loop as now done the return statement in the try\n",
        "      break\n",
        "\n",
        "\n",
        "#run\n",
        "names_and_heights()"
      ],
      "execution_count": 87,
      "outputs": [
        {
          "output_type": "stream",
          "text": [
            "Please enter name. Script will stop if you enter 'STOP' - Case Sensitive: t\n",
            "Please enter height: 1\n",
            "Please enter name. Script will stop if you enter 'STOP' - Case Sensitive: b\n",
            "Please enter height: 4\n",
            "Please enter name. Script will stop if you enter 'STOP' - Case Sensitive: n\n",
            "Please enter height: 2\n",
            "Please enter name. Script will stop if you enter 'STOP' - Case Sensitive: STOP\n",
            "[{'name': 't', 'height': '1'}, {'name': 'n', 'height': '2'}, {'name': 'b', 'height': '4'}] \n",
            " Tallest person is called: b. \n",
            " Shortest person is called: t. \n",
            " Average person is called: n.\n"
          ],
          "name": "stdout"
        }
      ]
    }
  ]
}