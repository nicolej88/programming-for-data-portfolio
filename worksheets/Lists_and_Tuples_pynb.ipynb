{
  "nbformat": 4,
  "nbformat_minor": 0,
  "metadata": {
    "colab": {
      "name": "Lists and Tuples.pynb",
      "provenance": [],
      "collapsed_sections": [],
      "include_colab_link": true
    },
    "kernelspec": {
      "name": "python3",
      "display_name": "Python 3"
    },
    "language_info": {
      "name": "python"
    }
  },
  "cells": [
    {
      "cell_type": "markdown",
      "metadata": {
        "id": "view-in-github",
        "colab_type": "text"
      },
      "source": [
        "<a href=\"https://colab.research.google.com/github/nicolej88/programming-for-data-portfolio/blob/main/worksheets/Lists_and_Tuples_pynb.ipynb\" target=\"_parent\"><img src=\"https://colab.research.google.com/assets/colab-badge.svg\" alt=\"Open In Colab\"/></a>"
      ]
    },
    {
      "cell_type": "markdown",
      "metadata": {
        "id": "Z-M-RCWATK71"
      },
      "source": [
        "# Lists and tuples\n",
        "\n",
        "Often we need to store a number of single items of data together so that they can be processed together. This might be because all the data refers to one person (e.g. name, age, gender, etc) OR it might be because we have a set of data (e.g. all the items that should be displayed in a drop down list, such as all the years from this year back to 100 years ago so that someone can select their year of birth)\n",
        "\n",
        "Python has a range of data structures available including:\n",
        "*   lists  \n",
        "*   tuples  \n",
        "*   dictionaries  \n",
        "*   sets\n",
        "\n",
        "This worksheet looks at lists and tuples.\n",
        "\n",
        "## List\n",
        "A list is a set of related, individual data objects, that are indexed and can be processed as a whole, as subsets or as individual items.  Lists are stored, essentially, as contiguous items in memory so that access can be as quick as possible.  However, they are mutable (they can be changed after they are created and stored) and so those mechanisms need to include extra functionality to deal with changing list sizes.\n",
        "\n",
        "## Tuple\n",
        "Essentially the same as a list but it is immutable.  Once it has been created it can't be changed.  It is stored in memory as contiguous items, with the size required being fixed right from the start.  This makes it faster to access.\n",
        "\n",
        "The code below will create two lists and a tuple.\n",
        "*   the first list contains 1000 random numbers between 1 and 100\n",
        "*   the second list is of random length (up to 5000) and each item is one of the 9 characteristics that are protected under the Equality Act in the UK.\n",
        "*   the tuple contains the 9 protected characteristics\n",
        "\n",
        "**Before you start the exercises, run the code below.**  It will generate the lists and tuple so that you can use them in the exercises.  If you need to recreate the lists again (because you have changed them and need to work on the originals, just run this cell again).\n",
        "\n",
        "***Note:***  *a list variable contains a reference to the start of the list in memory, rather than storing the list itself.  This means that if you assign the list to another variable (to make a copy), it will only copy across the reference.  If you change the copy, you change the original list.*\n",
        "\n",
        "*If you need to make a copy of the list you will need to use a loop to create a new list and copy all items across.*"
      ]
    },
    {
      "cell_type": "code",
      "metadata": {
        "id": "BDRckXeQXFMT"
      },
      "source": [
        "### RUN THIS CODE EVERYTIME YOU NEED LISTS TO WORK WITH IN THE EXERCISES BELOW ###\n",
        "from random import randint, choice\n",
        "\n",
        "def get_num_list():\n",
        "  num_list = [randint(1,100) for n in range(1000)]\n",
        "  return num_list\n",
        "\n",
        "def get_protected_characteristics():\n",
        "  characteristics_tuple = ('age','disability','gender reassignment','marriage and civil partnership','pregnancy and maternity','race','religion or belief','sex','sexual orientation')\n",
        "  return characteristics_tuple\n",
        "\n",
        "def get_protected_characteristic_list(protected_characteristics):\n",
        "  char_list = [choice(protected_characteristics) for ch in range(randint(1,5000))]\n",
        "  return char_list\n",
        "\n",
        "nums = get_num_list()\n",
        "protected_characteristics = get_protected_characteristics()\n",
        "characteristics = get_protected_characteristic_list(protected_characteristics)"
      ],
      "execution_count": 32,
      "outputs": []
    },
    {
      "cell_type": "markdown",
      "metadata": {
        "id": "xXT38-4ZV45n"
      },
      "source": [
        "## The exercises below will use the lists:  \n",
        "*   **nums** (a list of between 1 and 1000 random numbers, each number is between 0 and 1000)\n",
        "*   **characteristics** (a list of 5000 random protected_characteristics)\n",
        "\n",
        "and the tuple:\n",
        "*  **protected_characteristics** (a set of the 9 protected characteristics identified in the Equality Act)\n",
        "\n",
        "## You can run the cell above any number of times to generate new lists."
      ]
    },
    {
      "cell_type": "markdown",
      "metadata": {
        "id": "Ft0dXl7fUuaK"
      },
      "source": [
        "---\n",
        "### Exercise 1 - list head, tail and shape\n",
        "\n",
        "Write a function, **describe_list()** which will:\n",
        "*  print the length of the list `nums`\n",
        "*  print the first 10 items in `nums`  \n",
        "*  print the last 5 items in `nums`  \n",
        "\n",
        "*Expected output*:  \n",
        "The length of nums is *552* (note: 552 is an example - the number will be between 1 and 1000)    \n",
        "First 10 items: [a list of 10 characteristics]  \n",
        "Last 5 items: [a list of 5 characteristics]\n"
      ]
    },
    {
      "cell_type": "code",
      "metadata": {
        "id": "jUcZD7mmTJdA",
        "colab": {
          "base_uri": "https://localhost:8080/"
        },
        "outputId": "c7211cee-4706-4ec7-89d6-74cf223073f0"
      },
      "source": [
        "\n",
        "def describe_list(nums):\n",
        "  print (\"The length of nums is \"+ str(len(nums)))\n",
        "  print (nums[:10])\n",
        "  print (nums[-5:])\n",
        "\n",
        "describe_list(nums)\n"
      ],
      "execution_count": 36,
      "outputs": [
        {
          "output_type": "stream",
          "text": [
            "The length of nums is 1000\n",
            "[35, 86, 50, 81, 80, 29, 97, 86, 100, 42]\n",
            "[51, 48, 27, 57, 86]\n"
          ],
          "name": "stdout"
        }
      ]
    },
    {
      "cell_type": "markdown",
      "metadata": {
        "id": "yNWg08k6bXv0"
      },
      "source": [
        "---\n",
        "### Exercise 2 - show tuple items\n",
        "\n",
        "Write a function which will:\n",
        "*   use a loop to print the list of protected characteristics from the `protected_characteristics` tuple.  \n",
        "\n",
        "*Expected output*:  \n",
        "age  \n",
        "disability  \n",
        "gender reassignment  \n",
        "marriage and civil partnership  \n",
        "pregnancy and maternity  \n",
        "race  \n",
        "religion or belief  \n",
        "sex  \n",
        "sexual orientation  \n"
      ]
    },
    {
      "cell_type": "code",
      "metadata": {
        "id": "P2HnCG9pb1BS",
        "colab": {
          "base_uri": "https://localhost:8080/"
        },
        "outputId": "b456e662-458f-4341-fb9d-7b4afff62d9e"
      },
      "source": [
        "\n",
        "for item in protected_characteristics:\n",
        "  print (item)\n",
        "\n",
        "\n"
      ],
      "execution_count": 81,
      "outputs": [
        {
          "output_type": "stream",
          "text": [
            "age\n",
            "disability\n",
            "gender reassignment\n",
            "marriage and civil partnership\n",
            "pregnancy and maternity\n",
            "race\n",
            "religion or belief\n",
            "sex\n",
            "sexual orientation\n"
          ],
          "name": "stdout"
        }
      ]
    },
    {
      "cell_type": "markdown",
      "metadata": {
        "id": "RTSuQZs4b1JU"
      },
      "source": [
        "---\n",
        "### Exercise 3 - display items in the middle\n",
        "\n",
        "Write a function which will:\n",
        "*  calculate the position of the middle item in the `characteristics` list   \n",
        "(*Hint: use len() to help with this*)\n",
        "*  calculate the position of the item that is 5 places before the middle item\n",
        "*  calculate the position of the item that is 5 places after the middle item\n",
        "*  print the part of the list that includes the items from 5 places before to 5 places after.  \n",
        "\n",
        "*Expected output*:  \n",
        "Your list will include 10 items.  "
      ]
    },
    {
      "cell_type": "code",
      "metadata": {
        "id": "OwhFnH2kdC11",
        "colab": {
          "base_uri": "https://localhost:8080/"
        },
        "outputId": "00e49886-923a-43a5-cefa-3122915025fa"
      },
      "source": [
        "def get_middle_item(characteristics):\n",
        "  \n",
        "  middle=(round(len(characteristics)-1)/2)\n",
        "\n",
        "  print (middle)\n",
        "  #probably not how it should be done, correct 50% of time. \n",
        "\n",
        "\n",
        "get_middle_item(characteristics)"
      ],
      "execution_count": 42,
      "outputs": [
        {
          "output_type": "stream",
          "text": [
            "2225.5\n"
          ],
          "name": "stdout"
        }
      ]
    },
    {
      "cell_type": "markdown",
      "metadata": {
        "id": "KS0x3oFNePI9"
      },
      "source": [
        "---\n",
        "### Exercise 4 - create a copy\n",
        "\n",
        "Write a function which will: use a for loop to create a copy of the `nums` list:\n",
        "\n",
        "*   create a new, empty, list called **new_nums**  (*Hint: an empty list is [ ]*)\n",
        "*   use a for loop which uses the following syntax:  `for num in nums:`\n",
        "*   each time round the loop append `num` to `new_nums`  ( *`new_nums.append(num)`*)\n",
        "*   print the first 10 items of `new_nums`\n",
        "*   print the first 10 items of `nums`\n",
        "*   print the length of both lists\n",
        "\n",
        "*Example expected output*:  \n",
        "[34, 3, 16, 3, 79, 33, 98, 24, 48, 8]  \n",
        "[34, 3, 16, 3, 79, 33, 98, 24, 48, 8]  \n",
        "Length of new_nums: 1000 Length of nums: 1000  "
      ]
    },
    {
      "cell_type": "code",
      "metadata": {
        "id": "mpK1Ip3we-uC",
        "colab": {
          "base_uri": "https://localhost:8080/"
        },
        "outputId": "55c97e15-eddf-4989-febc-4574a0b94885"
      },
      "source": [
        "new_nums=[]\n",
        "\n",
        "def copy_list(nums):\n",
        "  \n",
        "  for num in nums:\n",
        "   new_nums.append(num)\n",
        "  print (new_nums[0:10])\n",
        "  print (nums[0:10])\n",
        "  print (\"length of new nums {}: Length of nums: {}\" .format(len(new_nums), len(nums)))\n",
        "\n",
        "copy_list(nums)\n",
        "\n",
        "\n",
        "\n"
      ],
      "execution_count": 28,
      "outputs": [
        {
          "output_type": "stream",
          "text": [
            "[95, 77, 10, 9, 49, 64, 30, 72, 100, 59]\n",
            "[95, 77, 10, 9, 49, 64, 30, 72, 100, 59]\n",
            "length of new nums 1000: Length of nums: 1000\n"
          ],
          "name": "stdout"
        }
      ]
    },
    {
      "cell_type": "markdown",
      "metadata": {
        "id": "deUIFWjRe-3G"
      },
      "source": [
        "### Exercise 5 - count the occurrence of age in characteristics\n",
        "\n",
        "---\n",
        "\n",
        "Write a function which will use the list method:\n",
        "\n",
        "`list_name.count(item)`\n",
        "\n",
        "to count the number of occurrences of 'age' in the `characteristics` list.\n",
        "\n",
        "Print the result.\n",
        "\n",
        "*Example expected output*:  \n",
        "Number of times age appears in list: 42"
      ]
    },
    {
      "cell_type": "code",
      "metadata": {
        "id": "b9TrHQ9hfoIU",
        "colab": {
          "base_uri": "https://localhost:8080/"
        },
        "outputId": "467c8ade-c0fe-41ab-9f26-f1c25eab73ee"
      },
      "source": [
        "def count_characteristics(characteristics):\n",
        "  print (characteristics.count(\"age\"))\n",
        "\n",
        "count_characteristics(characteristics)\n",
        "\n",
        "\n"
      ],
      "execution_count": 32,
      "outputs": [
        {
          "output_type": "stream",
          "text": [
            "5\n"
          ],
          "name": "stdout"
        }
      ]
    },
    {
      "cell_type": "markdown",
      "metadata": {
        "id": "zm2VI5RmfoSy"
      },
      "source": [
        "---\n",
        "### Exercise 6 - sort the nums list\n",
        "\n",
        "Write a function which will:\n",
        "*   call the function `get_num_list()` and store the result in a new list called **sort_nums**\n",
        "*   print the first, and last, 10 items in the `sort_nums` list\n",
        "*   use the `list_name.sort()` method to sort the `sort_nums` list into ascending order\n",
        "*   print the first, and last, 10 items again  \n",
        "*   use the `list_name.sort()` method again to sort the `sort_nums` list into descending order\n",
        "*   print the first, and last, 10 items again  \n",
        "\n",
        "*Example expected output*:  \n",
        "Unsorted [94, 95, 54, 75, 87, 32, 55, 15, 37, 30] ....... [91, 92, 40, 83, 37, 82, 78, 82, 80, 9]  \n",
        "Ascending [1, 1, 1, 1, 1, 1, 1, 2, 2, 2] ....... [99, 99, 99, 100, 100, 100, 100, 100, 100, 100]  \n",
        "Descending [100, 100, 100, 100, 100, 100, 100, 99, 99, 99] ....... [2, 2, 2, 1, 1, 1, 1, 1, 1, 1]  "
      ]
    },
    {
      "cell_type": "code",
      "metadata": {
        "id": "Fksgpj9JgWDs",
        "colab": {
          "base_uri": "https://localhost:8080/"
        },
        "outputId": "e5b21d8c-bc68-41b9-92cb-e1d556ae5d2b"
      },
      "source": [
        " def  sort_nums_list():\n",
        "  sort_nums=get_num_list()\n",
        "  print (sort_nums[0:10],sort_nums[-10:])\n",
        "  sort_nums.sort()\n",
        "  print (sort_nums[0:10],sort_nums[-10:])\n",
        "  sort_nums.sort(reverse=True)\n",
        "  print (sort_nums[0:10],sort_nums[-10:])\n",
        "sort_nums_list()"
      ],
      "execution_count": 62,
      "outputs": [
        {
          "output_type": "stream",
          "text": [
            "[64, 4, 78, 37, 70, 60, 41, 90, 25, 35] [54, 50, 77, 72, 36, 70, 4, 1, 51, 93]\n",
            "[1, 1, 1, 1, 1, 1, 1, 2, 2, 2] [100, 100, 100, 100, 100, 100, 100, 100, 100, 100]\n",
            "[100, 100, 100, 100, 100, 100, 100, 100, 100, 100] [2, 2, 2, 1, 1, 1, 1, 1, 1, 1]\n"
          ],
          "name": "stdout"
        }
      ]
    },
    {
      "cell_type": "markdown",
      "metadata": {
        "id": "_OF-Xuj1UrW0"
      },
      "source": [
        "---\n",
        "### Exercise 7 - get statistics (max(), min(), sum() )\n",
        "\n",
        "Write a function which will:\n",
        "*   print the maximum and minimum numbers in the `nums` list  \n",
        "*   print the sum of the `nums` list\n",
        "*   calculate and print the average of the `nums` list (using `len()` to help)  \n",
        "\n",
        "*Example expected output*:  \n",
        "Maximum: 100 Minimum: 1  \n",
        "Sum 49750  \n",
        "Average 49.75   \n"
      ]
    },
    {
      "cell_type": "code",
      "metadata": {
        "id": "9YmYMenZVGod",
        "colab": {
          "base_uri": "https://localhost:8080/"
        },
        "outputId": "5e9e72a2-0342-48be-ad89-1ce518241528"
      },
      "source": [
        "def get_max_min(nums):\n",
        "  maximum = max(nums)\n",
        "  print (\"Maximum: {}\" .format(maximum)),\n",
        "  minimum = min(nums)\n",
        "  print (\"Minimum: {}\" .format(minimum))\n",
        "\n",
        "  #don't know why this isn't working\n",
        "  sum_list=sum(nums)\n",
        "  print (sum)\n",
        "  #ehhh\n",
        "  average = sum_list/(int(len(nums)))\n",
        "  print (\"Average {}\" .format(average))\n",
        "\n",
        "get_max_min(nums)\n",
        " \n"
      ],
      "execution_count": 6,
      "outputs": [
        {
          "output_type": "stream",
          "text": [
            "Maximum: 100\n",
            "Minimum: 1\n",
            "<built-in function sum>\n",
            "Average 50.605\n"
          ],
          "name": "stdout"
        }
      ]
    },
    {
      "cell_type": "markdown",
      "metadata": {
        "id": "Mn4tHQ_KVbHa"
      },
      "source": [
        "---\n",
        "### Exercise 8 - percentage difference\n",
        "\n",
        "Write a function which will:\n",
        "*   generate a new list called **ex8_nums** using `get_num_list()`\n",
        "*   calculate and print the percentage difference between the first number in each list (as a percentage of the number in the nums list) (Hint:  find the difference between the two numbers, divide the difference by the number in `nums` and multiply by 100 - and use abs to ensure that the number is always positive)\n",
        "*   calculate and print the percentage difference between the last numbers in each list in the same way\n",
        "*   calculate and print the percentage difference between the middle numbers in each list in the same way.\n",
        "*   calculate and print the percentage difference between the sums of each list in the same way\n",
        "\n",
        "*Example expected output*:  \n",
        "First number difference 0.59 %  \n",
        "Last number difference 0.97 %  \n",
        "Middle number difference 0.65 %  \n",
        "Sum number difference 0.01 %  "
      ]
    },
    {
      "cell_type": "code",
      "metadata": {
        "id": "nJCQjZIeZL0e",
        "colab": {
          "base_uri": "https://localhost:8080/"
        },
        "outputId": "71b5f279-7c4c-400d-a610-b81b769e097f"
      },
      "source": [
        "\n",
        "def percentage_diff_list(get_num_list):\n",
        "  ex8_nums = get_num_list()\n",
        "\n",
        " # print (ex8_nums[0], nums[0])\n",
        " # used as manual check\n",
        "  firstNumber = ((nums[0]-ex8_nums[0])/nums[0])*100\n",
        "  print('First number difference {} %'.format(firstNumber))\n",
        "  lastNumber = ((nums[-1]-ex8_nums[-1])/nums[-1])*100\n",
        "  print('Last number difference {} %'.format(lastNumber))  \n",
        "\n",
        "\n",
        "  #mid_ex8_nums= len(ex8_nums)/2\n",
        "  #mid_nums= len(nums)/2\n",
        "  #middlenumber = ((ex8_nums[mid_ex8_nums]-nums[mid_nums])/nums[mid_nums])*100 \n",
        "  #print('Middle number difference {} %'.format(middlenumber)) \n",
        "  #should list be sorted and middle value taken, see below. should data be sorted beforehand?\n",
        "\n",
        "\n",
        "\n",
        "  sorted_nums= nums.sort()\n",
        "  sorted_ex8_nums= ex8_nums.sort()\n",
        " #code sorts list\n",
        "\n",
        "  mid_Value_nums = nums[int(len(nums)/2)]\n",
        "  #print (mid_Value_nums) used as manual check\n",
        "  mid_Value_ex8_nums = ex8_nums[int(len(ex8_nums)/2)]\n",
        "  #print (mid_Value_ex8_nums) used a check\n",
        "  middleNumber = ((mid_Value_nums-mid_Value_ex8_nums)/mid_Value_nums)*100\n",
        "  print('Middle number difference {} %'.format(middleNumber)) \n",
        "\n",
        "  sum_nums=sum(nums)\n",
        "  sum_ex8_nums=sum(ex8_nums)\n",
        "#sum of each list\n",
        "  sumNumber = ((mid_Value_nums-mid_Value_ex8_nums)/mid_Value_nums)*100\n",
        "  print('Sum number difference {} %'.format(sumNumber)) \n",
        "\n",
        "\n",
        "percentage_diff_list(get_num_list)"
      ],
      "execution_count": 61,
      "outputs": [
        {
          "output_type": "stream",
          "text": [
            "First number difference -800.0 %\n",
            "Last number difference 31.0 %\n",
            "Middle number difference 4.0 %\n",
            "Sum number difference 4.0 %\n"
          ],
          "name": "stdout"
        }
      ]
    },
    {
      "cell_type": "markdown",
      "metadata": {
        "id": "HNs3lZmYawFO"
      },
      "source": [
        "---\n",
        "### Exercise 9 - characteristic counts\n",
        "\n",
        "Write a function which will:\n",
        "*  iterate through the `protected_characteristics` tuple and for each **characteristic**:\n",
        "*   *   count the number of occurrences of that `characteristic` in the `characteristics` list\n",
        "*   *   print the `protected_characteristic` and the **count**    \n",
        "  \n",
        "*Example expected output*:\n",
        "\n",
        "age 100  \n",
        "disability 120  \n",
        "gender reassignment 120  \n",
        "marriage and civil partnership 111  \n",
        "pregnancy and maternity 103  \n",
        "race 106  \n",
        "religion or belief 95  \n",
        "sex 110  \n",
        "sexual orientation 113  \n",
        "\n",
        "Extra learning:  you can read [here](https://thispointer.com/python-how-to-pad-strings-with-zero-space-or-some-other-character/) how to justify the printed characteristic so that the output is organised into two columns as shown below:  \n",
        "![tabulated output](https://drive.google.com/uc?id=1CCXfX6K5ZeDefnq7vUsqxCDmqvcfY8Mz)\n",
        "\n",
        "\n",
        "\n"
      ]
    },
    {
      "cell_type": "code",
      "metadata": {
        "id": "GURT11albqUs",
        "colab": {
          "base_uri": "https://localhost:8080/"
        },
        "outputId": "6b474345-105b-4981-c373-7194984bb6d1"
      },
      "source": [
        "def characteristic_counts(protected_characteristics):\n",
        "  # get a list of unique values from protected_characteristics\n",
        "  # set brings a unique list of set, list makes list = you can jsut leave as a set\n",
        "  unique = list(set(protected_characteristics))\n",
        "  # print the headers\n",
        "  print (unique)\n",
        "  for item in unique:\n",
        "    count = protected_characteristics.count(item)\n",
        "    print ('{} {}'.format(item, count))\n",
        "\n",
        "\n",
        "characteristic_counts(protected_characteristics)\n"
      ],
      "execution_count": 71,
      "outputs": [
        {
          "output_type": "stream",
          "text": [
            "['age', 'religion or belief', 'marriage and civil partnership', 'pregnancy and maternity', 'sex', 'gender reassignment', 'sexual orientation', 'race', 'disability']\n",
            "age 1\n",
            "religion or belief 1\n",
            "marriage and civil partnership 1\n",
            "pregnancy and maternity 1\n",
            "sex 1\n",
            "gender reassignment 1\n",
            "sexual orientation 1\n",
            "race 1\n",
            "disability 1\n"
          ],
          "name": "stdout"
        }
      ]
    },
    {
      "cell_type": "markdown",
      "metadata": {
        "id": "9Po7yQj-ds38"
      },
      "source": [
        "---\n",
        "### Exercise 10 - characteristics statistics\n",
        "\n",
        "Assuming that the `characteristics` list may have been taken from a study of cases that have been taken to court in relation to the Equality Act.  \n",
        "\n",
        "Write a function which will:\n",
        "\n",
        "*   find the most common characteristic resulting in court action, from this population\n",
        "*   print this in a message, e.g. The characteristic with the highest number of court cases is:  *characteristic*\n",
        "*   print the list of `protected_characteristics`, on one line if possible - see [here](https://www.geeksforgeeks.org/g-fact-25-print-single-multiple-variable-python/)\n",
        "*   ask the user to enter a characteristic that they would like to see statistics on and use a while loop to continue until the user has entered a valid characteristic\n",
        "*   print the characteristic, its frequency and the percentage that this frequency is of the whole population.\n",
        "\n",
        "*Test input*:  \n",
        "maternity and pregnancy\n",
        "\n",
        "*Example expected output*:  \n",
        "The characteristic with the highest number of court cases is: sex  \n",
        "Protected characteristics:  age disability gender reassignment marriage and civil partnership pregnancy and maternity race religion or belief sex sexual orientation   \n",
        "Which characteristic would you like to see statistics on? marriage  \n",
        "Which characteristic would you like to see statistics on? age  \n",
        "age 473 10.97 %  \n"
      ]
    },
    {
      "cell_type": "code",
      "metadata": {
        "id": "uk_I5z7UgbDs",
        "colab": {
          "base_uri": "https://localhost:8080/"
        },
        "outputId": "ff6dd6b4-4dcd-4162-d29a-758a69506ffa"
      },
      "source": [
        "from statistics import mode\n",
        "\n",
        "def most_common(characteristics):\n",
        " print (\"The characteristic with the highest number of court cases is {}.\\n\".format(mode(characteristics)))\n",
        "#mode  = most common, will only work if 1 element most common.\n",
        " print(*characteristics, end=' ')\n",
        "most_common(characteristics)"
      ],
      "execution_count": 70,
      "outputs": [
        {
          "output_type": "stream",
          "text": [
            "The characteristic with the highest number of court cases is sexual orientation.\n",
            "\n",
            "marriage and civil partnership pregnancy and maternity gender reassignment gender reassignment race pregnancy and maternity religion or belief sex age pregnancy and maternity age gender reassignment sex marriage and civil partnership disability marriage and civil partnership disability race age pregnancy and maternity marriage and civil partnership religion or belief gender reassignment race gender reassignment race sexual orientation marriage and civil partnership pregnancy and maternity religion or belief sexual orientation age disability sexual orientation age gender reassignment religion or belief gender reassignment pregnancy and maternity religion or belief marriage and civil partnership pregnancy and maternity sexual orientation marriage and civil partnership sex disability religion or belief gender reassignment sex pregnancy and maternity pregnancy and maternity religion or belief age marriage and civil partnership age sex marriage and civil partnership sexual orientation gender reassignment race marriage and civil partnership marriage and civil partnership sexual orientation gender reassignment marriage and civil partnership marriage and civil partnership race religion or belief marriage and civil partnership sex disability marriage and civil partnership age age religion or belief disability sex marriage and civil partnership age race race age pregnancy and maternity pregnancy and maternity disability sexual orientation religion or belief pregnancy and maternity gender reassignment sexual orientation race gender reassignment age sex disability gender reassignment age sexual orientation gender reassignment sexual orientation sexual orientation sex religion or belief religion or belief marriage and civil partnership sexual orientation disability age race sex sex religion or belief sex pregnancy and maternity pregnancy and maternity marriage and civil partnership marriage and civil partnership age marriage and civil partnership gender reassignment disability sexual orientation sex sex disability age pregnancy and maternity race pregnancy and maternity marriage and civil partnership race religion or belief gender reassignment age age disability marriage and civil partnership sex race age marriage and civil partnership sexual orientation pregnancy and maternity marriage and civil partnership gender reassignment religion or belief gender reassignment sexual orientation race marriage and civil partnership sexual orientation pregnancy and maternity race sexual orientation pregnancy and maternity disability disability gender reassignment sexual orientation race pregnancy and maternity pregnancy and maternity sexual orientation race disability sexual orientation pregnancy and maternity marriage and civil partnership sexual orientation religion or belief gender reassignment race sex marriage and civil partnership sex religion or belief age religion or belief marriage and civil partnership religion or belief gender reassignment sex race pregnancy and maternity religion or belief sexual orientation gender reassignment race sex sexual orientation sex race race religion or belief pregnancy and maternity age sex marriage and civil partnership religion or belief age pregnancy and maternity religion or belief race marriage and civil partnership gender reassignment race sexual orientation marriage and civil partnership pregnancy and maternity pregnancy and maternity gender reassignment disability race sexual orientation marriage and civil partnership disability sexual orientation sex age race disability pregnancy and maternity disability sexual orientation religion or belief gender reassignment sexual orientation pregnancy and maternity disability sexual orientation sexual orientation race religion or belief sexual orientation gender reassignment religion or belief gender reassignment pregnancy and maternity gender reassignment religion or belief disability marriage and civil partnership religion or belief sex marriage and civil partnership religion or belief religion or belief gender reassignment disability age sex marriage and civil partnership race pregnancy and maternity age religion or belief disability sex sex gender reassignment marriage and civil partnership disability sexual orientation disability pregnancy and maternity marriage and civil partnership disability disability age marriage and civil partnership gender reassignment sex pregnancy and maternity gender reassignment sexual orientation sex sexual orientation religion or belief disability pregnancy and maternity race marriage and civil partnership gender reassignment pregnancy and maternity age age sex religion or belief sexual orientation sexual orientation race age sexual orientation marriage and civil partnership sex marriage and civil partnership disability disability pregnancy and maternity religion or belief disability marriage and civil partnership sex pregnancy and maternity gender reassignment pregnancy and maternity age sexual orientation sexual orientation disability race gender reassignment disability pregnancy and maternity sexual orientation religion or belief disability religion or belief age disability marriage and civil partnership age disability pregnancy and maternity gender reassignment race sex age sexual orientation disability religion or belief gender reassignment disability religion or belief race religion or belief gender reassignment sexual orientation gender reassignment marriage and civil partnership age race age sexual orientation sex age race marriage and civil partnership religion or belief marriage and civil partnership sexual orientation gender reassignment sex gender reassignment pregnancy and maternity disability marriage and civil partnership sex disability sex pregnancy and maternity sexual orientation age disability sexual orientation religion or belief religion or belief age age marriage and civil partnership age marriage and civil partnership gender reassignment disability gender reassignment sex disability age disability gender reassignment disability gender reassignment disability age gender reassignment pregnancy and maternity sexual orientation sexual orientation sex marriage and civil partnership sex sexual orientation gender reassignment race sexual orientation religion or belief sexual orientation gender reassignment gender reassignment disability age age religion or belief race sexual orientation sexual orientation religion or belief age age religion or belief sex sexual orientation race sex marriage and civil partnership marriage and civil partnership gender reassignment disability pregnancy and maternity sexual orientation age disability disability marriage and civil partnership pregnancy and maternity disability race marriage and civil partnership disability race disability sex sexual orientation sex marriage and civil partnership age marriage and civil partnership age sex pregnancy and maternity disability pregnancy and maternity religion or belief disability age disability religion or belief age gender reassignment marriage and civil partnership race marriage and civil partnership pregnancy and maternity age race marriage and civil partnership race disability race gender reassignment age pregnancy and maternity age race disability age religion or belief race race marriage and civil partnership pregnancy and maternity race age age disability gender reassignment marriage and civil partnership disability marriage and civil partnership sex gender reassignment religion or belief age sexual orientation gender reassignment sex marriage and civil partnership marriage and civil partnership sexual orientation sexual orientation age sexual orientation pregnancy and maternity age sexual orientation pregnancy and maternity sexual orientation religion or belief marriage and civil partnership sex age age marriage and civil partnership disability marriage and civil partnership religion or belief religion or belief religion or belief religion or belief disability age sex pregnancy and maternity disability sexual orientation race race gender reassignment disability religion or belief marriage and civil partnership sex pregnancy and maternity pregnancy and maternity disability race race pregnancy and maternity race sex gender reassignment gender reassignment religion or belief gender reassignment gender reassignment marriage and civil partnership disability sex sex pregnancy and maternity gender reassignment sex sexual orientation pregnancy and maternity disability religion or belief sexual orientation disability race marriage and civil partnership race age race sexual orientation pregnancy and maternity sex marriage and civil partnership race marriage and civil partnership sex marriage and civil partnership sexual orientation pregnancy and maternity sexual orientation age sex disability race disability sex age gender reassignment marriage and civil partnership disability marriage and civil partnership sexual orientation sexual orientation sex marriage and civil partnership sexual orientation age sex race race sexual orientation age gender reassignment age religion or belief gender reassignment gender reassignment pregnancy and maternity religion or belief pregnancy and maternity race disability religion or belief marriage and civil partnership sex sexual orientation disability disability age gender reassignment pregnancy and maternity age religion or belief disability race gender reassignment marriage and civil partnership disability pregnancy and maternity religion or belief marriage and civil partnership sex marriage and civil partnership pregnancy and maternity disability race age marriage and civil partnership pregnancy and maternity gender reassignment pregnancy and maternity gender reassignment gender reassignment sex sexual orientation sexual orientation sex sexual orientation marriage and civil partnership sexual orientation pregnancy and maternity race race gender reassignment pregnancy and maternity race age pregnancy and maternity race pregnancy and maternity race pregnancy and maternity religion or belief religion or belief gender reassignment sex age pregnancy and maternity sexual orientation sexual orientation race marriage and civil partnership disability race gender reassignment pregnancy and maternity pregnancy and maternity marriage and civil partnership pregnancy and maternity sex sex race sexual orientation marriage and civil partnership sexual orientation religion or belief marriage and civil partnership sexual orientation disability religion or belief disability sex religion or belief age sex age disability disability age sexual orientation pregnancy and maternity religion or belief sex pregnancy and maternity marriage and civil partnership disability disability religion or belief sexual orientation gender reassignment sexual orientation sex sexual orientation sex age gender reassignment race race gender reassignment religion or belief sex sexual orientation age sex age religion or belief marriage and civil partnership race religion or belief sex sex religion or belief gender reassignment marriage and civil partnership gender reassignment race race pregnancy and maternity sex disability religion or belief religion or belief sexual orientation race pregnancy and maternity pregnancy and maternity race age sexual orientation marriage and civil partnership age religion or belief disability gender reassignment sexual orientation age age race religion or belief race pregnancy and maternity religion or belief race gender reassignment marriage and civil partnership marriage and civil partnership pregnancy and maternity disability disability religion or belief disability disability age religion or belief race disability gender reassignment race age sexual orientation sexual orientation sexual orientation religion or belief disability disability sexual orientation sex religion or belief disability marriage and civil partnership disability gender reassignment religion or belief sexual orientation age sexual orientation pregnancy and maternity marriage and civil partnership disability marriage and civil partnership sexual orientation sexual orientation disability age sexual orientation sex gender reassignment disability religion or belief race sexual orientation religion or belief sex religion or belief sex age pregnancy and maternity age sexual orientation pregnancy and maternity sex sexual orientation age gender reassignment race age pregnancy and maternity disability pregnancy and maternity marriage and civil partnership age disability pregnancy and maternity sexual orientation marriage and civil partnership marriage and civil partnership gender reassignment marriage and civil partnership sexual orientation disability sexual orientation sex sexual orientation sexual orientation marriage and civil partnership religion or belief race race gender reassignment race marriage and civil partnership age sexual orientation religion or belief age sexual orientation sex race disability gender reassignment sex pregnancy and maternity religion or belief age marriage and civil partnership disability sex disability sexual orientation age pregnancy and maternity gender reassignment gender reassignment sexual orientation race age sex pregnancy and maternity sexual orientation disability gender reassignment gender reassignment sexual orientation religion or belief race pregnancy and maternity sexual orientation disability gender reassignment sex sex pregnancy and maternity marriage and civil partnership marriage and civil partnership marriage and civil partnership marriage and civil partnership sexual orientation race sexual orientation pregnancy and maternity sex age age sex pregnancy and maternity age race pregnancy and maternity disability gender reassignment religion or belief race pregnancy and maternity sexual orientation gender reassignment age marriage and civil partnership age disability sexual orientation marriage and civil partnership marriage and civil partnership marriage and civil partnership disability pregnancy and maternity marriage and civil partnership disability sex disability marriage and civil partnership race gender reassignment religion or belief religion or belief sexual orientation disability age race sex race sex religion or belief religion or belief sex sex sexual orientation gender reassignment gender reassignment age race sex pregnancy and maternity gender reassignment religion or belief pregnancy and maternity pregnancy and maternity disability gender reassignment age gender reassignment religion or belief marriage and civil partnership age disability sex pregnancy and maternity sex gender reassignment marriage and civil partnership sex pregnancy and maternity gender reassignment disability gender reassignment race race marriage and civil partnership sex disability pregnancy and maternity religion or belief religion or belief race sexual orientation disability pregnancy and maternity marriage and civil partnership sexual orientation race gender reassignment age sex age sex race pregnancy and maternity gender reassignment pregnancy and maternity marriage and civil partnership race sexual orientation age disability marriage and civil partnership sex pregnancy and maternity pregnancy and maternity marriage and civil partnership sex age pregnancy and maternity disability age disability age marriage and civil partnership race disability disability race religion or belief marriage and civil partnership sexual orientation sexual orientation sexual orientation gender reassignment pregnancy and maternity race pregnancy and maternity age age gender reassignment race gender reassignment sexual orientation marriage and civil partnership sex marriage and civil partnership sex religion or belief religion or belief religion or belief religion or belief religion or belief pregnancy and maternity marriage and civil partnership pregnancy and maternity age pregnancy and maternity pregnancy and maternity pregnancy and maternity marriage and civil partnership sexual orientation age pregnancy and maternity sexual orientation marriage and civil partnership pregnancy and maternity gender reassignment marriage and civil partnership sexual orientation marriage and civil partnership sexual orientation pregnancy and maternity sex religion or belief disability religion or belief religion or belief gender reassignment pregnancy and maternity pregnancy and maternity pregnancy and maternity marriage and civil partnership race marriage and civil partnership sex pregnancy and maternity religion or belief marriage and civil partnership gender reassignment age sexual orientation religion or belief sex marriage and civil partnership marriage and civil partnership race sexual orientation race disability pregnancy and maternity age sexual orientation gender reassignment gender reassignment disability sex pregnancy and maternity marriage and civil partnership age pregnancy and maternity religion or belief pregnancy and maternity religion or belief age marriage and civil partnership religion or belief disability religion or belief sex marriage and civil partnership gender reassignment disability gender reassignment race race gender reassignment pregnancy and maternity age pregnancy and maternity gender reassignment sex pregnancy and maternity sexual orientation disability marriage and civil partnership sex sexual orientation sexual orientation disability disability pregnancy and maternity marriage and civil partnership race disability gender reassignment sex sex race religion or belief sex religion or belief sexual orientation sexual orientation religion or belief religion or belief religion or belief gender reassignment pregnancy and maternity race marriage and civil partnership age age age pregnancy and maternity race religion or belief race race gender reassignment age disability religion or belief sex sexual orientation sexual orientation sexual orientation disability disability disability race gender reassignment religion or belief pregnancy and maternity race race disability sexual orientation race sexual orientation sexual orientation marriage and civil partnership sexual orientation pregnancy and maternity religion or belief pregnancy and maternity sex disability sexual orientation race sex pregnancy and maternity pregnancy and maternity marriage and civil partnership race gender reassignment religion or belief religion or belief disability gender reassignment marriage and civil partnership marriage and civil partnership marriage and civil partnership disability religion or belief marriage and civil partnership pregnancy and maternity religion or belief disability race disability sexual orientation disability gender reassignment sexual orientation gender reassignment sexual orientation religion or belief religion or belief sex pregnancy and maternity gender reassignment race sexual orientation religion or belief gender reassignment religion or belief sex age religion or belief sexual orientation gender reassignment marriage and civil partnership disability sex race religion or belief pregnancy and maternity gender reassignment sexual orientation sexual orientation pregnancy and maternity age age age religion or belief race age marriage and civil partnership sexual orientation religion or belief age religion or belief race race religion or belief marriage and civil partnership race pregnancy and maternity disability pregnancy and maternity marriage and civil partnership age sex sex sex gender reassignment sexual orientation sexual orientation sex sexual orientation gender reassignment race sexual orientation gender reassignment race sex disability age pregnancy and maternity race disability gender reassignment age marriage and civil partnership age religion or belief marriage and civil partnership race gender reassignment race age race disability gender reassignment gender reassignment race religion or belief gender reassignment gender reassignment sex religion or belief pregnancy and maternity marriage and civil partnership race sexual orientation sexual orientation age gender reassignment sexual orientation age age pregnancy and maternity religion or belief marriage and civil partnership sex race gender reassignment pregnancy and maternity gender reassignment pregnancy and maternity religion or belief pregnancy and maternity race age sexual orientation sexual orientation disability sexual orientation gender reassignment marriage and civil partnership pregnancy and maternity religion or belief religion or belief pregnancy and maternity gender reassignment religion or belief sex age race religion or belief race gender reassignment sexual orientation pregnancy and maternity marriage and civil partnership religion or belief sex age religion or belief disability gender reassignment sexual orientation religion or belief race pregnancy and maternity race race sex sexual orientation sexual orientation religion or belief marriage and civil partnership marriage and civil partnership disability race sexual orientation sexual orientation sex age age pregnancy and maternity disability disability sexual orientation age sex marriage and civil partnership sex race disability sex sex age sex pregnancy and maternity age age sex religion or belief gender reassignment race age age pregnancy and maternity gender reassignment religion or belief religion or belief pregnancy and maternity pregnancy and maternity race disability disability religion or belief pregnancy and maternity gender reassignment marriage and civil partnership sex religion or belief pregnancy and maternity religion or belief gender reassignment age pregnancy and maternity disability disability sex religion or belief age disability age disability race age age marriage and civil partnership marriage and civil partnership race pregnancy and maternity pregnancy and maternity sex age age religion or belief sex pregnancy and maternity marriage and civil partnership sex religion or belief sex sex gender reassignment pregnancy and maternity disability race sexual orientation age marriage and civil partnership religion or belief sexual orientation age age disability race race sexual orientation pregnancy and maternity gender reassignment pregnancy and maternity pregnancy and maternity sex gender reassignment marriage and civil partnership pregnancy and maternity age sex pregnancy and maternity marriage and civil partnership pregnancy and maternity religion or belief disability sex race pregnancy and maternity gender reassignment age gender reassignment gender reassignment race age age religion or belief pregnancy and maternity race religion or belief sexual orientation marriage and civil partnership sexual orientation age race sex marriage and civil partnership gender reassignment marriage and civil partnership disability race pregnancy and maternity race disability pregnancy and maternity marriage and civil partnership sex age sex age age sex age race age marriage and civil partnership religion or belief disability pregnancy and maternity sexual orientation religion or belief marriage and civil partnership gender reassignment disability marriage and civil partnership sex sex disability age marriage and civil partnership marriage and civil partnership sexual orientation disability sex marriage and civil partnership marriage and civil partnership disability age disability marriage and civil partnership race race gender reassignment gender reassignment sex age age age marriage and civil partnership marriage and civil partnership marriage and civil partnership age marriage and civil partnership age religion or belief gender reassignment disability age marriage and civil partnership gender reassignment pregnancy and maternity sexual orientation marriage and civil partnership gender reassignment disability race age religion or belief sex sexual orientation age disability gender reassignment race disability sexual orientation race age religion or belief marriage and civil partnership sexual orientation sex marriage and civil partnership sex race pregnancy and maternity sexual orientation disability sexual orientation sex sexual orientation pregnancy and maternity disability pregnancy and maternity marriage and civil partnership gender reassignment gender reassignment pregnancy and maternity marriage and civil partnership sex marriage and civil partnership pregnancy and maternity pregnancy and maternity marriage and civil partnership gender reassignment gender reassignment pregnancy and maternity religion or belief religion or belief gender reassignment religion or belief disability pregnancy and maternity marriage and civil partnership religion or belief disability religion or belief religion or belief marriage and civil partnership disability marriage and civil partnership pregnancy and maternity age disability marriage and civil partnership gender reassignment sex sexual orientation sexual orientation age disability marriage and civil partnership race age age gender reassignment disability sex race religion or belief gender reassignment disability pregnancy and maternity age disability gender reassignment race gender reassignment age disability sex gender reassignment race disability sexual orientation sexual orientation gender reassignment sex sex religion or belief marriage and civil partnership race pregnancy and maternity disability disability age sex disability sexual orientation religion or belief race pregnancy and maternity disability age disability marriage and civil partnership race pregnancy and maternity sex sex sexual orientation sexual orientation disability disability sex pregnancy and maternity sexual orientation age religion or belief sex race age religion or belief race race gender reassignment age race marriage and civil partnership marriage and civil partnership marriage and civil partnership pregnancy and maternity disability sexual orientation pregnancy and maternity race age religion or belief sexual orientation pregnancy and maternity age pregnancy and maternity sex sex disability sexual orientation marriage and civil partnership marriage and civil partnership sex disability sex religion or belief sexual orientation sexual orientation pregnancy and maternity disability marriage and civil partnership sex disability marriage and civil partnership marriage and civil partnership age gender reassignment age gender reassignment religion or belief gender reassignment marriage and civil partnership pregnancy and maternity gender reassignment gender reassignment gender reassignment sexual orientation pregnancy and maternity sexual orientation sex race disability marriage and civil partnership pregnancy and maternity age religion or belief disability race age sexual orientation sexual orientation age age sexual orientation marriage and civil partnership religion or belief race sex marriage and civil partnership gender reassignment disability sexual orientation marriage and civil partnership gender reassignment race gender reassignment marriage and civil partnership race pregnancy and maternity sex sexual orientation age age age religion or belief gender reassignment gender reassignment sexual orientation sex sex marriage and civil partnership disability disability age gender reassignment disability gender reassignment sex age age pregnancy and maternity marriage and civil partnership disability disability age age pregnancy and maternity religion or belief gender reassignment sex age marriage and civil partnership sexual orientation gender reassignment age sex disability disability sex sexual orientation sexual orientation gender reassignment sex marriage and civil partnership gender reassignment disability disability religion or belief religion or belief sexual orientation pregnancy and maternity disability age race race sexual orientation sexual orientation disability age gender reassignment marriage and civil partnership marriage and civil partnership sex race race sexual orientation pregnancy and maternity pregnancy and maternity gender reassignment pregnancy and maternity sex marriage and civil partnership pregnancy and maternity gender reassignment gender reassignment gender reassignment disability race religion or belief pregnancy and maternity age sexual orientation pregnancy and maternity pregnancy and maternity pregnancy and maternity gender reassignment religion or belief pregnancy and maternity age sex race sexual orientation disability pregnancy and maternity religion or belief sexual orientation marriage and civil partnership pregnancy and maternity gender reassignment pregnancy and maternity pregnancy and maternity sex marriage and civil partnership pregnancy and maternity marriage and civil partnership race disability gender reassignment age age marriage and civil partnership sexual orientation age sexual orientation sexual orientation gender reassignment disability sex religion or belief sexual orientation gender reassignment religion or belief sex sexual orientation sex sexual orientation sexual orientation gender reassignment marriage and civil partnership gender reassignment sexual orientation gender reassignment sexual orientation gender reassignment religion or belief disability marriage and civil partnership sexual orientation sex race gender reassignment marriage and civil partnership race disability religion or belief marriage and civil partnership sex sex disability race pregnancy and maternity sexual orientation disability disability religion or belief pregnancy and maternity age sexual orientation age disability sex race age religion or belief sexual orientation race race sexual orientation gender reassignment marriage and civil partnership race age sex pregnancy and maternity sex sex disability pregnancy and maternity disability sexual orientation sex pregnancy and maternity race age gender reassignment gender reassignment sex sex sex race religion or belief pregnancy and maternity disability religion or belief sexual orientation age sexual orientation age sexual orientation pregnancy and maternity age race pregnancy and maternity marriage and civil partnership sexual orientation sex gender reassignment sex sexual orientation sex marriage and civil partnership marriage and civil partnership gender reassignment disability race sexual orientation religion or belief disability sex sex sex marriage and civil partnership gender reassignment sex sex gender reassignment sex pregnancy and maternity disability religion or belief pregnancy and maternity sex gender reassignment sex marriage and civil partnership gender reassignment marriage and civil partnership pregnancy and maternity sex gender reassignment race disability sex gender reassignment sex sexual orientation age sex sex sex pregnancy and maternity gender reassignment disability gender reassignment marriage and civil partnership religion or belief religion or belief disability sexual orientation age race sex race sex religion or belief gender reassignment sex disability marriage and civil partnership gender reassignment sex sexual orientation marriage and civil partnership age race age sex disability sex sexual orientation race race age age disability pregnancy and maternity marriage and civil partnership marriage and civil partnership sexual orientation disability sex gender reassignment marriage and civil partnership marriage and civil partnership race disability sexual orientation disability pregnancy and maternity disability race religion or belief gender reassignment race religion or belief race religion or belief religion or belief sex gender reassignment race religion or belief race age age sexual orientation age disability gender reassignment age sex religion or belief race religion or belief marriage and civil partnership religion or belief pregnancy and maternity religion or belief religion or belief marriage and civil partnership pregnancy and maternity sex sexual orientation disability age marriage and civil partnership pregnancy and maternity race marriage and civil partnership religion or belief race marriage and civil partnership sex sexual orientation sex sex religion or belief gender reassignment disability sex race sexual orientation age pregnancy and maternity gender reassignment religion or belief race disability race sex race sexual orientation disability gender reassignment religion or belief religion or belief disability disability disability pregnancy and maternity sexual orientation sex age marriage and civil partnership race age sexual orientation marriage and civil partnership sex gender reassignment age marriage and civil partnership age religion or belief religion or belief religion or belief pregnancy and maternity gender reassignment sex race sexual orientation disability sex age sex sex marriage and civil partnership pregnancy and maternity sexual orientation pregnancy and maternity disability race marriage and civil partnership pregnancy and maternity marriage and civil partnership religion or belief disability gender reassignment pregnancy and maternity marriage and civil partnership sexual orientation sexual orientation sex sex sex race disability gender reassignment religion or belief sexual orientation sexual orientation gender reassignment race race race sex age sexual orientation gender reassignment gender reassignment gender reassignment race disability disability disability marriage and civil partnership race religion or belief sexual orientation pregnancy and maternity religion or belief race sexual orientation race gender reassignment race race age gender reassignment race race pregnancy and maternity sex sex sexual orientation gender reassignment religion or belief disability gender reassignment religion or belief religion or belief race disability gender reassignment disability race disability pregnancy and maternity race gender reassignment disability sex age pregnancy and maternity age pregnancy and maternity age pregnancy and maternity religion or belief age disability gender reassignment gender reassignment disability age marriage and civil partnership pregnancy and maternity race religion or belief age marriage and civil partnership age religion or belief disability sexual orientation age sexual orientation sex age age religion or belief pregnancy and maternity disability marriage and civil partnership religion or belief marriage and civil partnership race race sexual orientation sex marriage and civil partnership sexual orientation religion or belief gender reassignment gender reassignment race religion or belief race sex race religion or belief pregnancy and maternity age religion or belief disability marriage and civil partnership race disability pregnancy and maternity pregnancy and maternity disability race sexual orientation pregnancy and maternity race race marriage and civil partnership religion or belief gender reassignment age disability disability marriage and civil partnership disability sexual orientation gender reassignment pregnancy and maternity marriage and civil partnership marriage and civil partnership sexual orientation religion or belief marriage and civil partnership religion or belief disability race sex age religion or belief disability sexual orientation race disability disability sex gender reassignment sexual orientation sexual orientation disability disability gender reassignment gender reassignment race disability sexual orientation disability age disability religion or belief disability sex race gender reassignment gender reassignment sex age disability sex marriage and civil partnership sexual orientation sexual orientation gender reassignment pregnancy and maternity marriage and civil partnership sexual orientation sex marriage and civil partnership race pregnancy and maternity pregnancy and maternity pregnancy and maternity race pregnancy and maternity disability disability marriage and civil partnership marriage and civil partnership sexual orientation age gender reassignment marriage and civil partnership age age religion or belief religion or belief gender reassignment sex gender reassignment age race gender reassignment sexual orientation sex race marriage and civil partnership sexual orientation race sex gender reassignment age gender reassignment religion or belief disability race marriage and civil partnership sex sexual orientation age pregnancy and maternity sex age marriage and civil partnership age religion or belief pregnancy and maternity disability disability race pregnancy and maternity pregnancy and maternity sexual orientation religion or belief marriage and civil partnership sexual orientation age religion or belief age religion or belief gender reassignment sex sex race sexual orientation race marriage and civil partnership sexual orientation pregnancy and maternity religion or belief age sexual orientation race marriage and civil partnership disability age race gender reassignment race religion or belief religion or belief race religion or belief pregnancy and maternity age pregnancy and maternity religion or belief sex race marriage and civil partnership age race gender reassignment sexual orientation marriage and civil partnership age gender reassignment sex sex disability sex race pregnancy and maternity age age gender reassignment gender reassignment gender reassignment gender reassignment pregnancy and maternity race disability marriage and civil partnership sex marriage and civil partnership religion or belief sexual orientation sexual orientation pregnancy and maternity age marriage and civil partnership sexual orientation gender reassignment religion or belief sex religion or belief age disability religion or belief marriage and civil partnership sex age sexual orientation sexual orientation marriage and civil partnership sexual orientation sexual orientation age religion or belief pregnancy and maternity gender reassignment pregnancy and maternity pregnancy and maternity age race marriage and civil partnership gender reassignment gender reassignment age pregnancy and maternity race age sex race race sex marriage and civil partnership gender reassignment religion or belief gender reassignment religion or belief race age disability race marriage and civil partnership age sex sex marriage and civil partnership religion or belief sex religion or belief pregnancy and maternity disability gender reassignment age pregnancy and maternity race disability disability sexual orientation age marriage and civil partnership marriage and civil partnership race age religion or belief religion or belief sex sex sexual orientation religion or belief gender reassignment race pregnancy and maternity pregnancy and maternity sex age marriage and civil partnership disability disability marriage and civil partnership disability religion or belief pregnancy and maternity sexual orientation age disability pregnancy and maternity sex age gender reassignment pregnancy and maternity religion or belief gender reassignment religion or belief sexual orientation sex sex disability gender reassignment pregnancy and maternity age pregnancy and maternity disability age disability sex sex sexual orientation pregnancy and maternity religion or belief sexual orientation age gender reassignment marriage and civil partnership pregnancy and maternity age religion or belief disability sexual orientation race marriage and civil partnership marriage and civil partnership religion or belief religion or belief marriage and civil partnership religion or belief pregnancy and maternity race gender reassignment disability religion or belief sexual orientation disability marriage and civil partnership pregnancy and maternity disability pregnancy and maternity disability marriage and civil partnership age gender reassignment age religion or belief pregnancy and maternity marriage and civil partnership religion or belief marriage and civil partnership disability age sexual orientation disability disability sexual orientation disability pregnancy and maternity marriage and civil partnership religion or belief sex sexual orientation sex sexual orientation sex race gender reassignment sex gender reassignment sexual orientation age race gender reassignment sex sex sexual orientation pregnancy and maternity race gender reassignment marriage and civil partnership gender reassignment sexual orientation disability race sexual orientation age disability age marriage and civil partnership sex religion or belief race sexual orientation sexual orientation sexual orientation pregnancy and maternity sex gender reassignment religion or belief race gender reassignment race sexual orientation sex gender reassignment pregnancy and maternity sex marriage and civil partnership disability disability pregnancy and maternity religion or belief pregnancy and maternity marriage and civil partnership pregnancy and maternity religion or belief sex disability disability religion or belief sexual orientation race marriage and civil partnership sex disability marriage and civil partnership pregnancy and maternity gender reassignment marriage and civil partnership sexual orientation age religion or belief age religion or belief pregnancy and maternity gender reassignment marriage and civil partnership pregnancy and maternity sex religion or belief sexual orientation race sex marriage and civil partnership sexual orientation sex pregnancy and maternity religion or belief sexual orientation disability sexual orientation pregnancy and maternity sexual orientation pregnancy and maternity religion or belief religion or belief pregnancy and maternity marriage and civil partnership race race gender reassignment pregnancy and maternity sexual orientation sexual orientation marriage and civil partnership age disability religion or belief race sex pregnancy and maternity age religion or belief disability sexual orientation marriage and civil partnership disability pregnancy and maternity age sex pregnancy and maternity marriage and civil partnership sex race disability sexual orientation age disability age gender reassignment marriage and civil partnership sex sexual orientation sex disability disability sex gender reassignment disability marriage and civil partnership gender reassignment race marriage and civil partnership sexual orientation disability sexual orientation age sexual orientation marriage and civil partnership race marriage and civil partnership disability race sex religion or belief gender reassignment sexual orientation pregnancy and maternity sex race disability sexual orientation race marriage and civil partnership race pregnancy and maternity age religion or belief marriage and civil partnership marriage and civil partnership sex age marriage and civil partnership religion or belief religion or belief gender reassignment gender reassignment sexual orientation gender reassignment sexual orientation disability age religion or belief pregnancy and maternity religion or belief sexual orientation race marriage and civil partnership disability race pregnancy and maternity disability gender reassignment marriage and civil partnership marriage and civil partnership disability religion or belief pregnancy and maternity religion or belief sexual orientation sexual orientation sex marriage and civil partnership age race age marriage and civil partnership gender reassignment marriage and civil partnership sexual orientation disability disability gender reassignment marriage and civil partnership pregnancy and maternity sex gender reassignment disability disability sexual orientation race marriage and civil partnership religion or belief religion or belief gender reassignment age disability disability pregnancy and maternity age age disability disability marriage and civil partnership sexual orientation disability disability race gender reassignment gender reassignment race religion or belief pregnancy and maternity marriage and civil partnership religion or belief age marriage and civil partnership religion or belief sex religion or belief age marriage and civil partnership gender reassignment disability disability disability marriage and civil partnership marriage and civil partnership age age sex marriage and civil partnership marriage and civil partnership gender reassignment pregnancy and maternity pregnancy and maternity age age disability race disability age sexual orientation sex race race age disability sex pregnancy and maternity gender reassignment sex religion or belief race disability religion or belief religion or belief sexual orientation religion or belief age religion or belief age pregnancy and maternity gender reassignment race sexual orientation race sex age pregnancy and maternity marriage and civil partnership pregnancy and maternity sexual orientation religion or belief religion or belief race sexual orientation age pregnancy and maternity marriage and civil partnership race gender reassignment age age sex disability religion or belief pregnancy and maternity sexual orientation disability marriage and civil partnership pregnancy and maternity pregnancy and maternity race marriage and civil partnership sex disability race sexual orientation sexual orientation gender reassignment marriage and civil partnership sexual orientation sex pregnancy and maternity marriage and civil partnership sex sex age marriage and civil partnership sex marriage and civil partnership pregnancy and maternity religion or belief age marriage and civil partnership disability race gender reassignment race marriage and civil partnership race gender reassignment disability marriage and civil partnership race sex sex gender reassignment marriage and civil partnership religion or belief marriage and civil partnership sex gender reassignment disability pregnancy and maternity pregnancy and maternity marriage and civil partnership sex pregnancy and maternity religion or belief disability marriage and civil partnership race race religion or belief marriage and civil partnership gender reassignment religion or belief sex race disability marriage and civil partnership pregnancy and maternity religion or belief sexual orientation sex gender reassignment disability pregnancy and maternity sexual orientation religion or belief race age marriage and civil partnership race pregnancy and maternity marriage and civil partnership gender reassignment pregnancy and maternity race pregnancy and maternity gender reassignment pregnancy and maternity gender reassignment age gender reassignment gender reassignment sex pregnancy and maternity religion or belief pregnancy and maternity pregnancy and maternity marriage and civil partnership religion or belief race race pregnancy and maternity marriage and civil partnership sexual orientation race religion or belief age religion or belief sex sex sexual orientation marriage and civil partnership gender reassignment disability race gender reassignment race gender reassignment race sex marriage and civil partnership gender reassignment age disability race race disability disability sexual orientation gender reassignment religion or belief race race pregnancy and maternity pregnancy and maternity religion or belief disability marriage and civil partnership sex sex pregnancy and maternity disability religion or belief sex age disability gender reassignment sex sex disability sexual orientation sexual orientation religion or belief pregnancy and maternity sex gender reassignment age pregnancy and maternity religion or belief age sex sex marriage and civil partnership marriage and civil partnership sexual orientation marriage and civil partnership pregnancy and maternity gender reassignment religion or belief disability marriage and civil partnership sex religion or belief pregnancy and maternity age religion or belief marriage and civil partnership disability age age sex race sex sexual orientation disability gender reassignment sexual orientation marriage and civil partnership sex religion or belief marriage and civil partnership gender reassignment religion or belief sex pregnancy and maternity age sexual orientation religion or belief marriage and civil partnership race age disability race sex sexual orientation sex sexual orientation pregnancy and maternity pregnancy and maternity sex age marriage and civil partnership race race religion or belief age race age sexual orientation pregnancy and maternity disability age age age race age sexual orientation age religion or belief religion or belief sexual orientation race gender reassignment disability age sex marriage and civil partnership race gender reassignment sex sex marriage and civil partnership marriage and civil partnership sexual orientation age race age gender reassignment religion or belief religion or belief pregnancy and maternity sexual orientation age sex gender reassignment religion or belief age marriage and civil partnership disability gender reassignment pregnancy and maternity race age religion or belief race pregnancy and maternity gender reassignment marriage and civil partnership disability pregnancy and maternity gender reassignment age religion or belief disability sex gender reassignment sexual orientation sexual orientation religion or belief disability religion or belief religion or belief disability race gender reassignment pregnancy and maternity age marriage and civil partnership race pregnancy and maternity sex pregnancy and maternity age sex age pregnancy and maternity gender reassignment sexual orientation disability sexual orientation marriage and civil partnership disability marriage and civil partnership pregnancy and maternity pregnancy and maternity age religion or belief sex sexual orientation race race gender reassignment religion or belief sexual orientation marriage and civil partnership race sex age marriage and civil partnership marriage and civil partnership sexual orientation pregnancy and maternity sexual orientation age pregnancy and maternity age pregnancy and maternity age disability marriage and civil partnership age gender reassignment race sex gender reassignment age disability sex disability gender reassignment marriage and civil partnership race disability sex religion or belief pregnancy and maternity religion or belief sexual orientation sex marriage and civil partnership sex race religion or belief race marriage and civil partnership disability disability age sexual orientation sexual orientation sexual orientation disability religion or belief sex age pregnancy and maternity marriage and civil partnership religion or belief marriage and civil partnership disability disability race marriage and civil partnership religion or belief sex religion or belief race religion or belief sexual orientation gender reassignment age pregnancy and maternity pregnancy and maternity religion or belief age race sexual orientation age religion or belief sexual orientation pregnancy and maternity pregnancy and maternity marriage and civil partnership religion or belief race pregnancy and maternity gender reassignment sexual orientation pregnancy and maternity sexual orientation race race disability pregnancy and maternity marriage and civil partnership sexual orientation gender reassignment religion or belief age religion or belief sex sexual orientation sexual orientation sexual orientation gender reassignment age religion or belief marriage and civil partnership gender reassignment race sexual orientation pregnancy and maternity marriage and civil partnership race age disability age pregnancy and maternity disability pregnancy and maternity sexual orientation religion or belief gender reassignment race marriage and civil partnership sex disability disability gender reassignment gender reassignment age pregnancy and maternity sex sex gender reassignment marriage and civil partnership race sex gender reassignment sexual orientation race religion or belief sexual orientation pregnancy and maternity sexual orientation pregnancy and maternity pregnancy and maternity pregnancy and maternity marriage and civil partnership age sex sex age race gender reassignment age disability religion or belief religion or belief sex race sexual orientation age age race sex gender reassignment sex marriage and civil partnership gender reassignment marriage and civil partnership age disability marriage and civil partnership religion or belief race sex religion or belief gender reassignment disability race marriage and civil partnership sexual orientation sex religion or belief age religion or belief gender reassignment race sexual orientation sex marriage and civil partnership marriage and civil partnership sexual orientation race gender reassignment race disability marriage and civil partnership sex religion or belief sex disability sex marriage and civil partnership religion or belief pregnancy and maternity race gender reassignment age disability pregnancy and maternity pregnancy and maternity marriage and civil partnership disability gender reassignment disability sex gender reassignment pregnancy and maternity sexual orientation marriage and civil partnership sex marriage and civil partnership gender reassignment disability disability disability sexual orientation marriage and civil partnership race marriage and civil partnership disability sexual orientation gender reassignment race religion or belief disability sexual orientation race gender reassignment marriage and civil partnership marriage and civil partnership religion or belief disability gender reassignment pregnancy and maternity sex disability gender reassignment disability age race race age sexual orientation gender reassignment pregnancy and maternity religion or belief sex disability race sexual orientation disability pregnancy and maternity gender reassignment marriage and civil partnership gender reassignment disability religion or belief race sexual orientation race marriage and civil partnership sexual orientation disability sexual orientation religion or belief gender reassignment race race pregnancy and maternity gender reassignment race sex disability gender reassignment marriage and civil partnership religion or belief religion or belief gender reassignment sex race disability race disability age gender reassignment marriage and civil partnership age gender reassignment age sex age pregnancy and maternity pregnancy and maternity religion or belief sex age religion or belief sex sex race age gender reassignment sexual orientation race sexual orientation disability religion or belief marriage and civil partnership age marriage and civil partnership gender reassignment sexual orientation age age disability marriage and civil partnership sex disability disability age gender reassignment race sex marriage and civil partnership marriage and civil partnership age age pregnancy and maternity sexual orientation sex race religion or belief disability pregnancy and maternity race sex race age age marriage and civil partnership religion or belief gender reassignment disability sexual orientation religion or belief disability age pregnancy and maternity race gender reassignment race religion or belief disability gender reassignment sexual orientation sexual orientation race race marriage and civil partnership gender reassignment gender reassignment sex sex pregnancy and maternity religion or belief gender reassignment sexual orientation sexual orientation sexual orientation sexual orientation pregnancy and maternity disability religion or belief pregnancy and maternity sex religion or belief sex age disability religion or belief age pregnancy and maternity sex age marriage and civil partnership age religion or belief pregnancy and maternity sex marriage and civil partnership marriage and civil partnership religion or belief marriage and civil partnership religion or belief sex religion or belief gender reassignment race pregnancy and maternity gender reassignment disability sex religion or belief pregnancy and maternity sex religion or belief sexual orientation pregnancy and maternity gender reassignment age sexual orientation age disability age marriage and civil partnership gender reassignment sexual orientation disability marriage and civil partnership race marriage and civil partnership disability sexual orientation disability marriage and civil partnership marriage and civil partnership gender reassignment marriage and civil partnership marriage and civil partnership age gender reassignment sexual orientation age race marriage and civil partnership disability sex disability age race sexual orientation marriage and civil partnership sex sex pregnancy and maternity marriage and civil partnership pregnancy and maternity pregnancy and maternity race marriage and civil partnership sexual orientation sexual orientation gender reassignment religion or belief disability disability marriage and civil partnership disability sex race pregnancy and maternity sexual orientation sexual orientation gender reassignment sexual orientation marriage and civil partnership gender reassignment gender reassignment race sexual orientation gender reassignment religion or belief gender reassignment marriage and civil partnership age religion or belief pregnancy and maternity sex gender reassignment marriage and civil partnership race age sex pregnancy and maternity marriage and civil partnership race sex disability race religion or belief sexual orientation pregnancy and maternity marriage and civil partnership age religion or belief sex marriage and civil partnership pregnancy and maternity sexual orientation sex religion or belief race gender reassignment sexual orientation race pregnancy and maternity race sexual orientation marriage and civil partnership sexual orientation sexual orientation marriage and civil partnership gender reassignment religion or belief sex sex race age sexual orientation age sexual orientation sexual orientation marriage and civil partnership marriage and civil partnership pregnancy and maternity age race religion or belief religion or belief sexual orientation religion or belief race race gender reassignment race marriage and civil partnership race race gender reassignment sex sexual orientation sexual orientation sex age pregnancy and maternity disability marriage and civil partnership religion or belief age sexual orientation marriage and civil partnership gender reassignment age sex sexual orientation race pregnancy and maternity race age sex disability race gender reassignment age pregnancy and maternity race pregnancy and maternity race religion or belief sexual orientation pregnancy and maternity age pregnancy and maternity age race marriage and civil partnership age race pregnancy and maternity age gender reassignment marriage and civil partnership religion or belief race religion or belief sexual orientation marriage and civil partnership gender reassignment marriage and civil partnership gender reassignment disability sexual orientation gender reassignment age sex race disability age race age race sex sex pregnancy and maternity age race gender reassignment religion or belief gender reassignment gender reassignment religion or belief pregnancy and maternity sexual orientation disability disability marriage and civil partnership marriage and civil partnership sex age race sexual orientation religion or belief race disability pregnancy and maternity race marriage and civil partnership age sexual orientation pregnancy and maternity race gender reassignment age gender reassignment age pregnancy and maternity race race sexual orientation pregnancy and maternity marriage and civil partnership race sexual orientation disability marriage and civil partnership sexual orientation sexual orientation age age sexual orientation age religion or belief age sex race disability pregnancy and maternity disability race religion or belief religion or belief race pregnancy and maternity sex disability disability sexual orientation disability age age sexual orientation pregnancy and maternity religion or belief disability race gender reassignment race gender reassignment sexual orientation gender reassignment pregnancy and maternity race marriage and civil partnership disability gender reassignment age sex religion or belief race disability marriage and civil partnership sex sex sex sexual orientation sexual orientation race age sexual orientation disability race religion or belief age pregnancy and maternity sex age religion or belief sexual orientation marriage and civil partnership race age age gender reassignment sexual orientation age marriage and civil partnership age sexual orientation race religion or belief religion or belief pregnancy and maternity pregnancy and maternity marriage and civil partnership pregnancy and maternity sex race sex sexual orientation gender reassignment marriage and civil partnership marriage and civil partnership race sexual orientation marriage and civil partnership sexual orientation gender reassignment age race religion or belief marriage and civil partnership gender reassignment sex sex sexual orientation sex disability sex pregnancy and maternity race religion or belief disability sex religion or belief sex religion or belief sex pregnancy and maternity marriage and civil partnership sexual orientation disability disability religion or belief age race age religion or belief race race marriage and civil partnership disability sexual orientation disability age sexual orientation gender reassignment sexual orientation disability age sex pregnancy and maternity religion or belief disability sexual orientation age pregnancy and maternity sex disability age sex age age marriage and civil partnership disability sexual orientation race age sex religion or belief gender reassignment race sexual orientation sexual orientation sex religion or belief sexual orientation gender reassignment sexual orientation religion or belief age race marriage and civil partnership marriage and civil partnership religion or belief gender reassignment sex pregnancy and maternity disability sexual orientation race age gender reassignment pregnancy and maternity pregnancy and maternity marriage and civil partnership pregnancy and maternity sex religion or belief sexual orientation religion or belief sexual orientation race religion or belief sex pregnancy and maternity age age religion or belief gender reassignment age sex religion or belief marriage and civil partnership pregnancy and maternity religion or belief marriage and civil partnership sex sexual orientation disability religion or belief age age pregnancy and maternity sexual orientation religion or belief religion or belief disability pregnancy and maternity disability race sex pregnancy and maternity pregnancy and maternity race gender reassignment age sex religion or belief disability religion or belief religion or belief gender reassignment marriage and civil partnership religion or belief religion or belief sexual orientation marriage and civil partnership sex pregnancy and maternity gender reassignment race race age religion or belief race marriage and civil partnership religion or belief race religion or belief gender reassignment religion or belief religion or belief gender reassignment disability age sex gender reassignment sexual orientation gender reassignment gender reassignment sexual orientation age pregnancy and maternity religion or belief pregnancy and maternity sex race marriage and civil partnership gender reassignment marriage and civil partnership disability religion or belief age pregnancy and maternity religion or belief pregnancy and maternity age pregnancy and maternity disability age sexual orientation sexual orientation gender reassignment religion or belief sexual orientation religion or belief age sex disability religion or belief age gender reassignment religion or belief religion or belief pregnancy and maternity sexual orientation pregnancy and maternity religion or belief sexual orientation gender reassignment pregnancy and maternity race disability sex race gender reassignment age age age religion or belief sexual orientation age sexual orientation pregnancy and maternity gender reassignment sex religion or belief gender reassignment sexual orientation age gender reassignment disability sexual orientation pregnancy and maternity gender reassignment religion or belief pregnancy and maternity gender reassignment gender reassignment race sexual orientation pregnancy and maternity gender reassignment race marriage and civil partnership disability age sex marriage and civil partnership religion or belief religion or belief race sex race age gender reassignment pregnancy and maternity religion or belief religion or belief gender reassignment disability gender reassignment gender reassignment pregnancy and maternity gender reassignment marriage and civil partnership gender reassignment disability race religion or belief sex race marriage and civil partnership race age race gender reassignment pregnancy and maternity sex pregnancy and maternity sexual orientation religion or belief disability pregnancy and maternity age marriage and civil partnership sex sexual orientation sexual orientation religion or belief sexual orientation religion or belief sex race sexual orientation marriage and civil partnership sex pregnancy and maternity gender reassignment sexual orientation race pregnancy and maternity pregnancy and maternity sex marriage and civil partnership pregnancy and maternity disability race marriage and civil partnership religion or belief marriage and civil partnership sexual orientation age pregnancy and maternity sex pregnancy and maternity pregnancy and maternity age age sexual orientation age pregnancy and maternity gender reassignment marriage and civil partnership gender reassignment pregnancy and maternity sexual orientation sexual orientation sex race sex religion or belief race disability religion or belief gender reassignment race disability age religion or belief age sex marriage and civil partnership sexual orientation sex age sexual orientation religion or belief pregnancy and maternity pregnancy and maternity sexual orientation sexual orientation race gender reassignment marriage and civil partnership sex disability race marriage and civil partnership disability race sexual orientation pregnancy and maternity race disability age sexual orientation race pregnancy and maternity age marriage and civil partnership disability religion or belief sex pregnancy and maternity pregnancy and maternity gender reassignment religion or belief sex age sex sex pregnancy and maternity gender reassignment gender reassignment pregnancy and maternity gender reassignment age pregnancy and maternity gender reassignment disability race age marriage and civil partnership sex disability race sexual orientation sexual orientation pregnancy and maternity marriage and civil partnership sexual orientation sexual orientation sexual orientation race gender reassignment sex age disability age pregnancy and maternity age disability religion or belief sexual orientation pregnancy and maternity gender reassignment sex pregnancy and maternity race gender reassignment race disability sexual orientation gender reassignment marriage and civil partnership sex disability marriage and civil partnership sexual orientation gender reassignment gender reassignment disability disability sexual orientation sexual orientation age sexual orientation race sex pregnancy and maternity marriage and civil partnership pregnancy and maternity pregnancy and maternity pregnancy and maternity gender reassignment race sexual orientation religion or belief gender reassignment sexual orientation religion or belief race age age marriage and civil partnership pregnancy and maternity religion or belief marriage and civil partnership age sex marriage and civil partnership race disability gender reassignment sexual orientation age marriage and civil partnership age pregnancy and maternity gender reassignment age race pregnancy and maternity age religion or belief disability gender reassignment sex pregnancy and maternity disability gender reassignment marriage and civil partnership race marriage and civil partnership sex gender reassignment religion or belief sex religion or belief sexual orientation pregnancy and maternity sexual orientation age religion or belief religion or belief race race sexual orientation race marriage and civil partnership pregnancy and maternity pregnancy and maternity pregnancy and maternity race marriage and civil partnership marriage and civil partnership sex sexual orientation religion or belief marriage and civil partnership disability gender reassignment sex marriage and civil partnership gender reassignment religion or belief race gender reassignment religion or belief gender reassignment sexual orientation sex marriage and civil partnership marriage and civil partnership race sexual orientation gender reassignment gender reassignment gender reassignment marriage and civil partnership religion or belief gender reassignment pregnancy and maternity race age religion or belief age sexual orientation religion or belief religion or belief disability disability pregnancy and maternity marriage and civil partnership religion or belief race race gender reassignment disability sex pregnancy and maternity sex sex race disability pregnancy and maternity sexual orientation sex pregnancy and maternity sex religion or belief age marriage and civil partnership religion or belief pregnancy and maternity sexual orientation age age disability age marriage and civil partnership sexual orientation sex pregnancy and maternity gender reassignment gender reassignment gender reassignment race sexual orientation age gender reassignment age race pregnancy and maternity sex marriage and civil partnership sexual orientation disability age gender reassignment sexual orientation pregnancy and maternity religion or belief pregnancy and maternity sexual orientation disability disability marriage and civil partnership race sexual orientation pregnancy and maternity sexual orientation sex gender reassignment race religion or belief age religion or belief religion or belief sex pregnancy and maternity religion or belief marriage and civil partnership sexual orientation race age sex sex religion or belief sex pregnancy and maternity religion or belief marriage and civil partnership disability sexual orientation gender reassignment age "
          ],
          "name": "stdout"
        }
      ]
    },
    {
      "cell_type": "markdown",
      "metadata": {
        "id": "g24vq4z2zECI"
      },
      "source": [
        "# Reflection\n",
        "----\n",
        "\n",
        "## What skills have you demonstrated in completing this notebook?"
      ]
    },
    {
      "cell_type": "markdown",
      "metadata": {
        "id": "dJ-UIZakzI4S"
      },
      "source": [
        ""
      ]
    },
    {
      "cell_type": "markdown",
      "metadata": {
        "id": "MYoQrjddzJxg"
      },
      "source": [
        "## What caused you the most difficulty?"
      ]
    },
    {
      "cell_type": "markdown",
      "metadata": {
        "id": "aFPNBDPPzjx9"
      },
      "source": [
        ""
      ]
    }
  ]
}