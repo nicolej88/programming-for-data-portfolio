{
  "nbformat": 4,
  "nbformat_minor": 0,
  "metadata": {
    "colab": {
      "name": "Lists and Tuples.pynb",
      "provenance": [],
      "collapsed_sections": [],
      "include_colab_link": true
    },
    "kernelspec": {
      "name": "python3",
      "display_name": "Python 3"
    },
    "language_info": {
      "name": "python"
    }
  },
  "cells": [
    {
      "cell_type": "markdown",
      "metadata": {
        "id": "view-in-github",
        "colab_type": "text"
      },
      "source": [
        "<a href=\"https://colab.research.google.com/github/nicolej88/programming-for-data-portfolio/blob/main/worksheets/Lists_and_Tuples_pynb.ipynb\" target=\"_parent\"><img src=\"https://colab.research.google.com/assets/colab-badge.svg\" alt=\"Open In Colab\"/></a>"
      ]
    },
    {
      "cell_type": "markdown",
      "metadata": {
        "id": "Z-M-RCWATK71"
      },
      "source": [
        "# Lists and tuples\n",
        "\n",
        "Often we need to store a number of single items of data together so that they can be processed together. This might be because all the data refers to one person (e.g. name, age, gender, etc) OR it might be because we have a set of data (e.g. all the items that should be displayed in a drop down list, such as all the years from this year back to 100 years ago so that someone can select their year of birth)\n",
        "\n",
        "Python has a range of data structures available including:\n",
        "*   lists  \n",
        "*   tuples  \n",
        "*   dictionaries  \n",
        "*   sets\n",
        "\n",
        "This worksheet looks at lists and tuples.\n",
        "\n",
        "## List\n",
        "A list is a set of related, individual data objects, that are indexed and can be processed as a whole, as subsets or as individual items.  Lists are stored, essentially, as contiguous items in memory so that access can be as quick as possible.  However, they are mutable (they can be changed after they are created and stored) and so those mechanisms need to include extra functionality to deal with changing list sizes.\n",
        "\n",
        "## Tuple\n",
        "Essentially the same as a list but it is immutable.  Once it has been created it can't be changed.  It is stored in memory as contiguous items, with the size required being fixed right from the start.  This makes it faster to access.\n",
        "\n",
        "The code below will create two lists and a tuple.\n",
        "*   the first list contains 1000 random numbers between 1 and 100\n",
        "*   the second list is of random length (up to 5000) and each item is one of the 9 characteristics that are protected under the Equality Act in the UK.\n",
        "*   the tuple contains the 9 protected characteristics\n",
        "\n",
        "**Before you start the exercises, run the code below.**  It will generate the lists and tuple so that you can use them in the exercises.  If you need to recreate the lists again (because you have changed them and need to work on the originals, just run this cell again).\n",
        "\n",
        "***Note:***  *a list variable contains a reference to the start of the list in memory, rather than storing the list itself.  This means that if you assign the list to another variable (to make a copy), it will only copy across the reference.  If you change the copy, you change the original list.*\n",
        "\n",
        "*If you need to make a copy of the list you will need to use a loop to create a new list and copy all items across.*"
      ]
    },
    {
      "cell_type": "code",
      "metadata": {
        "id": "BDRckXeQXFMT"
      },
      "source": [
        "### RUN THIS CODE EVERYTIME YOU NEED LISTS TO WORK WITH IN THE EXERCISES BELOW ###\n",
        "from random import randint, choice\n",
        "\n",
        "def get_num_list():\n",
        "  num_list = [randint(1,100) for n in range(1000)]\n",
        "  return num_list\n",
        "\n",
        "def get_protected_characteristics():\n",
        "  characteristics_tuple = ('age','disability','gender reassignment','marriage and civil partnership','pregnancy and maternity','race','religion or belief','sex','sexual orientation')\n",
        "  return characteristics_tuple\n",
        "\n",
        "def get_protected_characteristic_list(protected_characteristics):\n",
        "  char_list = [choice(protected_characteristics) for ch in range(randint(1,5000))]\n",
        "  return char_list\n",
        "\n",
        "nums = get_num_list()\n",
        "protected_characteristics = get_protected_characteristics()\n",
        "characteristics = get_protected_characteristic_list(protected_characteristics)"
      ],
      "execution_count": 3,
      "outputs": []
    },
    {
      "cell_type": "markdown",
      "metadata": {
        "id": "xXT38-4ZV45n"
      },
      "source": [
        "## The exercises below will use the lists:  \n",
        "*   **nums** (a list of between 1 and 1000 random numbers, each number is between 0 and 1000)\n",
        "*   **characteristics** (a list of 5000 random protected_characteristics)\n",
        "\n",
        "and the tuple:\n",
        "*  **protected_characteristics** (a set of the 9 protected characteristics identified in the Equality Act)\n",
        "\n",
        "## You can run the cell above any number of times to generate new lists."
      ]
    },
    {
      "cell_type": "markdown",
      "metadata": {
        "id": "Ft0dXl7fUuaK"
      },
      "source": [
        "---\n",
        "### Exercise 1 - list head, tail and shape\n",
        "\n",
        "Write a function, **describe_list()** which will:\n",
        "*  print the length of the list `nums`\n",
        "*  print the first 10 items in `nums`  \n",
        "*  print the last 5 items in `nums`  \n",
        "\n",
        "*Expected output*:  \n",
        "The length of nums is *552* (note: 552 is an example - the number will be between 1 and 1000)    \n",
        "First 10 items: [a list of 10 characteristics]  \n",
        "Last 5 items: [a list of 5 characteristics]\n"
      ]
    },
    {
      "cell_type": "code",
      "metadata": {
        "id": "jUcZD7mmTJdA",
        "colab": {
          "base_uri": "https://localhost:8080/"
        },
        "outputId": "c7211cee-4706-4ec7-89d6-74cf223073f0"
      },
      "source": [
        "\n",
        "def describe_list(nums):\n",
        "  print (\"The length of nums is \"+ str(len(nums)))\n",
        "  print (nums[:10])\n",
        "  print (nums[-5:])\n",
        "\n",
        "describe_list(nums)\n"
      ],
      "execution_count": 36,
      "outputs": [
        {
          "output_type": "stream",
          "text": [
            "The length of nums is 1000\n",
            "[35, 86, 50, 81, 80, 29, 97, 86, 100, 42]\n",
            "[51, 48, 27, 57, 86]\n"
          ],
          "name": "stdout"
        }
      ]
    },
    {
      "cell_type": "markdown",
      "metadata": {
        "id": "yNWg08k6bXv0"
      },
      "source": [
        "---\n",
        "### Exercise 2 - show tuple items\n",
        "\n",
        "Write a function which will:\n",
        "*   use a loop to print the list of protected characteristics from the `protected_characteristics` tuple.  \n",
        "\n",
        "*Expected output*:  \n",
        "age  \n",
        "disability  \n",
        "gender reassignment  \n",
        "marriage and civil partnership  \n",
        "pregnancy and maternity  \n",
        "race  \n",
        "religion or belief  \n",
        "sex  \n",
        "sexual orientation  \n"
      ]
    },
    {
      "cell_type": "code",
      "metadata": {
        "id": "P2HnCG9pb1BS",
        "colab": {
          "base_uri": "https://localhost:8080/"
        },
        "outputId": "fcefecac-b10f-43e2-c647-3be8b44d8e8f"
      },
      "source": [
        "def print_protected_characteristics(protected_characteristics):\n",
        "  for item in protected_characteristics:\n",
        "    print (item)\n",
        "\n",
        "print_protected_characteristics(protected_characteristics)\n",
        "\n",
        "\n"
      ],
      "execution_count": 37,
      "outputs": [
        {
          "output_type": "stream",
          "text": [
            "age\n",
            "disability\n",
            "gender reassignment\n",
            "marriage and civil partnership\n",
            "pregnancy and maternity\n",
            "race\n",
            "religion or belief\n",
            "sex\n",
            "sexual orientation\n"
          ],
          "name": "stdout"
        }
      ]
    },
    {
      "cell_type": "markdown",
      "metadata": {
        "id": "RTSuQZs4b1JU"
      },
      "source": [
        "---\n",
        "### Exercise 3 - display items in the middle\n",
        "\n",
        "Write a function which will:\n",
        "*  calculate the position of the middle item in the `characteristics` list   \n",
        "(*Hint: use len() to help with this*)\n",
        "*  calculate the position of the item that is 5 places before the middle item\n",
        "*  calculate the position of the item that is 5 places after the middle item\n",
        "*  print the part of the list that includes the items from 5 places before to 5 places after.  \n",
        "\n",
        "*Expected output*:  \n",
        "Your list will include 10 items.  "
      ]
    },
    {
      "cell_type": "code",
      "metadata": {
        "id": "OwhFnH2kdC11",
        "colab": {
          "base_uri": "https://localhost:8080/"
        },
        "outputId": "88a4b02e-7508-4ed2-87d3-3d8caca3fe58"
      },
      "source": [
        "\n",
        "\n",
        "def get_middle_item1(characteristics):\n",
        "  print(type(characteristics),len(characteristics))\n",
        "  # // is divide with integral result (discard remainder)- I would usually just do int(len(characteristics)/2)\n",
        "  mid = len(characteristics)//2\n",
        "  print ('middle index {}, value is {}'.format(mid, characteristics[mid]))\n",
        "  print ('5 pre index {}, value is {}'.format(mid-5, characteristics[mid-5]))\n",
        "  print ('5 pre index {}, value is {}'.format(mid+5, characteristics[mid+5]))\n",
        "\n",
        "\n",
        "get_middle_item1(characteristics)"
      ],
      "execution_count": 19,
      "outputs": [
        {
          "output_type": "stream",
          "text": [
            "<class 'list'> 2181\n",
            "middle index 1090, value is age\n",
            "5 pre index 1085, value is sex\n",
            "5 pre index 1095, value is race\n"
          ],
          "name": "stdout"
        }
      ]
    },
    {
      "cell_type": "markdown",
      "metadata": {
        "id": "KS0x3oFNePI9"
      },
      "source": [
        "---\n",
        "### Exercise 4 - create a copy\n",
        "\n",
        "Write a function which will: use a for loop to create a copy of the `nums` list:\n",
        "\n",
        "*   create a new, empty, list called **new_nums**  (*Hint: an empty list is [ ]*)\n",
        "*   use a for loop which uses the following syntax:  `for num in nums:`\n",
        "*   each time round the loop append `num` to `new_nums`  ( *`new_nums.append(num)`*)\n",
        "*   print the first 10 items of `new_nums`\n",
        "*   print the first 10 items of `nums`\n",
        "*   print the length of both lists\n",
        "\n",
        "*Example expected output*:  \n",
        "[34, 3, 16, 3, 79, 33, 98, 24, 48, 8]  \n",
        "[34, 3, 16, 3, 79, 33, 98, 24, 48, 8]  \n",
        "Length of new_nums: 1000 Length of nums: 1000  "
      ]
    },
    {
      "cell_type": "code",
      "metadata": {
        "id": "mpK1Ip3we-uC",
        "colab": {
          "base_uri": "https://localhost:8080/"
        },
        "outputId": "55c97e15-eddf-4989-febc-4574a0b94885"
      },
      "source": [
        "new_nums=[]\n",
        "\n",
        "def copy_list(nums):\n",
        "  \n",
        "  for num in nums:\n",
        "   new_nums.append(num)\n",
        "  print (new_nums[0:10])\n",
        "  print (nums[0:10])\n",
        "  print (\"length of new nums {}: Length of nums: {}\" .format(len(new_nums), len(nums)))\n",
        "\n",
        "copy_list(nums)\n",
        "\n",
        "\n",
        "\n"
      ],
      "execution_count": 28,
      "outputs": [
        {
          "output_type": "stream",
          "text": [
            "[95, 77, 10, 9, 49, 64, 30, 72, 100, 59]\n",
            "[95, 77, 10, 9, 49, 64, 30, 72, 100, 59]\n",
            "length of new nums 1000: Length of nums: 1000\n"
          ],
          "name": "stdout"
        }
      ]
    },
    {
      "cell_type": "markdown",
      "metadata": {
        "id": "deUIFWjRe-3G"
      },
      "source": [
        "### Exercise 5 - count the occurrence of age in characteristics\n",
        "\n",
        "---\n",
        "\n",
        "Write a function which will use the list method:\n",
        "\n",
        "`list_name.count(item)`\n",
        "\n",
        "to count the number of occurrences of 'age' in the `characteristics` list.\n",
        "\n",
        "Print the result.\n",
        "\n",
        "*Example expected output*:  \n",
        "Number of times age appears in list: 42"
      ]
    },
    {
      "cell_type": "code",
      "metadata": {
        "id": "b9TrHQ9hfoIU",
        "colab": {
          "base_uri": "https://localhost:8080/"
        },
        "outputId": "467c8ade-c0fe-41ab-9f26-f1c25eab73ee"
      },
      "source": [
        "def count_characteristics(characteristics):\n",
        "  print (characteristics.count(\"age\"))\n",
        "\n",
        "count_characteristics(characteristics)\n",
        "\n",
        "\n"
      ],
      "execution_count": 32,
      "outputs": [
        {
          "output_type": "stream",
          "text": [
            "5\n"
          ],
          "name": "stdout"
        }
      ]
    },
    {
      "cell_type": "markdown",
      "metadata": {
        "id": "zm2VI5RmfoSy"
      },
      "source": [
        "---\n",
        "### Exercise 6 - sort the nums list\n",
        "\n",
        "Write a function which will:\n",
        "*   call the function `get_num_list()` and store the result in a new list called **sort_nums**\n",
        "*   print the first, and last, 10 items in the `sort_nums` list\n",
        "*   use the `list_name.sort()` method to sort the `sort_nums` list into ascending order\n",
        "*   print the first, and last, 10 items again  \n",
        "*   use the `list_name.sort()` method again to sort the `sort_nums` list into descending order\n",
        "*   print the first, and last, 10 items again  \n",
        "\n",
        "*Example expected output*:  \n",
        "Unsorted [94, 95, 54, 75, 87, 32, 55, 15, 37, 30] ....... [91, 92, 40, 83, 37, 82, 78, 82, 80, 9]  \n",
        "Ascending [1, 1, 1, 1, 1, 1, 1, 2, 2, 2] ....... [99, 99, 99, 100, 100, 100, 100, 100, 100, 100]  \n",
        "Descending [100, 100, 100, 100, 100, 100, 100, 99, 99, 99] ....... [2, 2, 2, 1, 1, 1, 1, 1, 1, 1]  "
      ]
    },
    {
      "cell_type": "code",
      "metadata": {
        "id": "Fksgpj9JgWDs",
        "colab": {
          "base_uri": "https://localhost:8080/"
        },
        "outputId": "e5b21d8c-bc68-41b9-92cb-e1d556ae5d2b"
      },
      "source": [
        " def  sort_nums_list():\n",
        "  sort_nums=get_num_list()\n",
        "  print (sort_nums[0:10],sort_nums[-10:])\n",
        "  sort_nums.sort()\n",
        "  print (sort_nums[0:10],sort_nums[-10:])\n",
        "  sort_nums.sort(reverse=True)\n",
        "  print (sort_nums[0:10],sort_nums[-10:])\n",
        "sort_nums_list()"
      ],
      "execution_count": 62,
      "outputs": [
        {
          "output_type": "stream",
          "text": [
            "[64, 4, 78, 37, 70, 60, 41, 90, 25, 35] [54, 50, 77, 72, 36, 70, 4, 1, 51, 93]\n",
            "[1, 1, 1, 1, 1, 1, 1, 2, 2, 2] [100, 100, 100, 100, 100, 100, 100, 100, 100, 100]\n",
            "[100, 100, 100, 100, 100, 100, 100, 100, 100, 100] [2, 2, 2, 1, 1, 1, 1, 1, 1, 1]\n"
          ],
          "name": "stdout"
        }
      ]
    },
    {
      "cell_type": "markdown",
      "metadata": {
        "id": "_OF-Xuj1UrW0"
      },
      "source": [
        "---\n",
        "### Exercise 7 - get statistics (max(), min(), sum() )\n",
        "\n",
        "Write a function which will:\n",
        "*   print the maximum and minimum numbers in the `nums` list  \n",
        "*   print the sum of the `nums` list\n",
        "*   calculate and print the average of the `nums` list (using `len()` to help)  \n",
        "\n",
        "*Example expected output*:  \n",
        "Maximum: 100 Minimum: 1  \n",
        "Sum 49750  \n",
        "Average 49.75   \n"
      ]
    },
    {
      "cell_type": "code",
      "metadata": {
        "id": "9YmYMenZVGod",
        "colab": {
          "base_uri": "https://localhost:8080/"
        },
        "outputId": "5e121042-f9d1-437d-fea9-cb437807f447"
      },
      "source": [
        "def get_max_min(nums):\n",
        "  maximum = max(nums)\n",
        "  print (\"Maximum: {}\" .format(maximum)),\n",
        "  minimum = min(nums)\n",
        "  print (\"Minimum: {}\" .format(minimum))\n",
        "\n",
        "  #don't know why this isn't working\n",
        "  sum_list=sum(nums)\n",
        "  print (\"Sum: {}\" .format(sum_list))\n",
        "  #ehhh\n",
        "  average = sum_list/(int(len(nums)))\n",
        "  print (\"Average: {:.02f}\" .format(average))\n",
        "\n",
        "get_max_min(nums)\n",
        " \n"
      ],
      "execution_count": 43,
      "outputs": [
        {
          "output_type": "stream",
          "text": [
            "Maximum: 100\n",
            "Minimum: 1\n",
            "Sum: 49988\n",
            "Average: 49.99\n"
          ],
          "name": "stdout"
        }
      ]
    },
    {
      "cell_type": "markdown",
      "metadata": {
        "id": "Mn4tHQ_KVbHa"
      },
      "source": [
        "---\n",
        "### Exercise 8 - percentage difference\n",
        "\n",
        "Write a function which will:\n",
        "*   generate a new list called **ex8_nums** using `get_num_list()`\n",
        "*   calculate and print the percentage difference between the first number in each list (as a percentage of the number in the nums list) (Hint:  find the difference between the two numbers, divide the difference by the number in `nums` and multiply by 100 - and use abs to ensure that the number is always positive)\n",
        "*   calculate and print the percentage difference between the last numbers in each list in the same way\n",
        "*   calculate and print the percentage difference between the middle numbers in each list in the same way.\n",
        "*   calculate and print the percentage difference between the sums of each list in the same way\n",
        "\n",
        "*Example expected output*:  \n",
        "First number difference 0.59 %  \n",
        "Last number difference 0.97 %  \n",
        "Middle number difference 0.65 %  \n",
        "Sum number difference 0.01 %  "
      ]
    },
    {
      "cell_type": "code",
      "metadata": {
        "id": "nJCQjZIeZL0e",
        "colab": {
          "base_uri": "https://localhost:8080/"
        },
        "outputId": "71b5f279-7c4c-400d-a610-b81b769e097f"
      },
      "source": [
        "\n",
        "def percentage_diff_list(get_num_list):\n",
        "  ex8_nums = get_num_list()\n",
        "\n",
        " # print (ex8_nums[0], nums[0])\n",
        " # used as manual check\n",
        "  firstNumber = ((nums[0]-ex8_nums[0])/nums[0])*100\n",
        "  print('First number difference {} %'.format(firstNumber))\n",
        "  lastNumber = ((nums[-1]-ex8_nums[-1])/nums[-1])*100\n",
        "  print('Last number difference {} %'.format(lastNumber))  \n",
        "\n",
        "\n",
        "  #mid_ex8_nums= len(ex8_nums)/2\n",
        "  #mid_nums= len(nums)/2\n",
        "  #middlenumber = ((ex8_nums[mid_ex8_nums]-nums[mid_nums])/nums[mid_nums])*100 \n",
        "  #print('Middle number difference {} %'.format(middlenumber)) \n",
        "  #should list be sorted and middle value taken, see below. should data be sorted beforehand?\n",
        "\n",
        "\n",
        "\n",
        "  sorted_nums= nums.sort()\n",
        "  sorted_ex8_nums= ex8_nums.sort()\n",
        " #code sorts list\n",
        "\n",
        "  mid_Value_nums = nums[int(len(nums)/2)]\n",
        "  #print (mid_Value_nums) used as manual check\n",
        "  mid_Value_ex8_nums = ex8_nums[int(len(ex8_nums)/2)]\n",
        "  #print (mid_Value_ex8_nums) used a check\n",
        "  middleNumber = ((mid_Value_nums-mid_Value_ex8_nums)/mid_Value_nums)*100\n",
        "  print('Middle number difference {} %'.format(middleNumber)) \n",
        "\n",
        "  sum_nums=sum(nums)\n",
        "  sum_ex8_nums=sum(ex8_nums)\n",
        "#sum of each list\n",
        "  sumNumber = ((mid_Value_nums-mid_Value_ex8_nums)/mid_Value_nums)*100\n",
        "  print('Sum number difference {} %'.format(sumNumber)) \n",
        "\n",
        "\n",
        "percentage_diff_list(get_num_list)"
      ],
      "execution_count": 61,
      "outputs": [
        {
          "output_type": "stream",
          "text": [
            "First number difference -800.0 %\n",
            "Last number difference 31.0 %\n",
            "Middle number difference 4.0 %\n",
            "Sum number difference 4.0 %\n"
          ],
          "name": "stdout"
        }
      ]
    },
    {
      "cell_type": "markdown",
      "metadata": {
        "id": "HNs3lZmYawFO"
      },
      "source": [
        "---\n",
        "### Exercise 9 - characteristic counts\n",
        "\n",
        "Write a function which will:\n",
        "*  iterate through the `protected_characteristics` tuple and for each **characteristic**:\n",
        "*   *   count the number of occurrences of that `characteristic` in the `characteristics` list\n",
        "*   *   print the `protected_characteristic` and the **count**    \n",
        "  \n",
        "*Example expected output*:\n",
        "\n",
        "age 100  \n",
        "disability 120  \n",
        "gender reassignment 120  \n",
        "marriage and civil partnership 111  \n",
        "pregnancy and maternity 103  \n",
        "race 106  \n",
        "religion or belief 95  \n",
        "sex 110  \n",
        "sexual orientation 113  \n",
        "\n",
        "Extra learning:  you can read [here](https://thispointer.com/python-how-to-pad-strings-with-zero-space-or-some-other-character/) how to justify the printed characteristic so that the output is organised into two columns as shown below:  \n",
        "![tabulated output](https://drive.google.com/uc?id=1CCXfX6K5ZeDefnq7vUsqxCDmqvcfY8Mz)\n",
        "\n",
        "\n",
        "\n"
      ]
    },
    {
      "cell_type": "code",
      "metadata": {
        "id": "GURT11albqUs",
        "colab": {
          "base_uri": "https://localhost:8080/"
        },
        "outputId": "ce76bd4f-2b76-4532-cf00-014f10731eaf"
      },
      "source": [
        "def characteristic_counts(protected_characteristics,characteristics):\n",
        "  for item in protected_characteristics:\n",
        "    count = characteristics.count(item)\n",
        "    #count not working\n",
        "    print ('{} {}'.format(item, count))\n",
        "\n",
        "\n",
        "\n",
        "characteristic_counts(protected_characteristics, characteristics)\n"
      ],
      "execution_count": 94,
      "outputs": [
        {
          "output_type": "stream",
          "text": [
            "age 78\n",
            "disability 75\n",
            "gender reassignment 93\n",
            "marriage and civil partnership 70\n",
            "pregnancy and maternity 75\n",
            "race 78\n",
            "religion or belief 85\n",
            "sex 89\n",
            "sexual orientation 79\n"
          ],
          "name": "stdout"
        }
      ]
    },
    {
      "cell_type": "markdown",
      "metadata": {
        "id": "9Po7yQj-ds38"
      },
      "source": [
        "---\n",
        "### Exercise 10 - characteristics statistics\n",
        "\n",
        "Assuming that the `characteristics` list may have been taken from a study of cases that have been taken to court in relation to the Equality Act.  \n",
        "\n",
        "Write a function which will:\n",
        "\n",
        "*   find the most common characteristic resulting in court action, from this population\n",
        "*   print this in a message, e.g. The characteristic with the highest number of court cases is:  *characteristic*\n",
        "*   print the list of `protected_characteristics`, on one line if possible - see [here](https://www.geeksforgeeks.org/g-fact-25-print-single-multiple-variable-python/)\n",
        "*   ask the user to enter a characteristic that they would like to see statistics on and use a while loop to continue until the user has entered a valid characteristic\n",
        "*   print the characteristic, its frequency and the percentage that this frequency is of the whole population.\n",
        "\n",
        "*Test input*:  \n",
        "maternity and pregnancy\n",
        "\n",
        "*Example expected output*:  \n",
        "The characteristic with the highest number of court cases is: sex  \n",
        "Protected characteristics:  age disability gender reassignment marriage and civil partnership pregnancy and maternity race religion or belief sex sexual orientation   \n",
        "Which characteristic would you like to see statistics on? marriage  \n",
        "Which characteristic would you like to see statistics on? age  \n",
        "age 473 10.97 %  \n"
      ]
    },
    {
      "cell_type": "code",
      "metadata": {
        "id": "z2y--gDktY0q"
      },
      "source": [
        "race"
      ],
      "execution_count": null,
      "outputs": []
    },
    {
      "cell_type": "code",
      "metadata": {
        "id": "GNQNxGC4xj_K"
      },
      "source": [
        ""
      ],
      "execution_count": null,
      "outputs": []
    },
    {
      "cell_type": "code",
      "metadata": {
        "id": "BNCbSTmH8Grd"
      },
      "source": [
        ""
      ],
      "execution_count": null,
      "outputs": []
    },
    {
      "cell_type": "code",
      "metadata": {
        "id": "-vGY7LWR8vj3"
      },
      "source": [
        ""
      ],
      "execution_count": null,
      "outputs": []
    },
    {
      "cell_type": "code",
      "metadata": {
        "id": "uk_I5z7UgbDs",
        "colab": {
          "base_uri": "https://localhost:8080/"
        },
        "outputId": "db51ccbe-57bb-48d6-e7ff-c59098d13399"
      },
      "source": [
        "from statistics import mode\n",
        "\n",
        "def most_common(characteristics):\n",
        "  print (\"The characteristic with the highest number of court cases is {}.\\n\".format(mode(characteristics)))\n",
        "#mode  = most common, will only work if 1 element most common.\n",
        "  print(protected_characteristics, end=' ')\n",
        "\n",
        "  user_characteristic = input(\"Which characteristic would you like to see statistics on? \")\n",
        "  \n",
        "  if  user_characteristic in characteristics:\n",
        "     count = characteristics.count(user_characteristic)\n",
        "     percentage = (count/(len(characteristics)))*100\n",
        "     print (\"{}, {}, {:.2f}%\".format(user_characteristic, count, percentage))\n",
        "\n",
        "  else:\n",
        "   print (\"Enter a protected characteristic\")\n",
        "#works fine\n",
        "\n",
        "  user_characteristic = input(\"Which characteristic would you like to see statistics on? \")\n",
        "\n",
        "  while  user_characteristic is True:\n",
        "  \n",
        "     count = characteristics.count(user_characteristic)\n",
        "     percentage = (count/(len(characteristics)))*100\n",
        "     print (\"{}, {}, {:.2f}%\".format(user_characteristic, count, percentage))\n",
        "     break\n",
        "  else:\n",
        "      print (\"Enter a protected characteristic\")\n",
        " \n",
        "most_common(characteristics)"
      ],
      "execution_count": 48,
      "outputs": [
        {
          "output_type": "stream",
          "text": [
            "The characteristic with the highest number of court cases is sexual orientation.\n",
            "\n",
            "('age', 'disability', 'gender reassignment', 'marriage and civil partnership', 'pregnancy and maternity', 'race', 'religion or belief', 'sex', 'sexual orientation') Which characteristic would you like to see statistics on? carrot\n",
            "Enter a protected characteristic\n",
            "Which characteristic would you like to see statistics on? carrot\n",
            "Enter a protected characteristic\n"
          ],
          "name": "stdout"
        }
      ]
    },
    {
      "cell_type": "markdown",
      "metadata": {
        "id": "g24vq4z2zECI"
      },
      "source": [
        "# Reflection\n",
        "----\n",
        "\n",
        "## What skills have you demonstrated in completing this notebook?"
      ]
    },
    {
      "cell_type": "markdown",
      "metadata": {
        "id": "dJ-UIZakzI4S"
      },
      "source": [
        ""
      ]
    },
    {
      "cell_type": "markdown",
      "metadata": {
        "id": "MYoQrjddzJxg"
      },
      "source": [
        "## What caused you the most difficulty?"
      ]
    },
    {
      "cell_type": "markdown",
      "metadata": {
        "id": "aFPNBDPPzjx9"
      },
      "source": [
        ""
      ]
    }
  ]
}