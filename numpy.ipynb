{
 "cells": [
  {
   "cell_type": "markdown",
   "metadata": {
    "id": "M21YTen340ZU"
   },
   "source": [
    "# Using numpy for processing arrays and matrices of number data\n",
    "\n",
    "---"
   ]
  },
  {
   "cell_type": "markdown",
   "metadata": {
    "id": "lvCryMxH47we"
   },
   "source": [
    "## numpy is a more efficient array processing library for Python\n",
    "\n",
    "Python lists can contain any type of data, including objects.  numpy arrays are **specialised and can only contain numbers**.\n",
    "\n",
    "You can customise the memory usage so that arrays can use less memory and items are stored contiguously.  This means that it is **more efficient/faster processing large data sets**.\n",
    "\n",
    "Use numpy arrays to **store and manipulate large lists of numbers** (for other data types use plain Python lists or a panda series)\n",
    "\n",
    "Where a pandas column (series) is large and contains numerical data, converting it to a numpy array will help with performance.\n"
   ]
  },
  {
   "cell_type": "markdown",
   "metadata": {
    "id": "MxKEUfvp54QO"
   },
   "source": [
    "---\n",
    "### Creating a numpy array from a Python list\n",
    "\n",
    "To use numpy, you will need to import it.  The conventional way to import numpy is to import the whole library and use an *alias*\n",
    "\n",
    "`import numpy as np`\n",
    "\n",
    "Every time you want to use a function from the numpy library you use the syntax:  \n",
    "`np.function_name()`  \n",
    "\n",
    "Create a new numpy array from a Python list of numbers\n",
    "   \n",
    "`arr = np.array([1,2,3])`\n",
    "\n",
    "Or a new numpy matrix from a Python 2 dimensional list of numbers\n",
    "\n",
    "`matrix = np.array([1,2,3],[4,5,6])`\n",
    "\n",
    "***Reference***:  https://numpy.org/doc/stable/reference/index.html"
   ]
  },
  {
   "cell_type": "markdown",
   "metadata": {
    "id": "s2HQHeHE6r4n"
   },
   "source": [
    "---\n",
    "### Exercise 1 - create a numpy array from a given list  \n",
    "\n",
    "Write a function called `make_array(num_list`) which will:\n",
    "*   accept num_list as a parameter  \n",
    "*   create a new numpy array called **new_array** from `num_list`\n",
    "*   print `new_array`\n",
    "\n",
    "Test input:  \n",
    "`num_list = [3,6,2,5,8,6]`  \n",
    "\n",
    "Expected output:  \n",
    "`[3 6 2 5 8 6] ` \n",
    "\n"
   ]
  },
  {
   "cell_type": "code",
   "execution_count": 9,
   "metadata": {
    "id": "-WWVDSRq7QDN"
   },
   "outputs": [
    {
     "name": "stdout",
     "output_type": "stream",
     "text": [
      "[3 6 2 5 8 6]\n"
     ]
    }
   ],
   "source": [
    "import numpy as np\n",
    "num_list = [3,6,2,5,8,6]\n",
    "\n",
    "def make_array(num_list):\n",
    "    new_array =np.array(num_list)\n",
    "    print (new_array)\n",
    "    \n",
    "make_array(num_list)\n",
    "    \n",
    "    "
   ]
  },
  {
   "cell_type": "markdown",
   "metadata": {
    "id": "X2qc0-nc7qZV"
   },
   "source": [
    "## Setting the number type in memory\n",
    "\n",
    "numpy allows you to set the type of number in memory (e.g. `int8`, `int32`) when you create the array.  This allows memory allocation to be as small as possible.  \n",
    "\n",
    "`new_matrix = np.array([[1, 2, 3], [4, 5, 6]], np.int8)`    \n",
    "\n",
    "This creates a two row, three column matrix of whole numbers which are all small enough to fit in 1 byte of memory storage.\n",
    "\n",
    "---\n",
    "### Exercise 2 - create matrix of smallish numbers\n",
    "\n",
    "Write a function which will:\n",
    "*   accept a parameter **num_2d_list** which will be a 2-dimensional list  \n",
    "*   create a new numpy array called **new_matrix** from `num_2s_list`, with data size `int16`\n",
    "*   print `new_matrix` one list per line\n",
    "\n",
    "Test input:  \n",
    "`[[31112, 32321, 24567],[456,324,789]]`\n",
    "\n",
    "Expected output:   \n",
    "```\n",
    "[31112 32321 24567]\n",
    "[456 324 789]\n",
    "```\n",
    "\n",
    "\n",
    "\n",
    "\n",
    "\n",
    "\n",
    "\n",
    "\n",
    "  \n",
    " \n"
   ]
  },
  {
   "cell_type": "code",
   "execution_count": 13,
   "metadata": {
    "id": "XUMfMwhLACzH"
   },
   "outputs": [
    {
     "name": "stdout",
     "output_type": "stream",
     "text": [
      "[[31112 32321 24567]\n",
      " [  456   324   789]]\n"
     ]
    }
   ],
   "source": [
    "num_2d_list = [[31112, 32321, 24567],[456,324,789]]\n",
    "\n",
    "def twod_list(num_2d_list):\n",
    "    new_matrix = np.array(num_2d_list, np.int16)\n",
    "    print (new_matrix)\n",
    "\n",
    "twod_list(num_2d_list)"
   ]
  },
  {
   "cell_type": "markdown",
   "metadata": {
    "id": "oC8rsm3yBLRd"
   },
   "source": [
    "---\n",
    "### Exercise 3 - make a 3 x 3 numpy array\n",
    "\n",
    "Write a function which  will create a 3 x 3 array, then print the array one row per line.\n",
    "\n",
    "Test data:  \n",
    "`[[1,2,3],[4,5,6],[7,8,9]]`\n",
    "\n",
    "Expected output:  \n",
    "\n",
    "\n",
    "```\n",
    "[1 2 3]\n",
    "[4 5 6]  \n",
    "[7 8 9]\n",
    "```\n",
    "\n",
    "  "
   ]
  },
  {
   "cell_type": "code",
   "execution_count": 41,
   "metadata": {
    "id": "QCs2eDFEBhr8"
   },
   "outputs": [
    {
     "ename": "TypeError",
     "evalue": "arange: scalar arguments expected instead of a tuple.",
     "output_type": "error",
     "traceback": [
      "\u001b[1;31m---------------------------------------------------------------------------\u001b[0m",
      "\u001b[1;31mTypeError\u001b[0m                                 Traceback (most recent call last)",
      "\u001b[1;32m<ipython-input-41-c0bd9df4e254>\u001b[0m in \u001b[0;36m<module>\u001b[1;34m\u001b[0m\n\u001b[0;32m      4\u001b[0m     \u001b[0mdf\u001b[0m \u001b[1;33m=\u001b[0m \u001b[0mnp\u001b[0m\u001b[1;33m.\u001b[0m\u001b[0marange\u001b[0m\u001b[1;33m(\u001b[0m\u001b[1;33m(\u001b[0m\u001b[1;36m3\u001b[0m\u001b[1;33m,\u001b[0m\u001b[1;36m3\u001b[0m\u001b[1;33m)\u001b[0m\u001b[1;33m)\u001b[0m\u001b[1;33m\u001b[0m\u001b[1;33m\u001b[0m\u001b[0m\n\u001b[0;32m      5\u001b[0m     \u001b[0mprint\u001b[0m\u001b[1;33m(\u001b[0m\u001b[0mdf\u001b[0m\u001b[1;33m)\u001b[0m\u001b[1;33m\u001b[0m\u001b[1;33m\u001b[0m\u001b[0m\n\u001b[1;32m----> 6\u001b[1;33m \u001b[0mnew_array\u001b[0m\u001b[1;33m(\u001b[0m\u001b[0mnum_list\u001b[0m\u001b[1;33m)\u001b[0m\u001b[1;33m\u001b[0m\u001b[1;33m\u001b[0m\u001b[0m\n\u001b[0m",
      "\u001b[1;32m<ipython-input-41-c0bd9df4e254>\u001b[0m in \u001b[0;36mnew_array\u001b[1;34m(num_list)\u001b[0m\n\u001b[0;32m      2\u001b[0m \u001b[1;33m\u001b[0m\u001b[0m\n\u001b[0;32m      3\u001b[0m \u001b[1;32mdef\u001b[0m \u001b[0mnew_array\u001b[0m\u001b[1;33m(\u001b[0m\u001b[0mnum_list\u001b[0m\u001b[1;33m)\u001b[0m\u001b[1;33m:\u001b[0m\u001b[1;33m\u001b[0m\u001b[1;33m\u001b[0m\u001b[0m\n\u001b[1;32m----> 4\u001b[1;33m     \u001b[0mdf\u001b[0m \u001b[1;33m=\u001b[0m \u001b[0mnp\u001b[0m\u001b[1;33m.\u001b[0m\u001b[0marange\u001b[0m\u001b[1;33m(\u001b[0m\u001b[1;33m(\u001b[0m\u001b[1;36m3\u001b[0m\u001b[1;33m,\u001b[0m\u001b[1;36m3\u001b[0m\u001b[1;33m)\u001b[0m\u001b[1;33m)\u001b[0m\u001b[1;33m\u001b[0m\u001b[1;33m\u001b[0m\u001b[0m\n\u001b[0m\u001b[0;32m      5\u001b[0m     \u001b[0mprint\u001b[0m\u001b[1;33m(\u001b[0m\u001b[0mdf\u001b[0m\u001b[1;33m)\u001b[0m\u001b[1;33m\u001b[0m\u001b[1;33m\u001b[0m\u001b[0m\n\u001b[0;32m      6\u001b[0m \u001b[0mnew_array\u001b[0m\u001b[1;33m(\u001b[0m\u001b[0mnum_list\u001b[0m\u001b[1;33m)\u001b[0m\u001b[1;33m\u001b[0m\u001b[1;33m\u001b[0m\u001b[0m\n",
      "\u001b[1;31mTypeError\u001b[0m: arange: scalar arguments expected instead of a tuple."
     ]
    }
   ],
   "source": [
    "num_list = [[1,2,3],[4,5,6],[7,8,9]]\n",
    "\n",
    "def new_array(num_list):\n",
    "    df = np.arange((3,3))\n",
    "    print(df)\n",
    "new_array(num_list)"
   ]
  },
  {
   "cell_type": "markdown",
   "metadata": {
    "id": "qf3xj2T9CRmT"
   },
   "source": [
    "---\n",
    "### Exercise 4 - make a 2 x 2 x 2 numpy array\n",
    "\n",
    "Write a function which will create a 2 x 2 x 2 array, then print the array one individual array per line.\n",
    "\n",
    "Test data:\n",
    "\n",
    "`[[[1,2],[3,4]],[[5,6],[7,8]]]`\n",
    "\n",
    "Expected output:  \n",
    "```\n",
    "[1 2]\n",
    "[3 4]\n",
    "[5 6]\n",
    "[7 8]\n",
    "```\n",
    "\n",
    "     "
   ]
  },
  {
   "cell_type": "code",
   "execution_count": 38,
   "metadata": {
    "id": "27UpVktxC_VX"
   },
   "outputs": [
    {
     "name": "stdout",
     "output_type": "stream",
     "text": [
      "[]\n"
     ]
    }
   ],
   "source": [
    "def new_array():\n",
    "    new_matrix = np.arange(3,3)\n",
    "    print (new_matrix)\n",
    "    \n",
    "new_array()\n",
    "\n",
    "    \n",
    "    "
   ]
  },
  {
   "cell_type": "markdown",
   "metadata": {
    "id": "-LciyxtyCKTG"
   },
   "source": [
    "## Inspecting the shape of the array/matrix\n",
    "\n",
    "numpy provides the `np.shape` property for reporting the shape of a numpy array.  np.shape will give the number of layers, rows, columns (and more if necessary) present in the array.  Arrays can be multi-dimensional but we will only arrays of maximum 3 dimensions to keep it simple.  \n",
    "\n",
    "Example:  \n",
    "```\n",
    "matrix = np.array([[[1,1],[2,2],[3,3]],[[4,4],[5,5],[6,6]]])\n",
    "print(matrix.shape)\n",
    "```\n",
    "\n",
    "Expected output:  \n",
    "`(2, 3, 2)`\n",
    "\n",
    "This matrix has 2 layers of 3 rows of 2 columns"
   ]
  },
  {
   "cell_type": "markdown",
   "metadata": {
    "id": "dgMSHeN8Ey0Q"
   },
   "source": [
    "---\n",
    "### Exercise 5 - print the shape\n",
    "\n",
    "Write a function which will:  \n",
    "*  create a numpy array using the test data below\n",
    "*  print the shape of the array\n",
    "\n",
    "Test 1 data:  \n",
    "`[3,7,56]`\n",
    "\n",
    "Expected output:\n",
    "\n",
    "`(3,)`\n",
    "\n",
    "Test 2 data:  \n",
    "`[[7,6,5,8,4,9],[3,7,5,8,6,9]]`\n",
    "\n",
    "Expected output:  \n",
    "`(2,6)`"
   ]
  },
  {
   "cell_type": "code",
   "execution_count": null,
   "metadata": {
    "id": "uFARauf3FiMf"
   },
   "outputs": [],
   "source": []
  },
  {
   "cell_type": "markdown",
   "metadata": {
    "id": "DDVIHbrnFjwz"
   },
   "source": [
    "---\n",
    "### Exercise 6 - using slicing to print parts of arrays\n",
    "\n",
    "Write a function which will:  \n",
    "*  create an array from the Python list `[1,2,3,4,5]`\n",
    "*  print the first 3 items in the array\n",
    "*  print the last item in the array\n",
    "\n",
    "Expected output:\n",
    "```\n",
    "[1 2 3]\n",
    "5\n",
    "\n",
    "```\n",
    "\n"
   ]
  },
  {
   "cell_type": "code",
   "execution_count": null,
   "metadata": {
    "id": "YB72q998EWkF"
   },
   "outputs": [],
   "source": []
  },
  {
   "cell_type": "markdown",
   "metadata": {
    "id": "QnOKzp1cHAvH"
   },
   "source": [
    "---\n",
    "### Exercise 7 - using slicing to print parts of array rows and columns\n",
    "\n",
    "Write a function which will:  \n",
    "*  create an array from the Python 2 dimensional list `[[1,2,3,4],[5,6,7,8],[9,1,2,3]]`\n",
    "*  print the first item in the second row   \n",
    "*  print the first 2 rows only\n",
    "*  print the last 2 items in the last 2 rows\n",
    "\n",
    "Expected output:  \n",
    "```\n",
    "5\n",
    "[[1 2 3 4]\n",
    " [5 6 7 8]]\n",
    "[[7 8]\n",
    " [2 3]]\n",
    "```\n",
    "\n",
    "  \n",
    "\n"
   ]
  },
  {
   "cell_type": "code",
   "execution_count": null,
   "metadata": {
    "id": "xXsISkA4HibO"
   },
   "outputs": [],
   "source": []
  },
  {
   "cell_type": "markdown",
   "metadata": {
    "id": "OxR5qwoxIhMY"
   },
   "source": [
    "---\n",
    "## Broadcasting an operation across an array\n",
    "\n",
    "Because a numpy array is created from a related set of data, it is useful to be able to operate on every item in the array in the same way.  For instance, the array might hold a set of scores out of 30 and you might want to convert all scores into percentages.\n",
    "\n",
    "We can do this in a number of ways:  \n",
    "1.  Create a new array to store the result after the operation in the new array\n",
    "```\n",
    "scores = np.array([29,25,15,22,30])\n",
    "percentages = scores / 30 * 100\n",
    "print(percentages)\n",
    "```\n",
    "Expected output:\n",
    "```\n",
    "[ 96.66666667  83.33333333  50.          73.33333333 100.        ]\n",
    "```\n",
    "2.  Store the result in the original array\n",
    "```\n",
    "scores = np.array([29,25,15,22,30])\n",
    "scores = scores / 30 * 100\n",
    "print(scores)\n",
    "```\n",
    "Expected output:\n",
    "```\n",
    "[ 96.66666667  83.33333333  50.  73.33333333 100. ]\n",
    "```\n",
    "\n",
    "Give it a try:\n",
    "\n",
    "\n",
    "\n"
   ]
  },
  {
   "cell_type": "code",
   "execution_count": null,
   "metadata": {
    "id": "ozhaq9-tJhRy"
   },
   "outputs": [],
   "source": []
  },
  {
   "cell_type": "markdown",
   "metadata": {
    "id": "Lg62ACAlLzT8"
   },
   "source": [
    "---\n",
    "### Exercise 8 - increase whole array by 20\n",
    "\n",
    "Write a function which will:\n",
    "*  create a numpy array of 12 numbers\n",
    "*  create a new array adding 20 to each of the items in the first array  \n",
    "*  print the new array\n",
    "\n",
    "Test input:  \n",
    "`[1,2,3,4,5,6,7,8,1,2,3,4]`\n",
    "\n",
    "Expected output:  \n",
    "`[21 22 23 24 25 26 27 28 21 22 23 24]`"
   ]
  },
  {
   "cell_type": "code",
   "execution_count": null,
   "metadata": {
    "id": "HloCtcOYMD3W"
   },
   "outputs": [],
   "source": []
  },
  {
   "cell_type": "markdown",
   "metadata": {
    "id": "B-p-PF99MECD"
   },
   "source": [
    "---\n",
    "## Using functions to create arrays of 1s, 0s or a range of numbers\n",
    "\n",
    "You can use `np.arange(range)` to create an array with a range of numbers.  Like range in Python, either give 1 number to get all numbers from 0 to the number before it, or give 2 numbers to get the numbers from the first to one before the last.  You can specify the start number, the stop number and a step size (e.g. `(1,9,2)` will generate `[1 3 5 7]`:\n",
    "```\n",
    "array1 = np.arange(10)\n",
    "```\n",
    "will give array1 = `[0,1,2,3,4,5,6,7,8,9]`\n",
    "\n",
    "```\n",
    "array2 = np.arange(2,9)\n",
    "```\n",
    "will give array2 = `[2,3,4,5,6,7,8]`\n",
    "\n",
    "```\n",
    "array3 = np.arange(2,9,3)\n",
    "```\n",
    "will give array3 = `[2,5,8]`  \n",
    "\n",
    "---\n",
    "\n",
    "To create a new array of 10 zeros:\n",
    "```\n",
    "array4 = np.zeros(10)\n",
    "```\n",
    "will give array4 = `[0. 0. 0. 0. 0. 0. 0. 0. 0. 0.]`\n",
    "\n",
    "To create a new array of 10 zeros as integers:\n",
    "```\n",
    "array5 = np.zeros(10, dtype='int32')\n",
    "```\n",
    "will give array5 = `[0 0 0 0 0 0 0 0 0 0]`\n",
    "\n",
    "To create a new array of 8 ones:  \n",
    "```\n",
    "array6 = np.ones(8, dtype='int16')\n",
    "```\n",
    "will give array6 = `[1 1 1 1 1 1 1 1]`\n",
    "\n",
    "---\n",
    "### Exercise 9 - create a numpy array of the numbers 1 to 8  \n",
    "\n",
    "Write a function which will:  \n",
    "*  create a numpy array with the numbers 1 to 8 using `np.arange()`  \n",
    "*  create a second numpy array with 12 zero integers\n",
    "*  create a third numpy array with 4 ones (whole numbers)  \n",
    "*  create a fourth numpy array with the the multiples of 10 from 10 to 100 (use arange with start, stop and step)\n",
    "\n",
    "Expected output:  \n",
    "```\n",
    "[1 2 3 4 5 6 7 8]  \n",
    "[0 0 0 0 0 0 0 0 0 0 0 0]  \n",
    "[1 1 1 1]  \n",
    "[ 10  20  30  40  50  60  70  80  90 100]\n",
    "```\n",
    "\n",
    "\n",
    " "
   ]
  },
  {
   "cell_type": "code",
   "execution_count": null,
   "metadata": {
    "id": "ahgPUqTjM9it"
   },
   "outputs": [],
   "source": []
  },
  {
   "cell_type": "markdown",
   "metadata": {
    "id": "Bv1G1MJpT1U9"
   },
   "source": [
    "---\n",
    "### Exercise 10 - create a numpy mask matrix\n",
    "\n",
    "**Challenging**\n",
    "\n",
    "Write a function which will create and print a numpy array as follows:\n",
    "\n",
    "*  create **array1** with `shape=(8,8)` containing all zeros of dtype `int16`\n",
    "*  print `array1`\n",
    "*  find and print the number of rows and cols in array1\n",
    "*  change the value of the corner items to `1`\n",
    "*  print `array1`\n",
    "*  change the value of the middle two items of the middle two rows of `array1`, each to `1` (use list indexing for this)\n",
    "*  print `array1`\n",
    "\n",
    "*Reference*: https://pythonexamples.org/python-numpy-zeros/\n",
    "\n",
    "Expected output:  \n",
    "```\n",
    "[[0 0 0 0 0 0 0 0]  \n",
    " [0 0 0 0 0 0 0 0]  \n",
    " [0 0 0 0 0 0 0 0]  \n",
    " [0 0 0 0 0 0 0 0]  \n",
    " [0 0 0 0 0 0 0 0]  \n",
    " [0 0 0 0 0 0 0 0]  \n",
    " [0 0 0 0 0 0 0 0]  \n",
    " [0 0 0 0 0 0 0 0]]\n",
    "\n",
    " 8,8\n",
    "\n",
    "[[0 0 0 0 0 0 0 0]  \n",
    " [0 0 0 0 0 0 0 0]  \n",
    " [0 0 0 0 0 0 0 0]  \n",
    " [0 0 0 1 1 0 0 0]  \n",
    " [0 0 0 1 1 0 0 0]  \n",
    " [0 0 0 0 0 0 0 0]  \n",
    " [0 0 0 0 0 0 0 0]  \n",
    " [0 0 0 0 0 0 0 0]]\n",
    "\n",
    " [[1 0 0 0 0 0 0 1]  \n",
    " [0 0 0 0 0 0 0 0]  \n",
    " [0 0 0 0 0 0 0 0]  \n",
    " [0 0 0 1 1 0 0 0]  \n",
    " [0 0 0 1 1 0 0 0]  \n",
    " [0 0 0 0 0 0 0 0]  \n",
    " [0 0 0 0 0 0 0 0]  \n",
    " [1 0 0 0 0 0 0 1]] \n",
    " ```\n",
    "\n"
   ]
  },
  {
   "cell_type": "code",
   "execution_count": null,
   "metadata": {
    "id": "x90cXT8NWD40"
   },
   "outputs": [],
   "source": [
    " "
   ]
  },
  {
   "cell_type": "markdown",
   "metadata": {
    "id": "yQyytEbnZ1lw"
   },
   "source": [
    "# Reflection\n",
    "----\n",
    "\n",
    "## What skills have you demonstrated in completing this notebook?"
   ]
  },
  {
   "cell_type": "markdown",
   "metadata": {
    "id": "MM00hR5aZk1-"
   },
   "source": [
    "Your answer: "
   ]
  },
  {
   "cell_type": "markdown",
   "metadata": {
    "id": "Zgexd27sZ1ly"
   },
   "source": [
    "## What caused you the most difficulty?"
   ]
  },
  {
   "cell_type": "markdown",
   "metadata": {
    "id": "-Y_nrVBwaGXr"
   },
   "source": [
    "Your answer: "
   ]
  }
 ],
 "metadata": {
  "colab": {
   "collapsed_sections": [
    "lvCryMxH47we",
    "MxKEUfvp54QO",
    "s2HQHeHE6r4n"
   ],
   "name": "Numpy.ipynb",
   "provenance": []
  },
  "kernelspec": {
   "display_name": "Python 3",
   "language": "python",
   "name": "python3"
  },
  "language_info": {
   "codemirror_mode": {
    "name": "ipython",
    "version": 3
   },
   "file_extension": ".py",
   "mimetype": "text/x-python",
   "name": "python",
   "nbconvert_exporter": "python",
   "pygments_lexer": "ipython3",
   "version": "3.8.8"
  }
 },
 "nbformat": 4,
 "nbformat_minor": 1
}
