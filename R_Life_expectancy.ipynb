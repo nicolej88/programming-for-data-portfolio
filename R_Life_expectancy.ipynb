{
  "nbformat": 4,
  "nbformat_minor": 0,
  "metadata": {
    "colab": {
      "name": "R - Life expectancy",
      "provenance": [],
      "include_colab_link": true
    },
    "kernelspec": {
      "name": "ir",
      "display_name": "R"
    },
    "language_info": {
      "name": "R"
    }
  },
  "cells": [
    {
      "cell_type": "markdown",
      "metadata": {
        "id": "view-in-github",
        "colab_type": "text"
      },
      "source": [
        "<a href=\"https://colab.research.google.com/github/nicolej88/programming-for-data-portfolio/blob/main/R_Life_expectancy.ipynb\" target=\"_parent\"><img src=\"https://colab.research.google.com/assets/colab-badge.svg\" alt=\"Open In Colab\"/></a>"
      ]
    },
    {
      "cell_type": "markdown",
      "metadata": {
        "id": "rOZdmqh9bNxr"
      },
      "source": [
        "# Predicting Life Expectancy \n",
        "---\n",
        "\n",
        "Using what you learnt in the previous worksheet, you will be performing a multiple linear regression on the life expectancy dataset. You will be using your statistical knowledge to see which (if any) of the variables predict life expectancy.  \n",
        "\n",
        "URL = \"https://raw.githubusercontent.com/lilaceri/Working-with-data-/main/Data%20Sets%20for%20code%20divisio/Life%20Expectancy%20Data.csv\"\n",
        "\n",
        "### **The data in question:**\n",
        "\n",
        "The variables:\n",
        "\n",
        "* Country \n",
        "* Year \n",
        "* Status - developing or developed status\n",
        "* Life expectancy - in age (Target variable or IV)\n",
        "* Adult mortality - Adult Mortality Rates of both sexes (probability of dying between 15 and 60 years per 1000 population)\n",
        "* infant deaths - Number of Infant Deaths per 1000 population\n",
        "* Alcohol - Alcohol, recorded per capita (15+) consumption (in litres of pure alcohol)\n",
        "* Percentage expenditure - Expenditure on health as a percentage of GDP per capita(%)\n",
        "* Hepititis B - Hepatitis B (HepB) immunization coverage among 1-year-olds (%)\n",
        "* Measles - Measles - number of reported cases per 1000 population\n",
        "* BMI - Average Body Mass Index of entire population\n",
        "* Under five deaths - Number of under-five deaths per 1000 population\n",
        "* Polio - Polio immunization coverage among 1-year-olds (%)\n",
        "* Total expenditure - General government expenditure on health as a percentage of total government expenditure (%)\n",
        "* Diphtheria - Diphtheria tetanus toxoid and pertussis immunization coverage among 1-year-olds (%)\n",
        "* Deaths per 1 000 live births HIV/AIDS (0-4 years)\n",
        "* GDP - per capita in USD \n",
        "* Population\n",
        "* thinness 10-19 years - Prevalence of thinness among children and adolescents for Age 10 to 19 (%)\n",
        "* thinness 5-9 years - Prevalence of thinness among children for Age 5 to 9(%)\n",
        "* Income composition - Human Development Index in terms of income composition of resources (index ranging from 0 to 1)\n",
        "* Schooling - Number of years of Schooling(years)"
      ]
    },
    {
      "cell_type": "markdown",
      "metadata": {
        "id": "7yrkzHbka4b4"
      },
      "source": [
        "**Run the cell block below to install and load the necessary packages**"
      ]
    },
    {
      "cell_type": "code",
      "metadata": {
        "id": "UynJ26EfHROz",
        "outputId": "6d20e85e-376f-4533-ec33-f693c1e97e11",
        "colab": {
          "base_uri": "https://localhost:8080/"
        }
      },
      "source": [
        "# this code needs to be run once to install the packages on your system\n",
        "install.packages(\"tidyverse\")\n",
        "install.packages(\"ggplot2\")\n",
        "install.packages(\"fastDummies\")\n",
        "\n",
        "# this code needs to be run to open the packages \n",
        "\n",
        "# tidyverse includes dpylr which includes all the functions such as mutate, select, summarise etc\n",
        "library(\"tidyverse\")\n",
        "\n",
        "# ggplot2 contains all the visualisation tools (similar to matplotlib)\n",
        "library(\"ggplot2\")\n",
        "\n",
        "# fastdummies is for dummy coding\n",
        "library(\"fastDummies\")\n",
        "\n",
        "# displaying in real numbers rather than in scientific form \n",
        "\n",
        "options(scipen = 999)"
      ],
      "execution_count": 3,
      "outputs": [
        {
          "output_type": "stream",
          "text": [
            "Installing package into ‘/usr/local/lib/R/site-library’\n",
            "(as ‘lib’ is unspecified)\n",
            "\n",
            "Installing package into ‘/usr/local/lib/R/site-library’\n",
            "(as ‘lib’ is unspecified)\n",
            "\n",
            "Installing package into ‘/usr/local/lib/R/site-library’\n",
            "(as ‘lib’ is unspecified)\n",
            "\n"
          ],
          "name": "stderr"
        }
      ]
    },
    {
      "cell_type": "markdown",
      "metadata": {
        "id": "URuacy9OmxmO"
      },
      "source": [
        "### Exercise 1 - planning \n",
        "---\n",
        "\n",
        "Make a note of which variable will be the IV and which variables will be used as the DVs\n"
      ]
    },
    {
      "cell_type": "code",
      "metadata": {
        "id": "SKZyPi7wnE8C"
      },
      "source": [
        "# # Life expectancy - in age  = dependent variable\n",
        "\n",
        "# Independent variables\n",
        "# * Country \n",
        "# * Year \n",
        "# * Status - developing or developed status\n",
        "# * Adult mortality - Adult Mortality Rates of both sexes (probability of dying between 15 and 60 years per 1000 population)\n",
        "# * infant deaths - Number of Infant Deaths per 1000 population\n",
        "# * Alcohol - Alcohol, recorded per capita (15+) consumption (in litres of pure alcohol)\n",
        "# * Percentage expenditure - Expenditure on health as a percentage of GDP per capita(%)\n",
        "# * Hepititis B - Hepatitis B (HepB) immunization coverage among 1-year-olds (%)\n",
        "# * Measles - Measles - number of reported cases per 1000 population\n",
        "# * BMI - Average Body Mass Index of entire population\n",
        "# * Under five deaths - Number of under-five deaths per 1000 population\n",
        "# * Polio - Polio immunization coverage among 1-year-olds (%)\n",
        "# * Total expenditure - General government expenditure on health as a percentage of total government expenditure (%)\n",
        "# * Diphtheria - Diphtheria tetanus toxoid and pertussis immunization coverage among 1-year-olds (%)\n",
        "# * Deaths per 1 000 live births HIV/AIDS (0-4 years)\n",
        "# * GDP - per capita in USD \n",
        "# * Population\n",
        "# * thinness 10-19 years - Prevalence of thinness among children and adolescents for Age 10 to 19 (%)\n",
        "# * thinness 5-9 years - Prevalence of thinness among children for Age 5 to 9(%)\n",
        "# * Income composition - Human Development Index in terms of income composition of resources (index ranging from 0 to 1)\n",
        "# * Schooling - Number of years of Schooling(years)"
      ],
      "execution_count": null,
      "outputs": []
    },
    {
      "cell_type": "markdown",
      "metadata": {
        "id": "qrI7jEqgnTuG"
      },
      "source": [
        "### Exercise 2 - read and inspect the data \n",
        "---\n",
        "1. Set the data into a dataframe \n",
        "2. Inspect the data "
      ]
    },
    {
      "cell_type": "code",
      "metadata": {
        "id": "NHrykWKSnkgm",
        "outputId": "f1bd79fb-6120-49fe-c85b-a1963f34b7eb",
        "colab": {
          "base_uri": "https://localhost:8080/",
          "height": 1000
        }
      },
      "source": [
        " url= \"https://raw.githubusercontent.com/lilaceri/Working-with-data-/main/Data%20Sets%20for%20code%20divisio/Life%20Expectancy%20Data.csv\"\n",
        "\n",
        "life_expectancy_data <- read_csv(url)\n",
        "\n",
        "head(life_expectancy_data)\n",
        "summary(life_expectancy_data)\n"
      ],
      "execution_count": 5,
      "outputs": [
        {
          "output_type": "stream",
          "text": [
            "\n",
            "\u001b[36m──\u001b[39m \u001b[1m\u001b[1mColumn specification\u001b[1m\u001b[22m \u001b[36m────────────────────────────────────────────────────────\u001b[39m\n",
            "cols(\n",
            "  .default = col_double(),\n",
            "  Country = \u001b[31mcol_character()\u001b[39m,\n",
            "  Status = \u001b[31mcol_character()\u001b[39m\n",
            ")\n",
            "\u001b[36mℹ\u001b[39m Use \u001b[30m\u001b[47m\u001b[30m\u001b[47m`spec()`\u001b[47m\u001b[30m\u001b[49m\u001b[39m for the full column specifications.\n",
            "\n",
            "\n"
          ],
          "name": "stderr"
        },
        {
          "output_type": "display_data",
          "data": {
            "text/plain": [
              "  Country     Year Status     Life expectancy Adult Mortality infant deaths\n",
              "1 Afghanistan 2015 Developing 65.0            263             62           \n",
              "2 Afghanistan 2014 Developing 59.9            271             64           \n",
              "3 Afghanistan 2013 Developing 59.9            268             66           \n",
              "4 Afghanistan 2012 Developing 59.5            272             69           \n",
              "5 Afghanistan 2011 Developing 59.2            275             71           \n",
              "6 Afghanistan 2010 Developing 58.8            279             74           \n",
              "  Alcohol percentage expenditure Hepatitis B Measles ⋯ Polio Total expenditure\n",
              "1 0.01    71.279624              65          1154    ⋯  6    8.16             \n",
              "2 0.01    73.523582              62           492    ⋯ 58    8.18             \n",
              "3 0.01    73.219243              64           430    ⋯ 62    8.13             \n",
              "4 0.01    78.184215              67          2787    ⋯ 67    8.52             \n",
              "5 0.01     7.097109              68          3013    ⋯ 68    7.87             \n",
              "6 0.01    79.679367              66          1989    ⋯ 66    9.20             \n",
              "  Diphtheria HIV/AIDS GDP       Population thinness  10-19 years\n",
              "1 65         0.1      584.25921 33736494   17.2                 \n",
              "2 62         0.1      612.69651   327582   17.5                 \n",
              "3 64         0.1      631.74498 31731688   17.7                 \n",
              "4 67         0.1      669.95900  3696958   17.9                 \n",
              "5 68         0.1       63.53723  2978599   18.2                 \n",
              "6 66         0.1      553.32894  2883167   18.4                 \n",
              "  thinness 5-9 years Income composition of resources Schooling\n",
              "1 17.3               0.479                           10.1     \n",
              "2 17.5               0.476                           10.0     \n",
              "3 17.7               0.470                            9.9     \n",
              "4 18.0               0.463                            9.8     \n",
              "5 18.2               0.454                            9.5     \n",
              "6 18.4               0.448                            9.2     "
            ],
            "text/latex": "A tibble: 6 × 22\n\\begin{tabular}{lllllllllllllllllllll}\n Country & Year & Status & Life expectancy & Adult Mortality & infant deaths & Alcohol & percentage expenditure & Hepatitis B & Measles & ⋯ & Polio & Total expenditure & Diphtheria & HIV/AIDS & GDP & Population & thinness  10-19 years & thinness 5-9 years & Income composition of resources & Schooling\\\\\n <chr> & <dbl> & <chr> & <dbl> & <dbl> & <dbl> & <dbl> & <dbl> & <dbl> & <dbl> & ⋯ & <dbl> & <dbl> & <dbl> & <dbl> & <dbl> & <dbl> & <dbl> & <dbl> & <dbl> & <dbl>\\\\\n\\hline\n\t Afghanistan & 2015 & Developing & 65.0 & 263 & 62 & 0.01 & 71.279624 & 65 & 1154 & ⋯ &  6 & 8.16 & 65 & 0.1 & 584.25921 & 33736494 & 17.2 & 17.3 & 0.479 & 10.1\\\\\n\t Afghanistan & 2014 & Developing & 59.9 & 271 & 64 & 0.01 & 73.523582 & 62 &  492 & ⋯ & 58 & 8.18 & 62 & 0.1 & 612.69651 &   327582 & 17.5 & 17.5 & 0.476 & 10.0\\\\\n\t Afghanistan & 2013 & Developing & 59.9 & 268 & 66 & 0.01 & 73.219243 & 64 &  430 & ⋯ & 62 & 8.13 & 64 & 0.1 & 631.74498 & 31731688 & 17.7 & 17.7 & 0.470 &  9.9\\\\\n\t Afghanistan & 2012 & Developing & 59.5 & 272 & 69 & 0.01 & 78.184215 & 67 & 2787 & ⋯ & 67 & 8.52 & 67 & 0.1 & 669.95900 &  3696958 & 17.9 & 18.0 & 0.463 &  9.8\\\\\n\t Afghanistan & 2011 & Developing & 59.2 & 275 & 71 & 0.01 &  7.097109 & 68 & 3013 & ⋯ & 68 & 7.87 & 68 & 0.1 &  63.53723 &  2978599 & 18.2 & 18.2 & 0.454 &  9.5\\\\\n\t Afghanistan & 2010 & Developing & 58.8 & 279 & 74 & 0.01 & 79.679367 & 66 & 1989 & ⋯ & 66 & 9.20 & 66 & 0.1 & 553.32894 &  2883167 & 18.4 & 18.4 & 0.448 &  9.2\\\\\n\\end{tabular}\n",
            "text/markdown": "\nA tibble: 6 × 22\n\n| Country &lt;chr&gt; | Year &lt;dbl&gt; | Status &lt;chr&gt; | Life expectancy &lt;dbl&gt; | Adult Mortality &lt;dbl&gt; | infant deaths &lt;dbl&gt; | Alcohol &lt;dbl&gt; | percentage expenditure &lt;dbl&gt; | Hepatitis B &lt;dbl&gt; | Measles &lt;dbl&gt; | ⋯ ⋯ | Polio &lt;dbl&gt; | Total expenditure &lt;dbl&gt; | Diphtheria &lt;dbl&gt; | HIV/AIDS &lt;dbl&gt; | GDP &lt;dbl&gt; | Population &lt;dbl&gt; | thinness  10-19 years &lt;dbl&gt; | thinness 5-9 years &lt;dbl&gt; | Income composition of resources &lt;dbl&gt; | Schooling &lt;dbl&gt; |\n|---|---|---|---|---|---|---|---|---|---|---|---|---|---|---|---|---|---|---|---|---|\n| Afghanistan | 2015 | Developing | 65.0 | 263 | 62 | 0.01 | 71.279624 | 65 | 1154 | ⋯ |  6 | 8.16 | 65 | 0.1 | 584.25921 | 33736494 | 17.2 | 17.3 | 0.479 | 10.1 |\n| Afghanistan | 2014 | Developing | 59.9 | 271 | 64 | 0.01 | 73.523582 | 62 |  492 | ⋯ | 58 | 8.18 | 62 | 0.1 | 612.69651 |   327582 | 17.5 | 17.5 | 0.476 | 10.0 |\n| Afghanistan | 2013 | Developing | 59.9 | 268 | 66 | 0.01 | 73.219243 | 64 |  430 | ⋯ | 62 | 8.13 | 64 | 0.1 | 631.74498 | 31731688 | 17.7 | 17.7 | 0.470 |  9.9 |\n| Afghanistan | 2012 | Developing | 59.5 | 272 | 69 | 0.01 | 78.184215 | 67 | 2787 | ⋯ | 67 | 8.52 | 67 | 0.1 | 669.95900 |  3696958 | 17.9 | 18.0 | 0.463 |  9.8 |\n| Afghanistan | 2011 | Developing | 59.2 | 275 | 71 | 0.01 |  7.097109 | 68 | 3013 | ⋯ | 68 | 7.87 | 68 | 0.1 |  63.53723 |  2978599 | 18.2 | 18.2 | 0.454 |  9.5 |\n| Afghanistan | 2010 | Developing | 58.8 | 279 | 74 | 0.01 | 79.679367 | 66 | 1989 | ⋯ | 66 | 9.20 | 66 | 0.1 | 553.32894 |  2883167 | 18.4 | 18.4 | 0.448 |  9.2 |\n\n",
            "text/html": [
              "<table class=\"dataframe\">\n",
              "<caption>A tibble: 6 × 22</caption>\n",
              "<thead>\n",
              "\t<tr><th scope=col>Country</th><th scope=col>Year</th><th scope=col>Status</th><th scope=col>Life expectancy</th><th scope=col>Adult Mortality</th><th scope=col>infant deaths</th><th scope=col>Alcohol</th><th scope=col>percentage expenditure</th><th scope=col>Hepatitis B</th><th scope=col>Measles</th><th scope=col>⋯</th><th scope=col>Polio</th><th scope=col>Total expenditure</th><th scope=col>Diphtheria</th><th scope=col>HIV/AIDS</th><th scope=col>GDP</th><th scope=col>Population</th><th scope=col>thinness  10-19 years</th><th scope=col>thinness 5-9 years</th><th scope=col>Income composition of resources</th><th scope=col>Schooling</th></tr>\n",
              "\t<tr><th scope=col>&lt;chr&gt;</th><th scope=col>&lt;dbl&gt;</th><th scope=col>&lt;chr&gt;</th><th scope=col>&lt;dbl&gt;</th><th scope=col>&lt;dbl&gt;</th><th scope=col>&lt;dbl&gt;</th><th scope=col>&lt;dbl&gt;</th><th scope=col>&lt;dbl&gt;</th><th scope=col>&lt;dbl&gt;</th><th scope=col>&lt;dbl&gt;</th><th scope=col>⋯</th><th scope=col>&lt;dbl&gt;</th><th scope=col>&lt;dbl&gt;</th><th scope=col>&lt;dbl&gt;</th><th scope=col>&lt;dbl&gt;</th><th scope=col>&lt;dbl&gt;</th><th scope=col>&lt;dbl&gt;</th><th scope=col>&lt;dbl&gt;</th><th scope=col>&lt;dbl&gt;</th><th scope=col>&lt;dbl&gt;</th><th scope=col>&lt;dbl&gt;</th></tr>\n",
              "</thead>\n",
              "<tbody>\n",
              "\t<tr><td>Afghanistan</td><td>2015</td><td>Developing</td><td>65.0</td><td>263</td><td>62</td><td>0.01</td><td>71.279624</td><td>65</td><td>1154</td><td>⋯</td><td> 6</td><td>8.16</td><td>65</td><td>0.1</td><td>584.25921</td><td>33736494</td><td>17.2</td><td>17.3</td><td>0.479</td><td>10.1</td></tr>\n",
              "\t<tr><td>Afghanistan</td><td>2014</td><td>Developing</td><td>59.9</td><td>271</td><td>64</td><td>0.01</td><td>73.523582</td><td>62</td><td> 492</td><td>⋯</td><td>58</td><td>8.18</td><td>62</td><td>0.1</td><td>612.69651</td><td>  327582</td><td>17.5</td><td>17.5</td><td>0.476</td><td>10.0</td></tr>\n",
              "\t<tr><td>Afghanistan</td><td>2013</td><td>Developing</td><td>59.9</td><td>268</td><td>66</td><td>0.01</td><td>73.219243</td><td>64</td><td> 430</td><td>⋯</td><td>62</td><td>8.13</td><td>64</td><td>0.1</td><td>631.74498</td><td>31731688</td><td>17.7</td><td>17.7</td><td>0.470</td><td> 9.9</td></tr>\n",
              "\t<tr><td>Afghanistan</td><td>2012</td><td>Developing</td><td>59.5</td><td>272</td><td>69</td><td>0.01</td><td>78.184215</td><td>67</td><td>2787</td><td>⋯</td><td>67</td><td>8.52</td><td>67</td><td>0.1</td><td>669.95900</td><td> 3696958</td><td>17.9</td><td>18.0</td><td>0.463</td><td> 9.8</td></tr>\n",
              "\t<tr><td>Afghanistan</td><td>2011</td><td>Developing</td><td>59.2</td><td>275</td><td>71</td><td>0.01</td><td> 7.097109</td><td>68</td><td>3013</td><td>⋯</td><td>68</td><td>7.87</td><td>68</td><td>0.1</td><td> 63.53723</td><td> 2978599</td><td>18.2</td><td>18.2</td><td>0.454</td><td> 9.5</td></tr>\n",
              "\t<tr><td>Afghanistan</td><td>2010</td><td>Developing</td><td>58.8</td><td>279</td><td>74</td><td>0.01</td><td>79.679367</td><td>66</td><td>1989</td><td>⋯</td><td>66</td><td>9.20</td><td>66</td><td>0.1</td><td>553.32894</td><td> 2883167</td><td>18.4</td><td>18.4</td><td>0.448</td><td> 9.2</td></tr>\n",
              "</tbody>\n",
              "</table>\n"
            ]
          },
          "metadata": {
            "tags": []
          }
        },
        {
          "output_type": "display_data",
          "data": {
            "text/plain": [
              "   Country               Year         Status          Life expectancy\n",
              " Length:2938        Min.   :2000   Length:2938        Min.   :36.30  \n",
              " Class :character   1st Qu.:2004   Class :character   1st Qu.:63.10  \n",
              " Mode  :character   Median :2008   Mode  :character   Median :72.10  \n",
              "                    Mean   :2008                      Mean   :69.22  \n",
              "                    3rd Qu.:2012                      3rd Qu.:75.70  \n",
              "                    Max.   :2015                      Max.   :89.00  \n",
              "                                                      NA's   :10     \n",
              " Adult Mortality infant deaths       Alcohol        percentage expenditure\n",
              " Min.   :  1.0   Min.   :   0.0   Min.   : 0.0100   Min.   :    0.000     \n",
              " 1st Qu.: 74.0   1st Qu.:   0.0   1st Qu.: 0.8775   1st Qu.:    4.685     \n",
              " Median :144.0   Median :   3.0   Median : 3.7550   Median :   64.913     \n",
              " Mean   :164.8   Mean   :  30.3   Mean   : 4.6029   Mean   :  738.251     \n",
              " 3rd Qu.:228.0   3rd Qu.:  22.0   3rd Qu.: 7.7025   3rd Qu.:  441.534     \n",
              " Max.   :723.0   Max.   :1800.0   Max.   :17.8700   Max.   :19479.912     \n",
              " NA's   :10                       NA's   :194                             \n",
              "  Hepatitis B       Measles              BMI        under-five deaths\n",
              " Min.   : 1.00   Min.   :     0.0   Min.   : 1.00   Min.   :   0.00  \n",
              " 1st Qu.:77.00   1st Qu.:     0.0   1st Qu.:19.30   1st Qu.:   0.00  \n",
              " Median :92.00   Median :    17.0   Median :43.50   Median :   4.00  \n",
              " Mean   :80.94   Mean   :  2419.6   Mean   :38.32   Mean   :  42.04  \n",
              " 3rd Qu.:97.00   3rd Qu.:   360.2   3rd Qu.:56.20   3rd Qu.:  28.00  \n",
              " Max.   :99.00   Max.   :212183.0   Max.   :87.30   Max.   :2500.00  \n",
              " NA's   :553                        NA's   :34                       \n",
              "     Polio       Total expenditure   Diphtheria       HIV/AIDS     \n",
              " Min.   : 3.00   Min.   : 0.370    Min.   : 2.00   Min.   : 0.100  \n",
              " 1st Qu.:78.00   1st Qu.: 4.260    1st Qu.:78.00   1st Qu.: 0.100  \n",
              " Median :93.00   Median : 5.755    Median :93.00   Median : 0.100  \n",
              " Mean   :82.55   Mean   : 5.938    Mean   :82.32   Mean   : 1.742  \n",
              " 3rd Qu.:97.00   3rd Qu.: 7.492    3rd Qu.:97.00   3rd Qu.: 0.800  \n",
              " Max.   :99.00   Max.   :17.600    Max.   :99.00   Max.   :50.600  \n",
              " NA's   :19      NA's   :226       NA's   :19                      \n",
              "      GDP              Population         thinness  10-19 years\n",
              " Min.   :     1.68   Min.   :        34   Min.   : 0.10        \n",
              " 1st Qu.:   463.94   1st Qu.:    195793   1st Qu.: 1.60        \n",
              " Median :  1766.95   Median :   1386542   Median : 3.30        \n",
              " Mean   :  7483.16   Mean   :  12753375   Mean   : 4.84        \n",
              " 3rd Qu.:  5910.81   3rd Qu.:   7420359   3rd Qu.: 7.20        \n",
              " Max.   :119172.74   Max.   :1293859294   Max.   :27.70        \n",
              " NA's   :448         NA's   :652          NA's   :34           \n",
              " thinness 5-9 years Income composition of resources   Schooling    \n",
              " Min.   : 0.10      Min.   :0.0000                  Min.   : 0.00  \n",
              " 1st Qu.: 1.50      1st Qu.:0.4930                  1st Qu.:10.10  \n",
              " Median : 3.30      Median :0.6770                  Median :12.30  \n",
              " Mean   : 4.87      Mean   :0.6276                  Mean   :11.99  \n",
              " 3rd Qu.: 7.20      3rd Qu.:0.7790                  3rd Qu.:14.30  \n",
              " Max.   :28.60      Max.   :0.9480                  Max.   :20.70  \n",
              " NA's   :34         NA's   :167                     NA's   :163    "
            ]
          },
          "metadata": {
            "tags": []
          }
        }
      ]
    },
    {
      "cell_type": "markdown",
      "metadata": {
        "id": "4crv5lNynkyo"
      },
      "source": [
        "### Exercise 3 - clean the data \n",
        "---\n",
        "\n",
        "1. Check for NA values\n",
        "2. Remove NA values if necessary "
      ]
    },
    {
      "cell_type": "code",
      "metadata": {
        "id": "VjTpy0VKn_5H",
        "outputId": "f45de2e4-0368-4cb4-d8d8-fe4abb2f3a9e",
        "colab": {
          "base_uri": "https://localhost:8080/",
          "height": 1000
        }
      },
      "source": [
        "is.na(life_expectancy_data)\n",
        "\n",
        "life_expectancy_data <- na.omit(life_expectancy_data)\n",
        "\n",
        "\n"
      ],
      "execution_count": 7,
      "outputs": [
        {
          "output_type": "display_data",
          "data": {
            "text/plain": [
              "      Country Year  Status Life expectancy Adult Mortality infant deaths\n",
              " [1,] FALSE   FALSE FALSE  FALSE           FALSE           FALSE        \n",
              " [2,] FALSE   FALSE FALSE  FALSE           FALSE           FALSE        \n",
              " [3,] FALSE   FALSE FALSE  FALSE           FALSE           FALSE        \n",
              " [4,] FALSE   FALSE FALSE  FALSE           FALSE           FALSE        \n",
              " [5,] FALSE   FALSE FALSE  FALSE           FALSE           FALSE        \n",
              " [6,] FALSE   FALSE FALSE  FALSE           FALSE           FALSE        \n",
              " [7,] FALSE   FALSE FALSE  FALSE           FALSE           FALSE        \n",
              " [8,] FALSE   FALSE FALSE  FALSE           FALSE           FALSE        \n",
              " [9,] FALSE   FALSE FALSE  FALSE           FALSE           FALSE        \n",
              "[10,] FALSE   FALSE FALSE  FALSE           FALSE           FALSE        \n",
              "[11,] FALSE   FALSE FALSE  FALSE           FALSE           FALSE        \n",
              "[12,] FALSE   FALSE FALSE  FALSE           FALSE           FALSE        \n",
              "[13,] FALSE   FALSE FALSE  FALSE           FALSE           FALSE        \n",
              "[14,] FALSE   FALSE FALSE  FALSE           FALSE           FALSE        \n",
              "[15,] FALSE   FALSE FALSE  FALSE           FALSE           FALSE        \n",
              "[16,] FALSE   FALSE FALSE  FALSE           FALSE           FALSE        \n",
              "[17,] FALSE   FALSE FALSE  FALSE           FALSE           FALSE        \n",
              "[18,] FALSE   FALSE FALSE  FALSE           FALSE           FALSE        \n",
              "[19,] FALSE   FALSE FALSE  FALSE           FALSE           FALSE        \n",
              "[20,] FALSE   FALSE FALSE  FALSE           FALSE           FALSE        \n",
              "[21,] FALSE   FALSE FALSE  FALSE           FALSE           FALSE        \n",
              "[22,] FALSE   FALSE FALSE  FALSE           FALSE           FALSE        \n",
              "[23,] FALSE   FALSE FALSE  FALSE           FALSE           FALSE        \n",
              "[24,] FALSE   FALSE FALSE  FALSE           FALSE           FALSE        \n",
              "[25,] FALSE   FALSE FALSE  FALSE           FALSE           FALSE        \n",
              "[26,] FALSE   FALSE FALSE  FALSE           FALSE           FALSE        \n",
              "[27,] FALSE   FALSE FALSE  FALSE           FALSE           FALSE        \n",
              "[28,] FALSE   FALSE FALSE  FALSE           FALSE           FALSE        \n",
              "[29,] FALSE   FALSE FALSE  FALSE           FALSE           FALSE        \n",
              "[30,] FALSE   FALSE FALSE  FALSE           FALSE           FALSE        \n",
              "[31,] ⋮       ⋮     ⋮      ⋮               ⋮               ⋮            \n",
              "[32,] FALSE   FALSE FALSE  FALSE           FALSE           FALSE        \n",
              "[33,] FALSE   FALSE FALSE  FALSE           FALSE           FALSE        \n",
              "[34,] FALSE   FALSE FALSE  FALSE           FALSE           FALSE        \n",
              "[35,] FALSE   FALSE FALSE  FALSE           FALSE           FALSE        \n",
              "[36,] FALSE   FALSE FALSE  FALSE           FALSE           FALSE        \n",
              "[37,] FALSE   FALSE FALSE  FALSE           FALSE           FALSE        \n",
              "[38,] FALSE   FALSE FALSE  FALSE           FALSE           FALSE        \n",
              "[39,] FALSE   FALSE FALSE  FALSE           FALSE           FALSE        \n",
              "[40,] FALSE   FALSE FALSE  FALSE           FALSE           FALSE        \n",
              "[41,] FALSE   FALSE FALSE  FALSE           FALSE           FALSE        \n",
              "[42,] FALSE   FALSE FALSE  FALSE           FALSE           FALSE        \n",
              "[43,] FALSE   FALSE FALSE  FALSE           FALSE           FALSE        \n",
              "[44,] FALSE   FALSE FALSE  FALSE           FALSE           FALSE        \n",
              "[45,] FALSE   FALSE FALSE  FALSE           FALSE           FALSE        \n",
              "[46,] FALSE   FALSE FALSE  FALSE           FALSE           FALSE        \n",
              "[47,] FALSE   FALSE FALSE  FALSE           FALSE           FALSE        \n",
              "[48,] FALSE   FALSE FALSE  FALSE           FALSE           FALSE        \n",
              "[49,] FALSE   FALSE FALSE  FALSE           FALSE           FALSE        \n",
              "[50,] FALSE   FALSE FALSE  FALSE           FALSE           FALSE        \n",
              "[51,] FALSE   FALSE FALSE  FALSE           FALSE           FALSE        \n",
              "[52,] FALSE   FALSE FALSE  FALSE           FALSE           FALSE        \n",
              "[53,] FALSE   FALSE FALSE  FALSE           FALSE           FALSE        \n",
              "[54,] FALSE   FALSE FALSE  FALSE           FALSE           FALSE        \n",
              "[55,] FALSE   FALSE FALSE  FALSE           FALSE           FALSE        \n",
              "[56,] FALSE   FALSE FALSE  FALSE           FALSE           FALSE        \n",
              "[57,] FALSE   FALSE FALSE  FALSE           FALSE           FALSE        \n",
              "[58,] FALSE   FALSE FALSE  FALSE           FALSE           FALSE        \n",
              "[59,] FALSE   FALSE FALSE  FALSE           FALSE           FALSE        \n",
              "[60,] FALSE   FALSE FALSE  FALSE           FALSE           FALSE        \n",
              "[61,] FALSE   FALSE FALSE  FALSE           FALSE           FALSE        \n",
              "      Alcohol percentage expenditure Hepatitis B Measles ⋯ Polio\n",
              " [1,] FALSE   FALSE                  FALSE       FALSE   ⋯ FALSE\n",
              " [2,] FALSE   FALSE                  FALSE       FALSE   ⋯ FALSE\n",
              " [3,] FALSE   FALSE                  FALSE       FALSE   ⋯ FALSE\n",
              " [4,] FALSE   FALSE                  FALSE       FALSE   ⋯ FALSE\n",
              " [5,] FALSE   FALSE                  FALSE       FALSE   ⋯ FALSE\n",
              " [6,] FALSE   FALSE                  FALSE       FALSE   ⋯ FALSE\n",
              " [7,] FALSE   FALSE                  FALSE       FALSE   ⋯ FALSE\n",
              " [8,] FALSE   FALSE                  FALSE       FALSE   ⋯ FALSE\n",
              " [9,] FALSE   FALSE                  FALSE       FALSE   ⋯ FALSE\n",
              "[10,] FALSE   FALSE                  FALSE       FALSE   ⋯ FALSE\n",
              "[11,] FALSE   FALSE                  FALSE       FALSE   ⋯ FALSE\n",
              "[12,] FALSE   FALSE                  FALSE       FALSE   ⋯ FALSE\n",
              "[13,] FALSE   FALSE                  FALSE       FALSE   ⋯ FALSE\n",
              "[14,] FALSE   FALSE                  FALSE       FALSE   ⋯ FALSE\n",
              "[15,] FALSE   FALSE                  FALSE       FALSE   ⋯ FALSE\n",
              "[16,] FALSE   FALSE                  FALSE       FALSE   ⋯ FALSE\n",
              "[17,] FALSE   FALSE                  FALSE       FALSE   ⋯ FALSE\n",
              "[18,] FALSE   FALSE                  FALSE       FALSE   ⋯ FALSE\n",
              "[19,] FALSE   FALSE                  FALSE       FALSE   ⋯ FALSE\n",
              "[20,] FALSE   FALSE                  FALSE       FALSE   ⋯ FALSE\n",
              "[21,] FALSE   FALSE                  FALSE       FALSE   ⋯ FALSE\n",
              "[22,] FALSE   FALSE                  FALSE       FALSE   ⋯ FALSE\n",
              "[23,] FALSE   FALSE                  FALSE       FALSE   ⋯ FALSE\n",
              "[24,] FALSE   FALSE                  FALSE       FALSE   ⋯ FALSE\n",
              "[25,] FALSE   FALSE                  FALSE       FALSE   ⋯ FALSE\n",
              "[26,] FALSE   FALSE                  FALSE       FALSE   ⋯ FALSE\n",
              "[27,] FALSE   FALSE                  FALSE       FALSE   ⋯ FALSE\n",
              "[28,] FALSE   FALSE                  FALSE       FALSE   ⋯ FALSE\n",
              "[29,] FALSE   FALSE                  FALSE       FALSE   ⋯ FALSE\n",
              "[30,] FALSE   FALSE                  FALSE       FALSE   ⋯ FALSE\n",
              "[31,] ⋮       ⋮                      ⋮           ⋮       ⋱ ⋮    \n",
              "[32,] FALSE   FALSE                  FALSE       FALSE   ⋯ FALSE\n",
              "[33,] FALSE   FALSE                  FALSE       FALSE   ⋯ FALSE\n",
              "[34,] FALSE   FALSE                  FALSE       FALSE   ⋯ FALSE\n",
              "[35,] FALSE   FALSE                  FALSE       FALSE   ⋯ FALSE\n",
              "[36,] FALSE   FALSE                  FALSE       FALSE   ⋯ FALSE\n",
              "[37,] FALSE   FALSE                  FALSE       FALSE   ⋯ FALSE\n",
              "[38,] FALSE   FALSE                  FALSE       FALSE   ⋯ FALSE\n",
              "[39,] FALSE   FALSE                  FALSE       FALSE   ⋯ FALSE\n",
              "[40,] FALSE   FALSE                  FALSE       FALSE   ⋯ FALSE\n",
              "[41,] FALSE   FALSE                   TRUE       FALSE   ⋯ FALSE\n",
              "[42,] FALSE   FALSE                   TRUE       FALSE   ⋯ FALSE\n",
              "[43,] FALSE   FALSE                   TRUE       FALSE   ⋯ FALSE\n",
              "[44,] FALSE   FALSE                   TRUE       FALSE   ⋯ FALSE\n",
              "[45,] FALSE   FALSE                   TRUE       FALSE   ⋯ FALSE\n",
              "[46,]  TRUE   FALSE                  FALSE       FALSE   ⋯ FALSE\n",
              "[47,] FALSE   FALSE                  FALSE       FALSE   ⋯ FALSE\n",
              "[48,] FALSE   FALSE                  FALSE       FALSE   ⋯ FALSE\n",
              "[49,] FALSE   FALSE                  FALSE       FALSE   ⋯ FALSE\n",
              "[50,] FALSE   FALSE                  FALSE       FALSE   ⋯ FALSE\n",
              "[51,] FALSE   FALSE                  FALSE       FALSE   ⋯ FALSE\n",
              "[52,] FALSE   FALSE                  FALSE       FALSE   ⋯ FALSE\n",
              "[53,] FALSE   FALSE                  FALSE       FALSE   ⋯ FALSE\n",
              "[54,] FALSE   FALSE                  FALSE       FALSE   ⋯ FALSE\n",
              "[55,] FALSE   FALSE                  FALSE       FALSE   ⋯ FALSE\n",
              "[56,] FALSE   FALSE                  FALSE       FALSE   ⋯ FALSE\n",
              "[57,] FALSE   FALSE                  FALSE       FALSE   ⋯ FALSE\n",
              "[58,] FALSE   FALSE                  FALSE       FALSE   ⋯ FALSE\n",
              "[59,] FALSE   FALSE                  FALSE       FALSE   ⋯ FALSE\n",
              "[60,] FALSE   FALSE                  FALSE       FALSE   ⋯ FALSE\n",
              "[61,] FALSE   FALSE                  FALSE       FALSE   ⋯ FALSE\n",
              "      Total expenditure Diphtheria HIV/AIDS GDP   Population\n",
              " [1,] FALSE             FALSE      FALSE    FALSE FALSE     \n",
              " [2,] FALSE             FALSE      FALSE    FALSE FALSE     \n",
              " [3,] FALSE             FALSE      FALSE    FALSE FALSE     \n",
              " [4,] FALSE             FALSE      FALSE    FALSE FALSE     \n",
              " [5,] FALSE             FALSE      FALSE    FALSE FALSE     \n",
              " [6,] FALSE             FALSE      FALSE    FALSE FALSE     \n",
              " [7,] FALSE             FALSE      FALSE    FALSE FALSE     \n",
              " [8,] FALSE             FALSE      FALSE    FALSE FALSE     \n",
              " [9,] FALSE             FALSE      FALSE    FALSE FALSE     \n",
              "[10,] FALSE             FALSE      FALSE    FALSE FALSE     \n",
              "[11,] FALSE             FALSE      FALSE    FALSE FALSE     \n",
              "[12,] FALSE             FALSE      FALSE    FALSE FALSE     \n",
              "[13,] FALSE             FALSE      FALSE    FALSE FALSE     \n",
              "[14,] FALSE             FALSE      FALSE    FALSE FALSE     \n",
              "[15,] FALSE             FALSE      FALSE    FALSE FALSE     \n",
              "[16,] FALSE             FALSE      FALSE    FALSE FALSE     \n",
              "[17,] FALSE             FALSE      FALSE    FALSE FALSE     \n",
              "[18,] FALSE             FALSE      FALSE    FALSE FALSE     \n",
              "[19,] FALSE             FALSE      FALSE    FALSE FALSE     \n",
              "[20,] FALSE             FALSE      FALSE    FALSE FALSE     \n",
              "[21,] FALSE             FALSE      FALSE    FALSE FALSE     \n",
              "[22,] FALSE             FALSE      FALSE    FALSE FALSE     \n",
              "[23,] FALSE             FALSE      FALSE    FALSE FALSE     \n",
              "[24,] FALSE             FALSE      FALSE    FALSE FALSE     \n",
              "[25,] FALSE             FALSE      FALSE    FALSE FALSE     \n",
              "[26,] FALSE             FALSE      FALSE    FALSE FALSE     \n",
              "[27,] FALSE             FALSE      FALSE    FALSE FALSE     \n",
              "[28,] FALSE             FALSE      FALSE    FALSE FALSE     \n",
              "[29,] FALSE             FALSE      FALSE    FALSE FALSE     \n",
              "[30,] FALSE             FALSE      FALSE    FALSE FALSE     \n",
              "[31,] ⋮                 ⋮          ⋮        ⋮     ⋮         \n",
              "[32,] FALSE             FALSE      FALSE    FALSE FALSE     \n",
              "[33,] FALSE             FALSE      FALSE    FALSE FALSE     \n",
              "[34,] FALSE             FALSE      FALSE    FALSE FALSE     \n",
              "[35,] FALSE             FALSE      FALSE    FALSE FALSE     \n",
              "[36,] FALSE             FALSE      FALSE    FALSE FALSE     \n",
              "[37,] FALSE             FALSE      FALSE    FALSE FALSE     \n",
              "[38,] FALSE             FALSE      FALSE    FALSE FALSE     \n",
              "[39,] FALSE             FALSE      FALSE    FALSE FALSE     \n",
              "[40,] FALSE             FALSE      FALSE    FALSE FALSE     \n",
              "[41,] FALSE             FALSE      FALSE    FALSE FALSE     \n",
              "[42,] FALSE             FALSE      FALSE    FALSE FALSE     \n",
              "[43,] FALSE             FALSE      FALSE    FALSE FALSE     \n",
              "[44,] FALSE             FALSE      FALSE    FALSE FALSE     \n",
              "[45,] FALSE             FALSE      FALSE    FALSE FALSE     \n",
              "[46,]  TRUE             FALSE      FALSE    FALSE FALSE     \n",
              "[47,] FALSE             FALSE      FALSE    FALSE FALSE     \n",
              "[48,] FALSE             FALSE      FALSE    FALSE FALSE     \n",
              "[49,] FALSE             FALSE      FALSE    FALSE FALSE     \n",
              "[50,] FALSE             FALSE      FALSE    FALSE FALSE     \n",
              "[51,] FALSE             FALSE      FALSE    FALSE FALSE     \n",
              "[52,] FALSE             FALSE      FALSE    FALSE FALSE     \n",
              "[53,] FALSE             FALSE      FALSE    FALSE FALSE     \n",
              "[54,] FALSE             FALSE      FALSE    FALSE FALSE     \n",
              "[55,] FALSE             FALSE      FALSE    FALSE FALSE     \n",
              "[56,] FALSE             FALSE      FALSE    FALSE FALSE     \n",
              "[57,] FALSE             FALSE      FALSE    FALSE FALSE     \n",
              "[58,] FALSE             FALSE      FALSE    FALSE FALSE     \n",
              "[59,] FALSE             FALSE      FALSE    FALSE FALSE     \n",
              "[60,] FALSE             FALSE      FALSE    FALSE FALSE     \n",
              "[61,] FALSE             FALSE      FALSE    FALSE FALSE     \n",
              "      thinness  10-19 years thinness 5-9 years Income composition of resources\n",
              " [1,] FALSE                 FALSE              FALSE                          \n",
              " [2,] FALSE                 FALSE              FALSE                          \n",
              " [3,] FALSE                 FALSE              FALSE                          \n",
              " [4,] FALSE                 FALSE              FALSE                          \n",
              " [5,] FALSE                 FALSE              FALSE                          \n",
              " [6,] FALSE                 FALSE              FALSE                          \n",
              " [7,] FALSE                 FALSE              FALSE                          \n",
              " [8,] FALSE                 FALSE              FALSE                          \n",
              " [9,] FALSE                 FALSE              FALSE                          \n",
              "[10,] FALSE                 FALSE              FALSE                          \n",
              "[11,] FALSE                 FALSE              FALSE                          \n",
              "[12,] FALSE                 FALSE              FALSE                          \n",
              "[13,] FALSE                 FALSE              FALSE                          \n",
              "[14,] FALSE                 FALSE              FALSE                          \n",
              "[15,] FALSE                 FALSE              FALSE                          \n",
              "[16,] FALSE                 FALSE              FALSE                          \n",
              "[17,] FALSE                 FALSE              FALSE                          \n",
              "[18,] FALSE                 FALSE              FALSE                          \n",
              "[19,] FALSE                 FALSE              FALSE                          \n",
              "[20,] FALSE                 FALSE              FALSE                          \n",
              "[21,] FALSE                 FALSE              FALSE                          \n",
              "[22,] FALSE                 FALSE              FALSE                          \n",
              "[23,] FALSE                 FALSE              FALSE                          \n",
              "[24,] FALSE                 FALSE              FALSE                          \n",
              "[25,] FALSE                 FALSE              FALSE                          \n",
              "[26,] FALSE                 FALSE              FALSE                          \n",
              "[27,] FALSE                 FALSE              FALSE                          \n",
              "[28,] FALSE                 FALSE              FALSE                          \n",
              "[29,] FALSE                 FALSE              FALSE                          \n",
              "[30,] FALSE                 FALSE              FALSE                          \n",
              "[31,] ⋮                     ⋮                  ⋮                              \n",
              "[32,] FALSE                 FALSE              FALSE                          \n",
              "[33,] FALSE                 FALSE              FALSE                          \n",
              "[34,] FALSE                 FALSE              FALSE                          \n",
              "[35,] FALSE                 FALSE              FALSE                          \n",
              "[36,] FALSE                 FALSE              FALSE                          \n",
              "[37,] FALSE                 FALSE              FALSE                          \n",
              "[38,] FALSE                 FALSE              FALSE                          \n",
              "[39,] FALSE                 FALSE              FALSE                          \n",
              "[40,] FALSE                 FALSE              FALSE                          \n",
              "[41,] FALSE                 FALSE              FALSE                          \n",
              "[42,] FALSE                 FALSE              FALSE                          \n",
              "[43,] FALSE                 FALSE              FALSE                          \n",
              "[44,] FALSE                 FALSE              FALSE                          \n",
              "[45,] FALSE                 FALSE              FALSE                          \n",
              "[46,] FALSE                 FALSE              FALSE                          \n",
              "[47,] FALSE                 FALSE              FALSE                          \n",
              "[48,] FALSE                 FALSE              FALSE                          \n",
              "[49,] FALSE                 FALSE              FALSE                          \n",
              "[50,] FALSE                 FALSE              FALSE                          \n",
              "[51,] FALSE                 FALSE              FALSE                          \n",
              "[52,] FALSE                 FALSE              FALSE                          \n",
              "[53,] FALSE                 FALSE              FALSE                          \n",
              "[54,] FALSE                 FALSE              FALSE                          \n",
              "[55,] FALSE                 FALSE              FALSE                          \n",
              "[56,] FALSE                 FALSE              FALSE                          \n",
              "[57,] FALSE                 FALSE              FALSE                          \n",
              "[58,] FALSE                 FALSE              FALSE                          \n",
              "[59,] FALSE                 FALSE              FALSE                          \n",
              "[60,] FALSE                 FALSE              FALSE                          \n",
              "[61,] FALSE                 FALSE              FALSE                          \n",
              "      Schooling\n",
              " [1,] FALSE    \n",
              " [2,] FALSE    \n",
              " [3,] FALSE    \n",
              " [4,] FALSE    \n",
              " [5,] FALSE    \n",
              " [6,] FALSE    \n",
              " [7,] FALSE    \n",
              " [8,] FALSE    \n",
              " [9,] FALSE    \n",
              "[10,] FALSE    \n",
              "[11,] FALSE    \n",
              "[12,] FALSE    \n",
              "[13,] FALSE    \n",
              "[14,] FALSE    \n",
              "[15,] FALSE    \n",
              "[16,] FALSE    \n",
              "[17,] FALSE    \n",
              "[18,] FALSE    \n",
              "[19,] FALSE    \n",
              "[20,] FALSE    \n",
              "[21,] FALSE    \n",
              "[22,] FALSE    \n",
              "[23,] FALSE    \n",
              "[24,] FALSE    \n",
              "[25,] FALSE    \n",
              "[26,] FALSE    \n",
              "[27,] FALSE    \n",
              "[28,] FALSE    \n",
              "[29,] FALSE    \n",
              "[30,] FALSE    \n",
              "[31,] ⋮        \n",
              "[32,] FALSE    \n",
              "[33,] FALSE    \n",
              "[34,] FALSE    \n",
              "[35,] FALSE    \n",
              "[36,] FALSE    \n",
              "[37,] FALSE    \n",
              "[38,] FALSE    \n",
              "[39,] FALSE    \n",
              "[40,] FALSE    \n",
              "[41,] FALSE    \n",
              "[42,] FALSE    \n",
              "[43,] FALSE    \n",
              "[44,] FALSE    \n",
              "[45,] FALSE    \n",
              "[46,] FALSE    \n",
              "[47,] FALSE    \n",
              "[48,] FALSE    \n",
              "[49,] FALSE    \n",
              "[50,] FALSE    \n",
              "[51,] FALSE    \n",
              "[52,] FALSE    \n",
              "[53,] FALSE    \n",
              "[54,] FALSE    \n",
              "[55,] FALSE    \n",
              "[56,] FALSE    \n",
              "[57,] FALSE    \n",
              "[58,] FALSE    \n",
              "[59,] FALSE    \n",
              "[60,] FALSE    \n",
              "[61,] FALSE    "
            ],
            "text/latex": "A matrix: 2938 × 22 of type lgl\n\\begin{tabular}{lllllllllllllllllllll}\n Country & Year & Status & Life expectancy & Adult Mortality & infant deaths & Alcohol & percentage expenditure & Hepatitis B & Measles & ⋯ & Polio & Total expenditure & Diphtheria & HIV/AIDS & GDP & Population & thinness  10-19 years & thinness 5-9 years & Income composition of resources & Schooling\\\\\n\\hline\n\t FALSE & FALSE & FALSE & FALSE & FALSE & FALSE & FALSE & FALSE & FALSE & FALSE & ⋯ & FALSE & FALSE & FALSE & FALSE & FALSE & FALSE & FALSE & FALSE & FALSE & FALSE\\\\\n\t FALSE & FALSE & FALSE & FALSE & FALSE & FALSE & FALSE & FALSE & FALSE & FALSE & ⋯ & FALSE & FALSE & FALSE & FALSE & FALSE & FALSE & FALSE & FALSE & FALSE & FALSE\\\\\n\t FALSE & FALSE & FALSE & FALSE & FALSE & FALSE & FALSE & FALSE & FALSE & FALSE & ⋯ & FALSE & FALSE & FALSE & FALSE & FALSE & FALSE & FALSE & FALSE & FALSE & FALSE\\\\\n\t FALSE & FALSE & FALSE & FALSE & FALSE & FALSE & FALSE & FALSE & FALSE & FALSE & ⋯ & FALSE & FALSE & FALSE & FALSE & FALSE & FALSE & FALSE & FALSE & FALSE & FALSE\\\\\n\t FALSE & FALSE & FALSE & FALSE & FALSE & FALSE & FALSE & FALSE & FALSE & FALSE & ⋯ & FALSE & FALSE & FALSE & FALSE & FALSE & FALSE & FALSE & FALSE & FALSE & FALSE\\\\\n\t FALSE & FALSE & FALSE & FALSE & FALSE & FALSE & FALSE & FALSE & FALSE & FALSE & ⋯ & FALSE & FALSE & FALSE & FALSE & FALSE & FALSE & FALSE & FALSE & FALSE & FALSE\\\\\n\t FALSE & FALSE & FALSE & FALSE & FALSE & FALSE & FALSE & FALSE & FALSE & FALSE & ⋯ & FALSE & FALSE & FALSE & FALSE & FALSE & FALSE & FALSE & FALSE & FALSE & FALSE\\\\\n\t FALSE & FALSE & FALSE & FALSE & FALSE & FALSE & FALSE & FALSE & FALSE & FALSE & ⋯ & FALSE & FALSE & FALSE & FALSE & FALSE & FALSE & FALSE & FALSE & FALSE & FALSE\\\\\n\t FALSE & FALSE & FALSE & FALSE & FALSE & FALSE & FALSE & FALSE & FALSE & FALSE & ⋯ & FALSE & FALSE & FALSE & FALSE & FALSE & FALSE & FALSE & FALSE & FALSE & FALSE\\\\\n\t FALSE & FALSE & FALSE & FALSE & FALSE & FALSE & FALSE & FALSE & FALSE & FALSE & ⋯ & FALSE & FALSE & FALSE & FALSE & FALSE & FALSE & FALSE & FALSE & FALSE & FALSE\\\\\n\t FALSE & FALSE & FALSE & FALSE & FALSE & FALSE & FALSE & FALSE & FALSE & FALSE & ⋯ & FALSE & FALSE & FALSE & FALSE & FALSE & FALSE & FALSE & FALSE & FALSE & FALSE\\\\\n\t FALSE & FALSE & FALSE & FALSE & FALSE & FALSE & FALSE & FALSE & FALSE & FALSE & ⋯ & FALSE & FALSE & FALSE & FALSE & FALSE & FALSE & FALSE & FALSE & FALSE & FALSE\\\\\n\t FALSE & FALSE & FALSE & FALSE & FALSE & FALSE & FALSE & FALSE & FALSE & FALSE & ⋯ & FALSE & FALSE & FALSE & FALSE & FALSE & FALSE & FALSE & FALSE & FALSE & FALSE\\\\\n\t FALSE & FALSE & FALSE & FALSE & FALSE & FALSE & FALSE & FALSE & FALSE & FALSE & ⋯ & FALSE & FALSE & FALSE & FALSE & FALSE & FALSE & FALSE & FALSE & FALSE & FALSE\\\\\n\t FALSE & FALSE & FALSE & FALSE & FALSE & FALSE & FALSE & FALSE & FALSE & FALSE & ⋯ & FALSE & FALSE & FALSE & FALSE & FALSE & FALSE & FALSE & FALSE & FALSE & FALSE\\\\\n\t FALSE & FALSE & FALSE & FALSE & FALSE & FALSE & FALSE & FALSE & FALSE & FALSE & ⋯ & FALSE & FALSE & FALSE & FALSE & FALSE & FALSE & FALSE & FALSE & FALSE & FALSE\\\\\n\t FALSE & FALSE & FALSE & FALSE & FALSE & FALSE & FALSE & FALSE & FALSE & FALSE & ⋯ & FALSE & FALSE & FALSE & FALSE & FALSE & FALSE & FALSE & FALSE & FALSE & FALSE\\\\\n\t FALSE & FALSE & FALSE & FALSE & FALSE & FALSE & FALSE & FALSE & FALSE & FALSE & ⋯ & FALSE & FALSE & FALSE & FALSE & FALSE & FALSE & FALSE & FALSE & FALSE & FALSE\\\\\n\t FALSE & FALSE & FALSE & FALSE & FALSE & FALSE & FALSE & FALSE & FALSE & FALSE & ⋯ & FALSE & FALSE & FALSE & FALSE & FALSE & FALSE & FALSE & FALSE & FALSE & FALSE\\\\\n\t FALSE & FALSE & FALSE & FALSE & FALSE & FALSE & FALSE & FALSE & FALSE & FALSE & ⋯ & FALSE & FALSE & FALSE & FALSE & FALSE & FALSE & FALSE & FALSE & FALSE & FALSE\\\\\n\t FALSE & FALSE & FALSE & FALSE & FALSE & FALSE & FALSE & FALSE & FALSE & FALSE & ⋯ & FALSE & FALSE & FALSE & FALSE & FALSE & FALSE & FALSE & FALSE & FALSE & FALSE\\\\\n\t FALSE & FALSE & FALSE & FALSE & FALSE & FALSE & FALSE & FALSE & FALSE & FALSE & ⋯ & FALSE & FALSE & FALSE & FALSE & FALSE & FALSE & FALSE & FALSE & FALSE & FALSE\\\\\n\t FALSE & FALSE & FALSE & FALSE & FALSE & FALSE & FALSE & FALSE & FALSE & FALSE & ⋯ & FALSE & FALSE & FALSE & FALSE & FALSE & FALSE & FALSE & FALSE & FALSE & FALSE\\\\\n\t FALSE & FALSE & FALSE & FALSE & FALSE & FALSE & FALSE & FALSE & FALSE & FALSE & ⋯ & FALSE & FALSE & FALSE & FALSE & FALSE & FALSE & FALSE & FALSE & FALSE & FALSE\\\\\n\t FALSE & FALSE & FALSE & FALSE & FALSE & FALSE & FALSE & FALSE & FALSE & FALSE & ⋯ & FALSE & FALSE & FALSE & FALSE & FALSE & FALSE & FALSE & FALSE & FALSE & FALSE\\\\\n\t FALSE & FALSE & FALSE & FALSE & FALSE & FALSE & FALSE & FALSE & FALSE & FALSE & ⋯ & FALSE & FALSE & FALSE & FALSE & FALSE & FALSE & FALSE & FALSE & FALSE & FALSE\\\\\n\t FALSE & FALSE & FALSE & FALSE & FALSE & FALSE & FALSE & FALSE & FALSE & FALSE & ⋯ & FALSE & FALSE & FALSE & FALSE & FALSE & FALSE & FALSE & FALSE & FALSE & FALSE\\\\\n\t FALSE & FALSE & FALSE & FALSE & FALSE & FALSE & FALSE & FALSE & FALSE & FALSE & ⋯ & FALSE & FALSE & FALSE & FALSE & FALSE & FALSE & FALSE & FALSE & FALSE & FALSE\\\\\n\t FALSE & FALSE & FALSE & FALSE & FALSE & FALSE & FALSE & FALSE & FALSE & FALSE & ⋯ & FALSE & FALSE & FALSE & FALSE & FALSE & FALSE & FALSE & FALSE & FALSE & FALSE\\\\\n\t FALSE & FALSE & FALSE & FALSE & FALSE & FALSE & FALSE & FALSE & FALSE & FALSE & ⋯ & FALSE & FALSE & FALSE & FALSE & FALSE & FALSE & FALSE & FALSE & FALSE & FALSE\\\\\n\t ⋮ & ⋮ & ⋮ & ⋮ & ⋮ & ⋮ & ⋮ & ⋮ & ⋮ & ⋮ & ⋱ & ⋮ & ⋮ & ⋮ & ⋮ & ⋮ & ⋮ & ⋮ & ⋮ & ⋮ & ⋮\\\\\n\t FALSE & FALSE & FALSE & FALSE & FALSE & FALSE & FALSE & FALSE & FALSE & FALSE & ⋯ & FALSE & FALSE & FALSE & FALSE & FALSE & FALSE & FALSE & FALSE & FALSE & FALSE\\\\\n\t FALSE & FALSE & FALSE & FALSE & FALSE & FALSE & FALSE & FALSE & FALSE & FALSE & ⋯ & FALSE & FALSE & FALSE & FALSE & FALSE & FALSE & FALSE & FALSE & FALSE & FALSE\\\\\n\t FALSE & FALSE & FALSE & FALSE & FALSE & FALSE & FALSE & FALSE & FALSE & FALSE & ⋯ & FALSE & FALSE & FALSE & FALSE & FALSE & FALSE & FALSE & FALSE & FALSE & FALSE\\\\\n\t FALSE & FALSE & FALSE & FALSE & FALSE & FALSE & FALSE & FALSE & FALSE & FALSE & ⋯ & FALSE & FALSE & FALSE & FALSE & FALSE & FALSE & FALSE & FALSE & FALSE & FALSE\\\\\n\t FALSE & FALSE & FALSE & FALSE & FALSE & FALSE & FALSE & FALSE & FALSE & FALSE & ⋯ & FALSE & FALSE & FALSE & FALSE & FALSE & FALSE & FALSE & FALSE & FALSE & FALSE\\\\\n\t FALSE & FALSE & FALSE & FALSE & FALSE & FALSE & FALSE & FALSE & FALSE & FALSE & ⋯ & FALSE & FALSE & FALSE & FALSE & FALSE & FALSE & FALSE & FALSE & FALSE & FALSE\\\\\n\t FALSE & FALSE & FALSE & FALSE & FALSE & FALSE & FALSE & FALSE & FALSE & FALSE & ⋯ & FALSE & FALSE & FALSE & FALSE & FALSE & FALSE & FALSE & FALSE & FALSE & FALSE\\\\\n\t FALSE & FALSE & FALSE & FALSE & FALSE & FALSE & FALSE & FALSE & FALSE & FALSE & ⋯ & FALSE & FALSE & FALSE & FALSE & FALSE & FALSE & FALSE & FALSE & FALSE & FALSE\\\\\n\t FALSE & FALSE & FALSE & FALSE & FALSE & FALSE & FALSE & FALSE & FALSE & FALSE & ⋯ & FALSE & FALSE & FALSE & FALSE & FALSE & FALSE & FALSE & FALSE & FALSE & FALSE\\\\\n\t FALSE & FALSE & FALSE & FALSE & FALSE & FALSE & FALSE & FALSE &  TRUE & FALSE & ⋯ & FALSE & FALSE & FALSE & FALSE & FALSE & FALSE & FALSE & FALSE & FALSE & FALSE\\\\\n\t FALSE & FALSE & FALSE & FALSE & FALSE & FALSE & FALSE & FALSE &  TRUE & FALSE & ⋯ & FALSE & FALSE & FALSE & FALSE & FALSE & FALSE & FALSE & FALSE & FALSE & FALSE\\\\\n\t FALSE & FALSE & FALSE & FALSE & FALSE & FALSE & FALSE & FALSE &  TRUE & FALSE & ⋯ & FALSE & FALSE & FALSE & FALSE & FALSE & FALSE & FALSE & FALSE & FALSE & FALSE\\\\\n\t FALSE & FALSE & FALSE & FALSE & FALSE & FALSE & FALSE & FALSE &  TRUE & FALSE & ⋯ & FALSE & FALSE & FALSE & FALSE & FALSE & FALSE & FALSE & FALSE & FALSE & FALSE\\\\\n\t FALSE & FALSE & FALSE & FALSE & FALSE & FALSE & FALSE & FALSE &  TRUE & FALSE & ⋯ & FALSE & FALSE & FALSE & FALSE & FALSE & FALSE & FALSE & FALSE & FALSE & FALSE\\\\\n\t FALSE & FALSE & FALSE & FALSE & FALSE & FALSE &  TRUE & FALSE & FALSE & FALSE & ⋯ & FALSE &  TRUE & FALSE & FALSE & FALSE & FALSE & FALSE & FALSE & FALSE & FALSE\\\\\n\t FALSE & FALSE & FALSE & FALSE & FALSE & FALSE & FALSE & FALSE & FALSE & FALSE & ⋯ & FALSE & FALSE & FALSE & FALSE & FALSE & FALSE & FALSE & FALSE & FALSE & FALSE\\\\\n\t FALSE & FALSE & FALSE & FALSE & FALSE & FALSE & FALSE & FALSE & FALSE & FALSE & ⋯ & FALSE & FALSE & FALSE & FALSE & FALSE & FALSE & FALSE & FALSE & FALSE & FALSE\\\\\n\t FALSE & FALSE & FALSE & FALSE & FALSE & FALSE & FALSE & FALSE & FALSE & FALSE & ⋯ & FALSE & FALSE & FALSE & FALSE & FALSE & FALSE & FALSE & FALSE & FALSE & FALSE\\\\\n\t FALSE & FALSE & FALSE & FALSE & FALSE & FALSE & FALSE & FALSE & FALSE & FALSE & ⋯ & FALSE & FALSE & FALSE & FALSE & FALSE & FALSE & FALSE & FALSE & FALSE & FALSE\\\\\n\t FALSE & FALSE & FALSE & FALSE & FALSE & FALSE & FALSE & FALSE & FALSE & FALSE & ⋯ & FALSE & FALSE & FALSE & FALSE & FALSE & FALSE & FALSE & FALSE & FALSE & FALSE\\\\\n\t FALSE & FALSE & FALSE & FALSE & FALSE & FALSE & FALSE & FALSE & FALSE & FALSE & ⋯ & FALSE & FALSE & FALSE & FALSE & FALSE & FALSE & FALSE & FALSE & FALSE & FALSE\\\\\n\t FALSE & FALSE & FALSE & FALSE & FALSE & FALSE & FALSE & FALSE & FALSE & FALSE & ⋯ & FALSE & FALSE & FALSE & FALSE & FALSE & FALSE & FALSE & FALSE & FALSE & FALSE\\\\\n\t FALSE & FALSE & FALSE & FALSE & FALSE & FALSE & FALSE & FALSE & FALSE & FALSE & ⋯ & FALSE & FALSE & FALSE & FALSE & FALSE & FALSE & FALSE & FALSE & FALSE & FALSE\\\\\n\t FALSE & FALSE & FALSE & FALSE & FALSE & FALSE & FALSE & FALSE & FALSE & FALSE & ⋯ & FALSE & FALSE & FALSE & FALSE & FALSE & FALSE & FALSE & FALSE & FALSE & FALSE\\\\\n\t FALSE & FALSE & FALSE & FALSE & FALSE & FALSE & FALSE & FALSE & FALSE & FALSE & ⋯ & FALSE & FALSE & FALSE & FALSE & FALSE & FALSE & FALSE & FALSE & FALSE & FALSE\\\\\n\t FALSE & FALSE & FALSE & FALSE & FALSE & FALSE & FALSE & FALSE & FALSE & FALSE & ⋯ & FALSE & FALSE & FALSE & FALSE & FALSE & FALSE & FALSE & FALSE & FALSE & FALSE\\\\\n\t FALSE & FALSE & FALSE & FALSE & FALSE & FALSE & FALSE & FALSE & FALSE & FALSE & ⋯ & FALSE & FALSE & FALSE & FALSE & FALSE & FALSE & FALSE & FALSE & FALSE & FALSE\\\\\n\t FALSE & FALSE & FALSE & FALSE & FALSE & FALSE & FALSE & FALSE & FALSE & FALSE & ⋯ & FALSE & FALSE & FALSE & FALSE & FALSE & FALSE & FALSE & FALSE & FALSE & FALSE\\\\\n\t FALSE & FALSE & FALSE & FALSE & FALSE & FALSE & FALSE & FALSE & FALSE & FALSE & ⋯ & FALSE & FALSE & FALSE & FALSE & FALSE & FALSE & FALSE & FALSE & FALSE & FALSE\\\\\n\t FALSE & FALSE & FALSE & FALSE & FALSE & FALSE & FALSE & FALSE & FALSE & FALSE & ⋯ & FALSE & FALSE & FALSE & FALSE & FALSE & FALSE & FALSE & FALSE & FALSE & FALSE\\\\\n\\end{tabular}\n",
            "text/markdown": "\nA matrix: 2938 × 22 of type lgl\n\n| Country | Year | Status | Life expectancy | Adult Mortality | infant deaths | Alcohol | percentage expenditure | Hepatitis B | Measles | ⋯ | Polio | Total expenditure | Diphtheria | HIV/AIDS | GDP | Population | thinness  10-19 years | thinness 5-9 years | Income composition of resources | Schooling |\n|---|---|---|---|---|---|---|---|---|---|---|---|---|---|---|---|---|---|---|---|---|\n| FALSE | FALSE | FALSE | FALSE | FALSE | FALSE | FALSE | FALSE | FALSE | FALSE | ⋯ | FALSE | FALSE | FALSE | FALSE | FALSE | FALSE | FALSE | FALSE | FALSE | FALSE |\n| FALSE | FALSE | FALSE | FALSE | FALSE | FALSE | FALSE | FALSE | FALSE | FALSE | ⋯ | FALSE | FALSE | FALSE | FALSE | FALSE | FALSE | FALSE | FALSE | FALSE | FALSE |\n| FALSE | FALSE | FALSE | FALSE | FALSE | FALSE | FALSE | FALSE | FALSE | FALSE | ⋯ | FALSE | FALSE | FALSE | FALSE | FALSE | FALSE | FALSE | FALSE | FALSE | FALSE |\n| FALSE | FALSE | FALSE | FALSE | FALSE | FALSE | FALSE | FALSE | FALSE | FALSE | ⋯ | FALSE | FALSE | FALSE | FALSE | FALSE | FALSE | FALSE | FALSE | FALSE | FALSE |\n| FALSE | FALSE | FALSE | FALSE | FALSE | FALSE | FALSE | FALSE | FALSE | FALSE | ⋯ | FALSE | FALSE | FALSE | FALSE | FALSE | FALSE | FALSE | FALSE | FALSE | FALSE |\n| FALSE | FALSE | FALSE | FALSE | FALSE | FALSE | FALSE | FALSE | FALSE | FALSE | ⋯ | FALSE | FALSE | FALSE | FALSE | FALSE | FALSE | FALSE | FALSE | FALSE | FALSE |\n| FALSE | FALSE | FALSE | FALSE | FALSE | FALSE | FALSE | FALSE | FALSE | FALSE | ⋯ | FALSE | FALSE | FALSE | FALSE | FALSE | FALSE | FALSE | FALSE | FALSE | FALSE |\n| FALSE | FALSE | FALSE | FALSE | FALSE | FALSE | FALSE | FALSE | FALSE | FALSE | ⋯ | FALSE | FALSE | FALSE | FALSE | FALSE | FALSE | FALSE | FALSE | FALSE | FALSE |\n| FALSE | FALSE | FALSE | FALSE | FALSE | FALSE | FALSE | FALSE | FALSE | FALSE | ⋯ | FALSE | FALSE | FALSE | FALSE | FALSE | FALSE | FALSE | FALSE | FALSE | FALSE |\n| FALSE | FALSE | FALSE | FALSE | FALSE | FALSE | FALSE | FALSE | FALSE | FALSE | ⋯ | FALSE | FALSE | FALSE | FALSE | FALSE | FALSE | FALSE | FALSE | FALSE | FALSE |\n| FALSE | FALSE | FALSE | FALSE | FALSE | FALSE | FALSE | FALSE | FALSE | FALSE | ⋯ | FALSE | FALSE | FALSE | FALSE | FALSE | FALSE | FALSE | FALSE | FALSE | FALSE |\n| FALSE | FALSE | FALSE | FALSE | FALSE | FALSE | FALSE | FALSE | FALSE | FALSE | ⋯ | FALSE | FALSE | FALSE | FALSE | FALSE | FALSE | FALSE | FALSE | FALSE | FALSE |\n| FALSE | FALSE | FALSE | FALSE | FALSE | FALSE | FALSE | FALSE | FALSE | FALSE | ⋯ | FALSE | FALSE | FALSE | FALSE | FALSE | FALSE | FALSE | FALSE | FALSE | FALSE |\n| FALSE | FALSE | FALSE | FALSE | FALSE | FALSE | FALSE | FALSE | FALSE | FALSE | ⋯ | FALSE | FALSE | FALSE | FALSE | FALSE | FALSE | FALSE | FALSE | FALSE | FALSE |\n| FALSE | FALSE | FALSE | FALSE | FALSE | FALSE | FALSE | FALSE | FALSE | FALSE | ⋯ | FALSE | FALSE | FALSE | FALSE | FALSE | FALSE | FALSE | FALSE | FALSE | FALSE |\n| FALSE | FALSE | FALSE | FALSE | FALSE | FALSE | FALSE | FALSE | FALSE | FALSE | ⋯ | FALSE | FALSE | FALSE | FALSE | FALSE | FALSE | FALSE | FALSE | FALSE | FALSE |\n| FALSE | FALSE | FALSE | FALSE | FALSE | FALSE | FALSE | FALSE | FALSE | FALSE | ⋯ | FALSE | FALSE | FALSE | FALSE | FALSE | FALSE | FALSE | FALSE | FALSE | FALSE |\n| FALSE | FALSE | FALSE | FALSE | FALSE | FALSE | FALSE | FALSE | FALSE | FALSE | ⋯ | FALSE | FALSE | FALSE | FALSE | FALSE | FALSE | FALSE | FALSE | FALSE | FALSE |\n| FALSE | FALSE | FALSE | FALSE | FALSE | FALSE | FALSE | FALSE | FALSE | FALSE | ⋯ | FALSE | FALSE | FALSE | FALSE | FALSE | FALSE | FALSE | FALSE | FALSE | FALSE |\n| FALSE | FALSE | FALSE | FALSE | FALSE | FALSE | FALSE | FALSE | FALSE | FALSE | ⋯ | FALSE | FALSE | FALSE | FALSE | FALSE | FALSE | FALSE | FALSE | FALSE | FALSE |\n| FALSE | FALSE | FALSE | FALSE | FALSE | FALSE | FALSE | FALSE | FALSE | FALSE | ⋯ | FALSE | FALSE | FALSE | FALSE | FALSE | FALSE | FALSE | FALSE | FALSE | FALSE |\n| FALSE | FALSE | FALSE | FALSE | FALSE | FALSE | FALSE | FALSE | FALSE | FALSE | ⋯ | FALSE | FALSE | FALSE | FALSE | FALSE | FALSE | FALSE | FALSE | FALSE | FALSE |\n| FALSE | FALSE | FALSE | FALSE | FALSE | FALSE | FALSE | FALSE | FALSE | FALSE | ⋯ | FALSE | FALSE | FALSE | FALSE | FALSE | FALSE | FALSE | FALSE | FALSE | FALSE |\n| FALSE | FALSE | FALSE | FALSE | FALSE | FALSE | FALSE | FALSE | FALSE | FALSE | ⋯ | FALSE | FALSE | FALSE | FALSE | FALSE | FALSE | FALSE | FALSE | FALSE | FALSE |\n| FALSE | FALSE | FALSE | FALSE | FALSE | FALSE | FALSE | FALSE | FALSE | FALSE | ⋯ | FALSE | FALSE | FALSE | FALSE | FALSE | FALSE | FALSE | FALSE | FALSE | FALSE |\n| FALSE | FALSE | FALSE | FALSE | FALSE | FALSE | FALSE | FALSE | FALSE | FALSE | ⋯ | FALSE | FALSE | FALSE | FALSE | FALSE | FALSE | FALSE | FALSE | FALSE | FALSE |\n| FALSE | FALSE | FALSE | FALSE | FALSE | FALSE | FALSE | FALSE | FALSE | FALSE | ⋯ | FALSE | FALSE | FALSE | FALSE | FALSE | FALSE | FALSE | FALSE | FALSE | FALSE |\n| FALSE | FALSE | FALSE | FALSE | FALSE | FALSE | FALSE | FALSE | FALSE | FALSE | ⋯ | FALSE | FALSE | FALSE | FALSE | FALSE | FALSE | FALSE | FALSE | FALSE | FALSE |\n| FALSE | FALSE | FALSE | FALSE | FALSE | FALSE | FALSE | FALSE | FALSE | FALSE | ⋯ | FALSE | FALSE | FALSE | FALSE | FALSE | FALSE | FALSE | FALSE | FALSE | FALSE |\n| FALSE | FALSE | FALSE | FALSE | FALSE | FALSE | FALSE | FALSE | FALSE | FALSE | ⋯ | FALSE | FALSE | FALSE | FALSE | FALSE | FALSE | FALSE | FALSE | FALSE | FALSE |\n| ⋮ | ⋮ | ⋮ | ⋮ | ⋮ | ⋮ | ⋮ | ⋮ | ⋮ | ⋮ | ⋱ | ⋮ | ⋮ | ⋮ | ⋮ | ⋮ | ⋮ | ⋮ | ⋮ | ⋮ | ⋮ |\n| FALSE | FALSE | FALSE | FALSE | FALSE | FALSE | FALSE | FALSE | FALSE | FALSE | ⋯ | FALSE | FALSE | FALSE | FALSE | FALSE | FALSE | FALSE | FALSE | FALSE | FALSE |\n| FALSE | FALSE | FALSE | FALSE | FALSE | FALSE | FALSE | FALSE | FALSE | FALSE | ⋯ | FALSE | FALSE | FALSE | FALSE | FALSE | FALSE | FALSE | FALSE | FALSE | FALSE |\n| FALSE | FALSE | FALSE | FALSE | FALSE | FALSE | FALSE | FALSE | FALSE | FALSE | ⋯ | FALSE | FALSE | FALSE | FALSE | FALSE | FALSE | FALSE | FALSE | FALSE | FALSE |\n| FALSE | FALSE | FALSE | FALSE | FALSE | FALSE | FALSE | FALSE | FALSE | FALSE | ⋯ | FALSE | FALSE | FALSE | FALSE | FALSE | FALSE | FALSE | FALSE | FALSE | FALSE |\n| FALSE | FALSE | FALSE | FALSE | FALSE | FALSE | FALSE | FALSE | FALSE | FALSE | ⋯ | FALSE | FALSE | FALSE | FALSE | FALSE | FALSE | FALSE | FALSE | FALSE | FALSE |\n| FALSE | FALSE | FALSE | FALSE | FALSE | FALSE | FALSE | FALSE | FALSE | FALSE | ⋯ | FALSE | FALSE | FALSE | FALSE | FALSE | FALSE | FALSE | FALSE | FALSE | FALSE |\n| FALSE | FALSE | FALSE | FALSE | FALSE | FALSE | FALSE | FALSE | FALSE | FALSE | ⋯ | FALSE | FALSE | FALSE | FALSE | FALSE | FALSE | FALSE | FALSE | FALSE | FALSE |\n| FALSE | FALSE | FALSE | FALSE | FALSE | FALSE | FALSE | FALSE | FALSE | FALSE | ⋯ | FALSE | FALSE | FALSE | FALSE | FALSE | FALSE | FALSE | FALSE | FALSE | FALSE |\n| FALSE | FALSE | FALSE | FALSE | FALSE | FALSE | FALSE | FALSE | FALSE | FALSE | ⋯ | FALSE | FALSE | FALSE | FALSE | FALSE | FALSE | FALSE | FALSE | FALSE | FALSE |\n| FALSE | FALSE | FALSE | FALSE | FALSE | FALSE | FALSE | FALSE |  TRUE | FALSE | ⋯ | FALSE | FALSE | FALSE | FALSE | FALSE | FALSE | FALSE | FALSE | FALSE | FALSE |\n| FALSE | FALSE | FALSE | FALSE | FALSE | FALSE | FALSE | FALSE |  TRUE | FALSE | ⋯ | FALSE | FALSE | FALSE | FALSE | FALSE | FALSE | FALSE | FALSE | FALSE | FALSE |\n| FALSE | FALSE | FALSE | FALSE | FALSE | FALSE | FALSE | FALSE |  TRUE | FALSE | ⋯ | FALSE | FALSE | FALSE | FALSE | FALSE | FALSE | FALSE | FALSE | FALSE | FALSE |\n| FALSE | FALSE | FALSE | FALSE | FALSE | FALSE | FALSE | FALSE |  TRUE | FALSE | ⋯ | FALSE | FALSE | FALSE | FALSE | FALSE | FALSE | FALSE | FALSE | FALSE | FALSE |\n| FALSE | FALSE | FALSE | FALSE | FALSE | FALSE | FALSE | FALSE |  TRUE | FALSE | ⋯ | FALSE | FALSE | FALSE | FALSE | FALSE | FALSE | FALSE | FALSE | FALSE | FALSE |\n| FALSE | FALSE | FALSE | FALSE | FALSE | FALSE |  TRUE | FALSE | FALSE | FALSE | ⋯ | FALSE |  TRUE | FALSE | FALSE | FALSE | FALSE | FALSE | FALSE | FALSE | FALSE |\n| FALSE | FALSE | FALSE | FALSE | FALSE | FALSE | FALSE | FALSE | FALSE | FALSE | ⋯ | FALSE | FALSE | FALSE | FALSE | FALSE | FALSE | FALSE | FALSE | FALSE | FALSE |\n| FALSE | FALSE | FALSE | FALSE | FALSE | FALSE | FALSE | FALSE | FALSE | FALSE | ⋯ | FALSE | FALSE | FALSE | FALSE | FALSE | FALSE | FALSE | FALSE | FALSE | FALSE |\n| FALSE | FALSE | FALSE | FALSE | FALSE | FALSE | FALSE | FALSE | FALSE | FALSE | ⋯ | FALSE | FALSE | FALSE | FALSE | FALSE | FALSE | FALSE | FALSE | FALSE | FALSE |\n| FALSE | FALSE | FALSE | FALSE | FALSE | FALSE | FALSE | FALSE | FALSE | FALSE | ⋯ | FALSE | FALSE | FALSE | FALSE | FALSE | FALSE | FALSE | FALSE | FALSE | FALSE |\n| FALSE | FALSE | FALSE | FALSE | FALSE | FALSE | FALSE | FALSE | FALSE | FALSE | ⋯ | FALSE | FALSE | FALSE | FALSE | FALSE | FALSE | FALSE | FALSE | FALSE | FALSE |\n| FALSE | FALSE | FALSE | FALSE | FALSE | FALSE | FALSE | FALSE | FALSE | FALSE | ⋯ | FALSE | FALSE | FALSE | FALSE | FALSE | FALSE | FALSE | FALSE | FALSE | FALSE |\n| FALSE | FALSE | FALSE | FALSE | FALSE | FALSE | FALSE | FALSE | FALSE | FALSE | ⋯ | FALSE | FALSE | FALSE | FALSE | FALSE | FALSE | FALSE | FALSE | FALSE | FALSE |\n| FALSE | FALSE | FALSE | FALSE | FALSE | FALSE | FALSE | FALSE | FALSE | FALSE | ⋯ | FALSE | FALSE | FALSE | FALSE | FALSE | FALSE | FALSE | FALSE | FALSE | FALSE |\n| FALSE | FALSE | FALSE | FALSE | FALSE | FALSE | FALSE | FALSE | FALSE | FALSE | ⋯ | FALSE | FALSE | FALSE | FALSE | FALSE | FALSE | FALSE | FALSE | FALSE | FALSE |\n| FALSE | FALSE | FALSE | FALSE | FALSE | FALSE | FALSE | FALSE | FALSE | FALSE | ⋯ | FALSE | FALSE | FALSE | FALSE | FALSE | FALSE | FALSE | FALSE | FALSE | FALSE |\n| FALSE | FALSE | FALSE | FALSE | FALSE | FALSE | FALSE | FALSE | FALSE | FALSE | ⋯ | FALSE | FALSE | FALSE | FALSE | FALSE | FALSE | FALSE | FALSE | FALSE | FALSE |\n| FALSE | FALSE | FALSE | FALSE | FALSE | FALSE | FALSE | FALSE | FALSE | FALSE | ⋯ | FALSE | FALSE | FALSE | FALSE | FALSE | FALSE | FALSE | FALSE | FALSE | FALSE |\n| FALSE | FALSE | FALSE | FALSE | FALSE | FALSE | FALSE | FALSE | FALSE | FALSE | ⋯ | FALSE | FALSE | FALSE | FALSE | FALSE | FALSE | FALSE | FALSE | FALSE | FALSE |\n| FALSE | FALSE | FALSE | FALSE | FALSE | FALSE | FALSE | FALSE | FALSE | FALSE | ⋯ | FALSE | FALSE | FALSE | FALSE | FALSE | FALSE | FALSE | FALSE | FALSE | FALSE |\n| FALSE | FALSE | FALSE | FALSE | FALSE | FALSE | FALSE | FALSE | FALSE | FALSE | ⋯ | FALSE | FALSE | FALSE | FALSE | FALSE | FALSE | FALSE | FALSE | FALSE | FALSE |\n\n",
            "text/html": [
              "<table class=\"dataframe\">\n",
              "<caption>A matrix: 2938 × 22 of type lgl</caption>\n",
              "<thead>\n",
              "\t<tr><th scope=col>Country</th><th scope=col>Year</th><th scope=col>Status</th><th scope=col>Life expectancy</th><th scope=col>Adult Mortality</th><th scope=col>infant deaths</th><th scope=col>Alcohol</th><th scope=col>percentage expenditure</th><th scope=col>Hepatitis B</th><th scope=col>Measles</th><th scope=col>⋯</th><th scope=col>Polio</th><th scope=col>Total expenditure</th><th scope=col>Diphtheria</th><th scope=col>HIV/AIDS</th><th scope=col>GDP</th><th scope=col>Population</th><th scope=col>thinness  10-19 years</th><th scope=col>thinness 5-9 years</th><th scope=col>Income composition of resources</th><th scope=col>Schooling</th></tr>\n",
              "</thead>\n",
              "<tbody>\n",
              "\t<tr><td>FALSE</td><td>FALSE</td><td>FALSE</td><td>FALSE</td><td>FALSE</td><td>FALSE</td><td>FALSE</td><td>FALSE</td><td>FALSE</td><td>FALSE</td><td>⋯</td><td>FALSE</td><td>FALSE</td><td>FALSE</td><td>FALSE</td><td>FALSE</td><td>FALSE</td><td>FALSE</td><td>FALSE</td><td>FALSE</td><td>FALSE</td></tr>\n",
              "\t<tr><td>FALSE</td><td>FALSE</td><td>FALSE</td><td>FALSE</td><td>FALSE</td><td>FALSE</td><td>FALSE</td><td>FALSE</td><td>FALSE</td><td>FALSE</td><td>⋯</td><td>FALSE</td><td>FALSE</td><td>FALSE</td><td>FALSE</td><td>FALSE</td><td>FALSE</td><td>FALSE</td><td>FALSE</td><td>FALSE</td><td>FALSE</td></tr>\n",
              "\t<tr><td>FALSE</td><td>FALSE</td><td>FALSE</td><td>FALSE</td><td>FALSE</td><td>FALSE</td><td>FALSE</td><td>FALSE</td><td>FALSE</td><td>FALSE</td><td>⋯</td><td>FALSE</td><td>FALSE</td><td>FALSE</td><td>FALSE</td><td>FALSE</td><td>FALSE</td><td>FALSE</td><td>FALSE</td><td>FALSE</td><td>FALSE</td></tr>\n",
              "\t<tr><td>FALSE</td><td>FALSE</td><td>FALSE</td><td>FALSE</td><td>FALSE</td><td>FALSE</td><td>FALSE</td><td>FALSE</td><td>FALSE</td><td>FALSE</td><td>⋯</td><td>FALSE</td><td>FALSE</td><td>FALSE</td><td>FALSE</td><td>FALSE</td><td>FALSE</td><td>FALSE</td><td>FALSE</td><td>FALSE</td><td>FALSE</td></tr>\n",
              "\t<tr><td>FALSE</td><td>FALSE</td><td>FALSE</td><td>FALSE</td><td>FALSE</td><td>FALSE</td><td>FALSE</td><td>FALSE</td><td>FALSE</td><td>FALSE</td><td>⋯</td><td>FALSE</td><td>FALSE</td><td>FALSE</td><td>FALSE</td><td>FALSE</td><td>FALSE</td><td>FALSE</td><td>FALSE</td><td>FALSE</td><td>FALSE</td></tr>\n",
              "\t<tr><td>FALSE</td><td>FALSE</td><td>FALSE</td><td>FALSE</td><td>FALSE</td><td>FALSE</td><td>FALSE</td><td>FALSE</td><td>FALSE</td><td>FALSE</td><td>⋯</td><td>FALSE</td><td>FALSE</td><td>FALSE</td><td>FALSE</td><td>FALSE</td><td>FALSE</td><td>FALSE</td><td>FALSE</td><td>FALSE</td><td>FALSE</td></tr>\n",
              "\t<tr><td>FALSE</td><td>FALSE</td><td>FALSE</td><td>FALSE</td><td>FALSE</td><td>FALSE</td><td>FALSE</td><td>FALSE</td><td>FALSE</td><td>FALSE</td><td>⋯</td><td>FALSE</td><td>FALSE</td><td>FALSE</td><td>FALSE</td><td>FALSE</td><td>FALSE</td><td>FALSE</td><td>FALSE</td><td>FALSE</td><td>FALSE</td></tr>\n",
              "\t<tr><td>FALSE</td><td>FALSE</td><td>FALSE</td><td>FALSE</td><td>FALSE</td><td>FALSE</td><td>FALSE</td><td>FALSE</td><td>FALSE</td><td>FALSE</td><td>⋯</td><td>FALSE</td><td>FALSE</td><td>FALSE</td><td>FALSE</td><td>FALSE</td><td>FALSE</td><td>FALSE</td><td>FALSE</td><td>FALSE</td><td>FALSE</td></tr>\n",
              "\t<tr><td>FALSE</td><td>FALSE</td><td>FALSE</td><td>FALSE</td><td>FALSE</td><td>FALSE</td><td>FALSE</td><td>FALSE</td><td>FALSE</td><td>FALSE</td><td>⋯</td><td>FALSE</td><td>FALSE</td><td>FALSE</td><td>FALSE</td><td>FALSE</td><td>FALSE</td><td>FALSE</td><td>FALSE</td><td>FALSE</td><td>FALSE</td></tr>\n",
              "\t<tr><td>FALSE</td><td>FALSE</td><td>FALSE</td><td>FALSE</td><td>FALSE</td><td>FALSE</td><td>FALSE</td><td>FALSE</td><td>FALSE</td><td>FALSE</td><td>⋯</td><td>FALSE</td><td>FALSE</td><td>FALSE</td><td>FALSE</td><td>FALSE</td><td>FALSE</td><td>FALSE</td><td>FALSE</td><td>FALSE</td><td>FALSE</td></tr>\n",
              "\t<tr><td>FALSE</td><td>FALSE</td><td>FALSE</td><td>FALSE</td><td>FALSE</td><td>FALSE</td><td>FALSE</td><td>FALSE</td><td>FALSE</td><td>FALSE</td><td>⋯</td><td>FALSE</td><td>FALSE</td><td>FALSE</td><td>FALSE</td><td>FALSE</td><td>FALSE</td><td>FALSE</td><td>FALSE</td><td>FALSE</td><td>FALSE</td></tr>\n",
              "\t<tr><td>FALSE</td><td>FALSE</td><td>FALSE</td><td>FALSE</td><td>FALSE</td><td>FALSE</td><td>FALSE</td><td>FALSE</td><td>FALSE</td><td>FALSE</td><td>⋯</td><td>FALSE</td><td>FALSE</td><td>FALSE</td><td>FALSE</td><td>FALSE</td><td>FALSE</td><td>FALSE</td><td>FALSE</td><td>FALSE</td><td>FALSE</td></tr>\n",
              "\t<tr><td>FALSE</td><td>FALSE</td><td>FALSE</td><td>FALSE</td><td>FALSE</td><td>FALSE</td><td>FALSE</td><td>FALSE</td><td>FALSE</td><td>FALSE</td><td>⋯</td><td>FALSE</td><td>FALSE</td><td>FALSE</td><td>FALSE</td><td>FALSE</td><td>FALSE</td><td>FALSE</td><td>FALSE</td><td>FALSE</td><td>FALSE</td></tr>\n",
              "\t<tr><td>FALSE</td><td>FALSE</td><td>FALSE</td><td>FALSE</td><td>FALSE</td><td>FALSE</td><td>FALSE</td><td>FALSE</td><td>FALSE</td><td>FALSE</td><td>⋯</td><td>FALSE</td><td>FALSE</td><td>FALSE</td><td>FALSE</td><td>FALSE</td><td>FALSE</td><td>FALSE</td><td>FALSE</td><td>FALSE</td><td>FALSE</td></tr>\n",
              "\t<tr><td>FALSE</td><td>FALSE</td><td>FALSE</td><td>FALSE</td><td>FALSE</td><td>FALSE</td><td>FALSE</td><td>FALSE</td><td>FALSE</td><td>FALSE</td><td>⋯</td><td>FALSE</td><td>FALSE</td><td>FALSE</td><td>FALSE</td><td>FALSE</td><td>FALSE</td><td>FALSE</td><td>FALSE</td><td>FALSE</td><td>FALSE</td></tr>\n",
              "\t<tr><td>FALSE</td><td>FALSE</td><td>FALSE</td><td>FALSE</td><td>FALSE</td><td>FALSE</td><td>FALSE</td><td>FALSE</td><td>FALSE</td><td>FALSE</td><td>⋯</td><td>FALSE</td><td>FALSE</td><td>FALSE</td><td>FALSE</td><td>FALSE</td><td>FALSE</td><td>FALSE</td><td>FALSE</td><td>FALSE</td><td>FALSE</td></tr>\n",
              "\t<tr><td>FALSE</td><td>FALSE</td><td>FALSE</td><td>FALSE</td><td>FALSE</td><td>FALSE</td><td>FALSE</td><td>FALSE</td><td>FALSE</td><td>FALSE</td><td>⋯</td><td>FALSE</td><td>FALSE</td><td>FALSE</td><td>FALSE</td><td>FALSE</td><td>FALSE</td><td>FALSE</td><td>FALSE</td><td>FALSE</td><td>FALSE</td></tr>\n",
              "\t<tr><td>FALSE</td><td>FALSE</td><td>FALSE</td><td>FALSE</td><td>FALSE</td><td>FALSE</td><td>FALSE</td><td>FALSE</td><td>FALSE</td><td>FALSE</td><td>⋯</td><td>FALSE</td><td>FALSE</td><td>FALSE</td><td>FALSE</td><td>FALSE</td><td>FALSE</td><td>FALSE</td><td>FALSE</td><td>FALSE</td><td>FALSE</td></tr>\n",
              "\t<tr><td>FALSE</td><td>FALSE</td><td>FALSE</td><td>FALSE</td><td>FALSE</td><td>FALSE</td><td>FALSE</td><td>FALSE</td><td>FALSE</td><td>FALSE</td><td>⋯</td><td>FALSE</td><td>FALSE</td><td>FALSE</td><td>FALSE</td><td>FALSE</td><td>FALSE</td><td>FALSE</td><td>FALSE</td><td>FALSE</td><td>FALSE</td></tr>\n",
              "\t<tr><td>FALSE</td><td>FALSE</td><td>FALSE</td><td>FALSE</td><td>FALSE</td><td>FALSE</td><td>FALSE</td><td>FALSE</td><td>FALSE</td><td>FALSE</td><td>⋯</td><td>FALSE</td><td>FALSE</td><td>FALSE</td><td>FALSE</td><td>FALSE</td><td>FALSE</td><td>FALSE</td><td>FALSE</td><td>FALSE</td><td>FALSE</td></tr>\n",
              "\t<tr><td>FALSE</td><td>FALSE</td><td>FALSE</td><td>FALSE</td><td>FALSE</td><td>FALSE</td><td>FALSE</td><td>FALSE</td><td>FALSE</td><td>FALSE</td><td>⋯</td><td>FALSE</td><td>FALSE</td><td>FALSE</td><td>FALSE</td><td>FALSE</td><td>FALSE</td><td>FALSE</td><td>FALSE</td><td>FALSE</td><td>FALSE</td></tr>\n",
              "\t<tr><td>FALSE</td><td>FALSE</td><td>FALSE</td><td>FALSE</td><td>FALSE</td><td>FALSE</td><td>FALSE</td><td>FALSE</td><td>FALSE</td><td>FALSE</td><td>⋯</td><td>FALSE</td><td>FALSE</td><td>FALSE</td><td>FALSE</td><td>FALSE</td><td>FALSE</td><td>FALSE</td><td>FALSE</td><td>FALSE</td><td>FALSE</td></tr>\n",
              "\t<tr><td>FALSE</td><td>FALSE</td><td>FALSE</td><td>FALSE</td><td>FALSE</td><td>FALSE</td><td>FALSE</td><td>FALSE</td><td>FALSE</td><td>FALSE</td><td>⋯</td><td>FALSE</td><td>FALSE</td><td>FALSE</td><td>FALSE</td><td>FALSE</td><td>FALSE</td><td>FALSE</td><td>FALSE</td><td>FALSE</td><td>FALSE</td></tr>\n",
              "\t<tr><td>FALSE</td><td>FALSE</td><td>FALSE</td><td>FALSE</td><td>FALSE</td><td>FALSE</td><td>FALSE</td><td>FALSE</td><td>FALSE</td><td>FALSE</td><td>⋯</td><td>FALSE</td><td>FALSE</td><td>FALSE</td><td>FALSE</td><td>FALSE</td><td>FALSE</td><td>FALSE</td><td>FALSE</td><td>FALSE</td><td>FALSE</td></tr>\n",
              "\t<tr><td>FALSE</td><td>FALSE</td><td>FALSE</td><td>FALSE</td><td>FALSE</td><td>FALSE</td><td>FALSE</td><td>FALSE</td><td>FALSE</td><td>FALSE</td><td>⋯</td><td>FALSE</td><td>FALSE</td><td>FALSE</td><td>FALSE</td><td>FALSE</td><td>FALSE</td><td>FALSE</td><td>FALSE</td><td>FALSE</td><td>FALSE</td></tr>\n",
              "\t<tr><td>FALSE</td><td>FALSE</td><td>FALSE</td><td>FALSE</td><td>FALSE</td><td>FALSE</td><td>FALSE</td><td>FALSE</td><td>FALSE</td><td>FALSE</td><td>⋯</td><td>FALSE</td><td>FALSE</td><td>FALSE</td><td>FALSE</td><td>FALSE</td><td>FALSE</td><td>FALSE</td><td>FALSE</td><td>FALSE</td><td>FALSE</td></tr>\n",
              "\t<tr><td>FALSE</td><td>FALSE</td><td>FALSE</td><td>FALSE</td><td>FALSE</td><td>FALSE</td><td>FALSE</td><td>FALSE</td><td>FALSE</td><td>FALSE</td><td>⋯</td><td>FALSE</td><td>FALSE</td><td>FALSE</td><td>FALSE</td><td>FALSE</td><td>FALSE</td><td>FALSE</td><td>FALSE</td><td>FALSE</td><td>FALSE</td></tr>\n",
              "\t<tr><td>FALSE</td><td>FALSE</td><td>FALSE</td><td>FALSE</td><td>FALSE</td><td>FALSE</td><td>FALSE</td><td>FALSE</td><td>FALSE</td><td>FALSE</td><td>⋯</td><td>FALSE</td><td>FALSE</td><td>FALSE</td><td>FALSE</td><td>FALSE</td><td>FALSE</td><td>FALSE</td><td>FALSE</td><td>FALSE</td><td>FALSE</td></tr>\n",
              "\t<tr><td>FALSE</td><td>FALSE</td><td>FALSE</td><td>FALSE</td><td>FALSE</td><td>FALSE</td><td>FALSE</td><td>FALSE</td><td>FALSE</td><td>FALSE</td><td>⋯</td><td>FALSE</td><td>FALSE</td><td>FALSE</td><td>FALSE</td><td>FALSE</td><td>FALSE</td><td>FALSE</td><td>FALSE</td><td>FALSE</td><td>FALSE</td></tr>\n",
              "\t<tr><td>FALSE</td><td>FALSE</td><td>FALSE</td><td>FALSE</td><td>FALSE</td><td>FALSE</td><td>FALSE</td><td>FALSE</td><td>FALSE</td><td>FALSE</td><td>⋯</td><td>FALSE</td><td>FALSE</td><td>FALSE</td><td>FALSE</td><td>FALSE</td><td>FALSE</td><td>FALSE</td><td>FALSE</td><td>FALSE</td><td>FALSE</td></tr>\n",
              "\t<tr><td>⋮</td><td>⋮</td><td>⋮</td><td>⋮</td><td>⋮</td><td>⋮</td><td>⋮</td><td>⋮</td><td>⋮</td><td>⋮</td><td>⋱</td><td>⋮</td><td>⋮</td><td>⋮</td><td>⋮</td><td>⋮</td><td>⋮</td><td>⋮</td><td>⋮</td><td>⋮</td><td>⋮</td></tr>\n",
              "\t<tr><td>FALSE</td><td>FALSE</td><td>FALSE</td><td>FALSE</td><td>FALSE</td><td>FALSE</td><td>FALSE</td><td>FALSE</td><td>FALSE</td><td>FALSE</td><td>⋯</td><td>FALSE</td><td>FALSE</td><td>FALSE</td><td>FALSE</td><td>FALSE</td><td>FALSE</td><td>FALSE</td><td>FALSE</td><td>FALSE</td><td>FALSE</td></tr>\n",
              "\t<tr><td>FALSE</td><td>FALSE</td><td>FALSE</td><td>FALSE</td><td>FALSE</td><td>FALSE</td><td>FALSE</td><td>FALSE</td><td>FALSE</td><td>FALSE</td><td>⋯</td><td>FALSE</td><td>FALSE</td><td>FALSE</td><td>FALSE</td><td>FALSE</td><td>FALSE</td><td>FALSE</td><td>FALSE</td><td>FALSE</td><td>FALSE</td></tr>\n",
              "\t<tr><td>FALSE</td><td>FALSE</td><td>FALSE</td><td>FALSE</td><td>FALSE</td><td>FALSE</td><td>FALSE</td><td>FALSE</td><td>FALSE</td><td>FALSE</td><td>⋯</td><td>FALSE</td><td>FALSE</td><td>FALSE</td><td>FALSE</td><td>FALSE</td><td>FALSE</td><td>FALSE</td><td>FALSE</td><td>FALSE</td><td>FALSE</td></tr>\n",
              "\t<tr><td>FALSE</td><td>FALSE</td><td>FALSE</td><td>FALSE</td><td>FALSE</td><td>FALSE</td><td>FALSE</td><td>FALSE</td><td>FALSE</td><td>FALSE</td><td>⋯</td><td>FALSE</td><td>FALSE</td><td>FALSE</td><td>FALSE</td><td>FALSE</td><td>FALSE</td><td>FALSE</td><td>FALSE</td><td>FALSE</td><td>FALSE</td></tr>\n",
              "\t<tr><td>FALSE</td><td>FALSE</td><td>FALSE</td><td>FALSE</td><td>FALSE</td><td>FALSE</td><td>FALSE</td><td>FALSE</td><td>FALSE</td><td>FALSE</td><td>⋯</td><td>FALSE</td><td>FALSE</td><td>FALSE</td><td>FALSE</td><td>FALSE</td><td>FALSE</td><td>FALSE</td><td>FALSE</td><td>FALSE</td><td>FALSE</td></tr>\n",
              "\t<tr><td>FALSE</td><td>FALSE</td><td>FALSE</td><td>FALSE</td><td>FALSE</td><td>FALSE</td><td>FALSE</td><td>FALSE</td><td>FALSE</td><td>FALSE</td><td>⋯</td><td>FALSE</td><td>FALSE</td><td>FALSE</td><td>FALSE</td><td>FALSE</td><td>FALSE</td><td>FALSE</td><td>FALSE</td><td>FALSE</td><td>FALSE</td></tr>\n",
              "\t<tr><td>FALSE</td><td>FALSE</td><td>FALSE</td><td>FALSE</td><td>FALSE</td><td>FALSE</td><td>FALSE</td><td>FALSE</td><td>FALSE</td><td>FALSE</td><td>⋯</td><td>FALSE</td><td>FALSE</td><td>FALSE</td><td>FALSE</td><td>FALSE</td><td>FALSE</td><td>FALSE</td><td>FALSE</td><td>FALSE</td><td>FALSE</td></tr>\n",
              "\t<tr><td>FALSE</td><td>FALSE</td><td>FALSE</td><td>FALSE</td><td>FALSE</td><td>FALSE</td><td>FALSE</td><td>FALSE</td><td>FALSE</td><td>FALSE</td><td>⋯</td><td>FALSE</td><td>FALSE</td><td>FALSE</td><td>FALSE</td><td>FALSE</td><td>FALSE</td><td>FALSE</td><td>FALSE</td><td>FALSE</td><td>FALSE</td></tr>\n",
              "\t<tr><td>FALSE</td><td>FALSE</td><td>FALSE</td><td>FALSE</td><td>FALSE</td><td>FALSE</td><td>FALSE</td><td>FALSE</td><td>FALSE</td><td>FALSE</td><td>⋯</td><td>FALSE</td><td>FALSE</td><td>FALSE</td><td>FALSE</td><td>FALSE</td><td>FALSE</td><td>FALSE</td><td>FALSE</td><td>FALSE</td><td>FALSE</td></tr>\n",
              "\t<tr><td>FALSE</td><td>FALSE</td><td>FALSE</td><td>FALSE</td><td>FALSE</td><td>FALSE</td><td>FALSE</td><td>FALSE</td><td> TRUE</td><td>FALSE</td><td>⋯</td><td>FALSE</td><td>FALSE</td><td>FALSE</td><td>FALSE</td><td>FALSE</td><td>FALSE</td><td>FALSE</td><td>FALSE</td><td>FALSE</td><td>FALSE</td></tr>\n",
              "\t<tr><td>FALSE</td><td>FALSE</td><td>FALSE</td><td>FALSE</td><td>FALSE</td><td>FALSE</td><td>FALSE</td><td>FALSE</td><td> TRUE</td><td>FALSE</td><td>⋯</td><td>FALSE</td><td>FALSE</td><td>FALSE</td><td>FALSE</td><td>FALSE</td><td>FALSE</td><td>FALSE</td><td>FALSE</td><td>FALSE</td><td>FALSE</td></tr>\n",
              "\t<tr><td>FALSE</td><td>FALSE</td><td>FALSE</td><td>FALSE</td><td>FALSE</td><td>FALSE</td><td>FALSE</td><td>FALSE</td><td> TRUE</td><td>FALSE</td><td>⋯</td><td>FALSE</td><td>FALSE</td><td>FALSE</td><td>FALSE</td><td>FALSE</td><td>FALSE</td><td>FALSE</td><td>FALSE</td><td>FALSE</td><td>FALSE</td></tr>\n",
              "\t<tr><td>FALSE</td><td>FALSE</td><td>FALSE</td><td>FALSE</td><td>FALSE</td><td>FALSE</td><td>FALSE</td><td>FALSE</td><td> TRUE</td><td>FALSE</td><td>⋯</td><td>FALSE</td><td>FALSE</td><td>FALSE</td><td>FALSE</td><td>FALSE</td><td>FALSE</td><td>FALSE</td><td>FALSE</td><td>FALSE</td><td>FALSE</td></tr>\n",
              "\t<tr><td>FALSE</td><td>FALSE</td><td>FALSE</td><td>FALSE</td><td>FALSE</td><td>FALSE</td><td>FALSE</td><td>FALSE</td><td> TRUE</td><td>FALSE</td><td>⋯</td><td>FALSE</td><td>FALSE</td><td>FALSE</td><td>FALSE</td><td>FALSE</td><td>FALSE</td><td>FALSE</td><td>FALSE</td><td>FALSE</td><td>FALSE</td></tr>\n",
              "\t<tr><td>FALSE</td><td>FALSE</td><td>FALSE</td><td>FALSE</td><td>FALSE</td><td>FALSE</td><td> TRUE</td><td>FALSE</td><td>FALSE</td><td>FALSE</td><td>⋯</td><td>FALSE</td><td> TRUE</td><td>FALSE</td><td>FALSE</td><td>FALSE</td><td>FALSE</td><td>FALSE</td><td>FALSE</td><td>FALSE</td><td>FALSE</td></tr>\n",
              "\t<tr><td>FALSE</td><td>FALSE</td><td>FALSE</td><td>FALSE</td><td>FALSE</td><td>FALSE</td><td>FALSE</td><td>FALSE</td><td>FALSE</td><td>FALSE</td><td>⋯</td><td>FALSE</td><td>FALSE</td><td>FALSE</td><td>FALSE</td><td>FALSE</td><td>FALSE</td><td>FALSE</td><td>FALSE</td><td>FALSE</td><td>FALSE</td></tr>\n",
              "\t<tr><td>FALSE</td><td>FALSE</td><td>FALSE</td><td>FALSE</td><td>FALSE</td><td>FALSE</td><td>FALSE</td><td>FALSE</td><td>FALSE</td><td>FALSE</td><td>⋯</td><td>FALSE</td><td>FALSE</td><td>FALSE</td><td>FALSE</td><td>FALSE</td><td>FALSE</td><td>FALSE</td><td>FALSE</td><td>FALSE</td><td>FALSE</td></tr>\n",
              "\t<tr><td>FALSE</td><td>FALSE</td><td>FALSE</td><td>FALSE</td><td>FALSE</td><td>FALSE</td><td>FALSE</td><td>FALSE</td><td>FALSE</td><td>FALSE</td><td>⋯</td><td>FALSE</td><td>FALSE</td><td>FALSE</td><td>FALSE</td><td>FALSE</td><td>FALSE</td><td>FALSE</td><td>FALSE</td><td>FALSE</td><td>FALSE</td></tr>\n",
              "\t<tr><td>FALSE</td><td>FALSE</td><td>FALSE</td><td>FALSE</td><td>FALSE</td><td>FALSE</td><td>FALSE</td><td>FALSE</td><td>FALSE</td><td>FALSE</td><td>⋯</td><td>FALSE</td><td>FALSE</td><td>FALSE</td><td>FALSE</td><td>FALSE</td><td>FALSE</td><td>FALSE</td><td>FALSE</td><td>FALSE</td><td>FALSE</td></tr>\n",
              "\t<tr><td>FALSE</td><td>FALSE</td><td>FALSE</td><td>FALSE</td><td>FALSE</td><td>FALSE</td><td>FALSE</td><td>FALSE</td><td>FALSE</td><td>FALSE</td><td>⋯</td><td>FALSE</td><td>FALSE</td><td>FALSE</td><td>FALSE</td><td>FALSE</td><td>FALSE</td><td>FALSE</td><td>FALSE</td><td>FALSE</td><td>FALSE</td></tr>\n",
              "\t<tr><td>FALSE</td><td>FALSE</td><td>FALSE</td><td>FALSE</td><td>FALSE</td><td>FALSE</td><td>FALSE</td><td>FALSE</td><td>FALSE</td><td>FALSE</td><td>⋯</td><td>FALSE</td><td>FALSE</td><td>FALSE</td><td>FALSE</td><td>FALSE</td><td>FALSE</td><td>FALSE</td><td>FALSE</td><td>FALSE</td><td>FALSE</td></tr>\n",
              "\t<tr><td>FALSE</td><td>FALSE</td><td>FALSE</td><td>FALSE</td><td>FALSE</td><td>FALSE</td><td>FALSE</td><td>FALSE</td><td>FALSE</td><td>FALSE</td><td>⋯</td><td>FALSE</td><td>FALSE</td><td>FALSE</td><td>FALSE</td><td>FALSE</td><td>FALSE</td><td>FALSE</td><td>FALSE</td><td>FALSE</td><td>FALSE</td></tr>\n",
              "\t<tr><td>FALSE</td><td>FALSE</td><td>FALSE</td><td>FALSE</td><td>FALSE</td><td>FALSE</td><td>FALSE</td><td>FALSE</td><td>FALSE</td><td>FALSE</td><td>⋯</td><td>FALSE</td><td>FALSE</td><td>FALSE</td><td>FALSE</td><td>FALSE</td><td>FALSE</td><td>FALSE</td><td>FALSE</td><td>FALSE</td><td>FALSE</td></tr>\n",
              "\t<tr><td>FALSE</td><td>FALSE</td><td>FALSE</td><td>FALSE</td><td>FALSE</td><td>FALSE</td><td>FALSE</td><td>FALSE</td><td>FALSE</td><td>FALSE</td><td>⋯</td><td>FALSE</td><td>FALSE</td><td>FALSE</td><td>FALSE</td><td>FALSE</td><td>FALSE</td><td>FALSE</td><td>FALSE</td><td>FALSE</td><td>FALSE</td></tr>\n",
              "\t<tr><td>FALSE</td><td>FALSE</td><td>FALSE</td><td>FALSE</td><td>FALSE</td><td>FALSE</td><td>FALSE</td><td>FALSE</td><td>FALSE</td><td>FALSE</td><td>⋯</td><td>FALSE</td><td>FALSE</td><td>FALSE</td><td>FALSE</td><td>FALSE</td><td>FALSE</td><td>FALSE</td><td>FALSE</td><td>FALSE</td><td>FALSE</td></tr>\n",
              "\t<tr><td>FALSE</td><td>FALSE</td><td>FALSE</td><td>FALSE</td><td>FALSE</td><td>FALSE</td><td>FALSE</td><td>FALSE</td><td>FALSE</td><td>FALSE</td><td>⋯</td><td>FALSE</td><td>FALSE</td><td>FALSE</td><td>FALSE</td><td>FALSE</td><td>FALSE</td><td>FALSE</td><td>FALSE</td><td>FALSE</td><td>FALSE</td></tr>\n",
              "\t<tr><td>FALSE</td><td>FALSE</td><td>FALSE</td><td>FALSE</td><td>FALSE</td><td>FALSE</td><td>FALSE</td><td>FALSE</td><td>FALSE</td><td>FALSE</td><td>⋯</td><td>FALSE</td><td>FALSE</td><td>FALSE</td><td>FALSE</td><td>FALSE</td><td>FALSE</td><td>FALSE</td><td>FALSE</td><td>FALSE</td><td>FALSE</td></tr>\n",
              "\t<tr><td>FALSE</td><td>FALSE</td><td>FALSE</td><td>FALSE</td><td>FALSE</td><td>FALSE</td><td>FALSE</td><td>FALSE</td><td>FALSE</td><td>FALSE</td><td>⋯</td><td>FALSE</td><td>FALSE</td><td>FALSE</td><td>FALSE</td><td>FALSE</td><td>FALSE</td><td>FALSE</td><td>FALSE</td><td>FALSE</td><td>FALSE</td></tr>\n",
              "\t<tr><td>FALSE</td><td>FALSE</td><td>FALSE</td><td>FALSE</td><td>FALSE</td><td>FALSE</td><td>FALSE</td><td>FALSE</td><td>FALSE</td><td>FALSE</td><td>⋯</td><td>FALSE</td><td>FALSE</td><td>FALSE</td><td>FALSE</td><td>FALSE</td><td>FALSE</td><td>FALSE</td><td>FALSE</td><td>FALSE</td><td>FALSE</td></tr>\n",
              "\t<tr><td>FALSE</td><td>FALSE</td><td>FALSE</td><td>FALSE</td><td>FALSE</td><td>FALSE</td><td>FALSE</td><td>FALSE</td><td>FALSE</td><td>FALSE</td><td>⋯</td><td>FALSE</td><td>FALSE</td><td>FALSE</td><td>FALSE</td><td>FALSE</td><td>FALSE</td><td>FALSE</td><td>FALSE</td><td>FALSE</td><td>FALSE</td></tr>\n",
              "</tbody>\n",
              "</table>\n"
            ]
          },
          "metadata": {
            "tags": []
          }
        }
      ]
    },
    {
      "cell_type": "markdown",
      "metadata": {
        "id": "NemDOL0NoAxP"
      },
      "source": [
        "### Exercise 4 - dummy code \n",
        "---\n",
        "1. dummy code the `status` variable \n",
        "2. make sure to remove first dummy and old column "
      ]
    },
    {
      "cell_type": "code",
      "metadata": {
        "id": "ftRfUTuroSgG",
        "outputId": "ec666a2f-0019-48c7-9130-669ca7984ee3",
        "colab": {
          "base_uri": "https://localhost:8080/",
          "height": 358
        }
      },
      "source": [
        "status_dummy <- dummy_cols(life_expectancy_data, select_columns = c('Status'), remove_first_dummy = TRUE, remove_selected_columns = TRUE)\n",
        "head(status_dummy)"
      ],
      "execution_count": 27,
      "outputs": [
        {
          "output_type": "display_data",
          "data": {
            "text/plain": [
              "  Country     Year Life expectancy Adult Mortality infant deaths Alcohol\n",
              "1 Afghanistan 2015 65.0            263             62            0.01   \n",
              "2 Afghanistan 2014 59.9            271             64            0.01   \n",
              "3 Afghanistan 2013 59.9            268             66            0.01   \n",
              "4 Afghanistan 2012 59.5            272             69            0.01   \n",
              "5 Afghanistan 2011 59.2            275             71            0.01   \n",
              "6 Afghanistan 2010 58.8            279             74            0.01   \n",
              "  percentage expenditure Hepatitis B Measles BMI  ⋯ Total expenditure\n",
              "1 71.279624              65          1154    19.1 ⋯ 8.16             \n",
              "2 73.523582              62           492    18.6 ⋯ 8.18             \n",
              "3 73.219243              64           430    18.1 ⋯ 8.13             \n",
              "4 78.184215              67          2787    17.6 ⋯ 8.52             \n",
              "5  7.097109              68          3013    17.2 ⋯ 7.87             \n",
              "6 79.679367              66          1989    16.7 ⋯ 9.20             \n",
              "  Diphtheria HIV/AIDS GDP       Population thinness  10-19 years\n",
              "1 65         0.1      584.25921 33736494   17.2                 \n",
              "2 62         0.1      612.69651   327582   17.5                 \n",
              "3 64         0.1      631.74498 31731688   17.7                 \n",
              "4 67         0.1      669.95900  3696958   17.9                 \n",
              "5 68         0.1       63.53723  2978599   18.2                 \n",
              "6 66         0.1      553.32894  2883167   18.4                 \n",
              "  thinness 5-9 years Income composition of resources Schooling\n",
              "1 17.3               0.479                           10.1     \n",
              "2 17.5               0.476                           10.0     \n",
              "3 17.7               0.470                            9.9     \n",
              "4 18.0               0.463                            9.8     \n",
              "5 18.2               0.454                            9.5     \n",
              "6 18.4               0.448                            9.2     \n",
              "  Status_Developing\n",
              "1 1                \n",
              "2 1                \n",
              "3 1                \n",
              "4 1                \n",
              "5 1                \n",
              "6 1                "
            ],
            "text/latex": "A tibble: 6 × 22\n\\begin{tabular}{lllllllllllllllllllll}\n Country & Year & Life expectancy & Adult Mortality & infant deaths & Alcohol & percentage expenditure & Hepatitis B & Measles & BMI & ⋯ & Total expenditure & Diphtheria & HIV/AIDS & GDP & Population & thinness  10-19 years & thinness 5-9 years & Income composition of resources & Schooling & Status\\_Developing\\\\\n <chr> & <dbl> & <dbl> & <dbl> & <dbl> & <dbl> & <dbl> & <dbl> & <dbl> & <dbl> & ⋯ & <dbl> & <dbl> & <dbl> & <dbl> & <dbl> & <dbl> & <dbl> & <dbl> & <dbl> & <int>\\\\\n\\hline\n\t Afghanistan & 2015 & 65.0 & 263 & 62 & 0.01 & 71.279624 & 65 & 1154 & 19.1 & ⋯ & 8.16 & 65 & 0.1 & 584.25921 & 33736494 & 17.2 & 17.3 & 0.479 & 10.1 & 1\\\\\n\t Afghanistan & 2014 & 59.9 & 271 & 64 & 0.01 & 73.523582 & 62 &  492 & 18.6 & ⋯ & 8.18 & 62 & 0.1 & 612.69651 &   327582 & 17.5 & 17.5 & 0.476 & 10.0 & 1\\\\\n\t Afghanistan & 2013 & 59.9 & 268 & 66 & 0.01 & 73.219243 & 64 &  430 & 18.1 & ⋯ & 8.13 & 64 & 0.1 & 631.74498 & 31731688 & 17.7 & 17.7 & 0.470 &  9.9 & 1\\\\\n\t Afghanistan & 2012 & 59.5 & 272 & 69 & 0.01 & 78.184215 & 67 & 2787 & 17.6 & ⋯ & 8.52 & 67 & 0.1 & 669.95900 &  3696958 & 17.9 & 18.0 & 0.463 &  9.8 & 1\\\\\n\t Afghanistan & 2011 & 59.2 & 275 & 71 & 0.01 &  7.097109 & 68 & 3013 & 17.2 & ⋯ & 7.87 & 68 & 0.1 &  63.53723 &  2978599 & 18.2 & 18.2 & 0.454 &  9.5 & 1\\\\\n\t Afghanistan & 2010 & 58.8 & 279 & 74 & 0.01 & 79.679367 & 66 & 1989 & 16.7 & ⋯ & 9.20 & 66 & 0.1 & 553.32894 &  2883167 & 18.4 & 18.4 & 0.448 &  9.2 & 1\\\\\n\\end{tabular}\n",
            "text/markdown": "\nA tibble: 6 × 22\n\n| Country &lt;chr&gt; | Year &lt;dbl&gt; | Life expectancy &lt;dbl&gt; | Adult Mortality &lt;dbl&gt; | infant deaths &lt;dbl&gt; | Alcohol &lt;dbl&gt; | percentage expenditure &lt;dbl&gt; | Hepatitis B &lt;dbl&gt; | Measles &lt;dbl&gt; | BMI &lt;dbl&gt; | ⋯ ⋯ | Total expenditure &lt;dbl&gt; | Diphtheria &lt;dbl&gt; | HIV/AIDS &lt;dbl&gt; | GDP &lt;dbl&gt; | Population &lt;dbl&gt; | thinness  10-19 years &lt;dbl&gt; | thinness 5-9 years &lt;dbl&gt; | Income composition of resources &lt;dbl&gt; | Schooling &lt;dbl&gt; | Status_Developing &lt;int&gt; |\n|---|---|---|---|---|---|---|---|---|---|---|---|---|---|---|---|---|---|---|---|---|\n| Afghanistan | 2015 | 65.0 | 263 | 62 | 0.01 | 71.279624 | 65 | 1154 | 19.1 | ⋯ | 8.16 | 65 | 0.1 | 584.25921 | 33736494 | 17.2 | 17.3 | 0.479 | 10.1 | 1 |\n| Afghanistan | 2014 | 59.9 | 271 | 64 | 0.01 | 73.523582 | 62 |  492 | 18.6 | ⋯ | 8.18 | 62 | 0.1 | 612.69651 |   327582 | 17.5 | 17.5 | 0.476 | 10.0 | 1 |\n| Afghanistan | 2013 | 59.9 | 268 | 66 | 0.01 | 73.219243 | 64 |  430 | 18.1 | ⋯ | 8.13 | 64 | 0.1 | 631.74498 | 31731688 | 17.7 | 17.7 | 0.470 |  9.9 | 1 |\n| Afghanistan | 2012 | 59.5 | 272 | 69 | 0.01 | 78.184215 | 67 | 2787 | 17.6 | ⋯ | 8.52 | 67 | 0.1 | 669.95900 |  3696958 | 17.9 | 18.0 | 0.463 |  9.8 | 1 |\n| Afghanistan | 2011 | 59.2 | 275 | 71 | 0.01 |  7.097109 | 68 | 3013 | 17.2 | ⋯ | 7.87 | 68 | 0.1 |  63.53723 |  2978599 | 18.2 | 18.2 | 0.454 |  9.5 | 1 |\n| Afghanistan | 2010 | 58.8 | 279 | 74 | 0.01 | 79.679367 | 66 | 1989 | 16.7 | ⋯ | 9.20 | 66 | 0.1 | 553.32894 |  2883167 | 18.4 | 18.4 | 0.448 |  9.2 | 1 |\n\n",
            "text/html": [
              "<table class=\"dataframe\">\n",
              "<caption>A tibble: 6 × 22</caption>\n",
              "<thead>\n",
              "\t<tr><th scope=col>Country</th><th scope=col>Year</th><th scope=col>Life expectancy</th><th scope=col>Adult Mortality</th><th scope=col>infant deaths</th><th scope=col>Alcohol</th><th scope=col>percentage expenditure</th><th scope=col>Hepatitis B</th><th scope=col>Measles</th><th scope=col>BMI</th><th scope=col>⋯</th><th scope=col>Total expenditure</th><th scope=col>Diphtheria</th><th scope=col>HIV/AIDS</th><th scope=col>GDP</th><th scope=col>Population</th><th scope=col>thinness  10-19 years</th><th scope=col>thinness 5-9 years</th><th scope=col>Income composition of resources</th><th scope=col>Schooling</th><th scope=col>Status_Developing</th></tr>\n",
              "\t<tr><th scope=col>&lt;chr&gt;</th><th scope=col>&lt;dbl&gt;</th><th scope=col>&lt;dbl&gt;</th><th scope=col>&lt;dbl&gt;</th><th scope=col>&lt;dbl&gt;</th><th scope=col>&lt;dbl&gt;</th><th scope=col>&lt;dbl&gt;</th><th scope=col>&lt;dbl&gt;</th><th scope=col>&lt;dbl&gt;</th><th scope=col>&lt;dbl&gt;</th><th scope=col>⋯</th><th scope=col>&lt;dbl&gt;</th><th scope=col>&lt;dbl&gt;</th><th scope=col>&lt;dbl&gt;</th><th scope=col>&lt;dbl&gt;</th><th scope=col>&lt;dbl&gt;</th><th scope=col>&lt;dbl&gt;</th><th scope=col>&lt;dbl&gt;</th><th scope=col>&lt;dbl&gt;</th><th scope=col>&lt;dbl&gt;</th><th scope=col>&lt;int&gt;</th></tr>\n",
              "</thead>\n",
              "<tbody>\n",
              "\t<tr><td>Afghanistan</td><td>2015</td><td>65.0</td><td>263</td><td>62</td><td>0.01</td><td>71.279624</td><td>65</td><td>1154</td><td>19.1</td><td>⋯</td><td>8.16</td><td>65</td><td>0.1</td><td>584.25921</td><td>33736494</td><td>17.2</td><td>17.3</td><td>0.479</td><td>10.1</td><td>1</td></tr>\n",
              "\t<tr><td>Afghanistan</td><td>2014</td><td>59.9</td><td>271</td><td>64</td><td>0.01</td><td>73.523582</td><td>62</td><td> 492</td><td>18.6</td><td>⋯</td><td>8.18</td><td>62</td><td>0.1</td><td>612.69651</td><td>  327582</td><td>17.5</td><td>17.5</td><td>0.476</td><td>10.0</td><td>1</td></tr>\n",
              "\t<tr><td>Afghanistan</td><td>2013</td><td>59.9</td><td>268</td><td>66</td><td>0.01</td><td>73.219243</td><td>64</td><td> 430</td><td>18.1</td><td>⋯</td><td>8.13</td><td>64</td><td>0.1</td><td>631.74498</td><td>31731688</td><td>17.7</td><td>17.7</td><td>0.470</td><td> 9.9</td><td>1</td></tr>\n",
              "\t<tr><td>Afghanistan</td><td>2012</td><td>59.5</td><td>272</td><td>69</td><td>0.01</td><td>78.184215</td><td>67</td><td>2787</td><td>17.6</td><td>⋯</td><td>8.52</td><td>67</td><td>0.1</td><td>669.95900</td><td> 3696958</td><td>17.9</td><td>18.0</td><td>0.463</td><td> 9.8</td><td>1</td></tr>\n",
              "\t<tr><td>Afghanistan</td><td>2011</td><td>59.2</td><td>275</td><td>71</td><td>0.01</td><td> 7.097109</td><td>68</td><td>3013</td><td>17.2</td><td>⋯</td><td>7.87</td><td>68</td><td>0.1</td><td> 63.53723</td><td> 2978599</td><td>18.2</td><td>18.2</td><td>0.454</td><td> 9.5</td><td>1</td></tr>\n",
              "\t<tr><td>Afghanistan</td><td>2010</td><td>58.8</td><td>279</td><td>74</td><td>0.01</td><td>79.679367</td><td>66</td><td>1989</td><td>16.7</td><td>⋯</td><td>9.20</td><td>66</td><td>0.1</td><td>553.32894</td><td> 2883167</td><td>18.4</td><td>18.4</td><td>0.448</td><td> 9.2</td><td>1</td></tr>\n",
              "</tbody>\n",
              "</table>\n"
            ]
          },
          "metadata": {
            "tags": []
          }
        }
      ]
    },
    {
      "cell_type": "markdown",
      "metadata": {
        "id": "ujb7jzGwoSyD"
      },
      "source": [
        "### Exercise 5 - visualise target variable (IV)\n",
        "---\n",
        "\n",
        "1. Visualise target variable on a histogram\n",
        "2. How does the distribution look?"
      ]
    },
    {
      "cell_type": "code",
      "metadata": {
        "id": "uElyn484opOf",
        "outputId": "b3a5e95c-931d-4fd6-9f42-727bf367462b",
        "colab": {
          "base_uri": "https://localhost:8080/",
          "height": 474
        }
      },
      "source": [
        "qplot(life_expectancy_data$`Life expectancy`, geom=\"histogram\")"
      ],
      "execution_count": 15,
      "outputs": [
        {
          "output_type": "stream",
          "text": [
            "`stat_bin()` using `bins = 30`. Pick better value with `binwidth`.\n",
            "\n"
          ],
          "name": "stderr"
        },
        {
          "output_type": "display_data",
          "data": {
            "image/png": "[encoded data removed]",
            "text/plain": [
              "plot without title"
            ]
          },
          "metadata": {
            "tags": [],
            "image/png": {
              "width": 420,
              "height": 420
            }
          }
        }
      ]
    },
    {
      "cell_type": "markdown",
      "metadata": {
        "id": "GmSILaVlopmK"
      },
      "source": [
        "### Exercise 6 - perform multiple linear regression \n",
        "---\n",
        "\n",
        "1. Run a linear regression to see if your target variables predict life expectancy \n",
        "2. display a summary of the regression "
      ]
    },
    {
      "cell_type": "code",
      "metadata": {
        "id": "4_PwzK9epCcB",
        "outputId": "7c15ec0b-4eae-4354-adf8-8b90a2689844",
        "colab": {
          "base_uri": "https://localhost:8080/",
          "height": 1000
        }
      },
      "source": [
        "life_expectancy_regression <- lm(`Life expectancy` ~ `Year`  +\t`Status_Developing`\t+\t`Adult Mortality` +\t`infant deaths` +\t`Alcohol` +\t`percentage expenditure` +\t`Hepatitis B` +\t`Measles` + BMI + `under-five deaths` +\t`Polio` +\t`Total expenditure` +\t`Diphtheria` + `HIV/AIDS` +\t`GDP` +\t`Population` +\t`thinness  10-19 years` +\t`thinness 5-9 years` + `Income composition of resources` +\tSchooling, data = status_dummy)\n",
        "summary(life_expectancy_regression)"
      ],
      "execution_count": 34,
      "outputs": [
        {
          "output_type": "display_data",
          "data": {
            "text/plain": [
              "\n",
              "Call:\n",
              "lm(formula = `Life expectancy` ~ Year + Status_Developing + `Adult Mortality` + \n",
              "    `infant deaths` + Alcohol + `percentage expenditure` + `Hepatitis B` + \n",
              "    Measles + BMI + `under-five deaths` + Polio + `Total expenditure` + \n",
              "    Diphtheria + `HIV/AIDS` + GDP + Population + `thinness  10-19 years` + \n",
              "    `thinness 5-9 years` + `Income composition of resources` + \n",
              "    Schooling, data = status_dummy)\n",
              "\n",
              "Residuals:\n",
              "     Min       1Q   Median       3Q      Max \n",
              "-16.7681  -2.1427   0.0273   2.1776  12.4242 \n",
              "\n",
              "Coefficients:\n",
              "                                           Estimate        Std. Error t value\n",
              "(Intercept)                       309.0071560171969  46.2102371690443   6.687\n",
              "Year                               -0.1271699785895   0.0230817578617  -5.510\n",
              "Status_Developing                  -0.8865054108135   0.3352651336995  -2.644\n",
              "`Adult Mortality`                  -0.0162107362127   0.0009440982548 -17.171\n",
              "`infant deaths`                     0.0887326991583   0.0105939549952   8.376\n",
              "Alcohol                            -0.1313142784030   0.0336576980135  -3.901\n",
              "`percentage expenditure`            0.0003025752313   0.0001788928308   1.691\n",
              "`Hepatitis B`                      -0.0032575275701   0.0044487002074  -0.732\n",
              "Measles                            -0.0000103312942   0.0000106994267  -0.966\n",
              "BMI                                 0.0318291288693   0.0059550486961   5.345\n",
              "`under-five deaths`                -0.0666171827910   0.0076726760464  -8.682\n",
              "Polio                               0.0057974003712   0.0051208987884   1.132\n",
              "`Total expenditure`                 0.0921990365028   0.0404218086789   2.281\n",
              "Diphtheria                          0.0140271518944   0.0058773187045   2.387\n",
              "`HIV/AIDS`                         -0.4480547916203   0.0177981425516 -25.174\n",
              "GDP                                 0.0000245111263   0.0000282636415   0.867\n",
              "Population                         -0.0000000006085   0.0000000017332  -0.351\n",
              "`thinness  10-19 years`            -0.0058151790267   0.0525435689067  -0.111\n",
              "`thinness 5-9 years`               -0.0500953838392   0.0518509451262  -0.966\n",
              "`Income composition of resources`  10.4496703034313   0.8326940577170  12.549\n",
              "Schooling                           0.8948827867361   0.0590999168382  15.142\n",
              "                                              Pr(>|t|)    \n",
              "(Intercept)                            0.0000000000312 ***\n",
              "Year                                   0.0000000417516 ***\n",
              "Status_Developing                              0.00827 ** \n",
              "`Adult Mortality`                 < 0.0000000000000002 ***\n",
              "`infant deaths`                   < 0.0000000000000002 ***\n",
              "Alcohol                                0.0000995062564 ***\n",
              "`percentage expenditure`                       0.09096 .  \n",
              "`Hepatitis B`                                  0.46413    \n",
              "Measles                                        0.33439    \n",
              "BMI                                    0.0000001032809 ***\n",
              "`under-five deaths`               < 0.0000000000000002 ***\n",
              "Polio                                          0.25776    \n",
              "`Total expenditure`                            0.02268 *  \n",
              "Diphtheria                                     0.01712 *  \n",
              "`HIV/AIDS`                        < 0.0000000000000002 ***\n",
              "GDP                                            0.38594    \n",
              "Population                                     0.72558    \n",
              "`thinness  10-19 years`                        0.91189    \n",
              "`thinness 5-9 years`                           0.33412    \n",
              "`Income composition of resources` < 0.0000000000000002 ***\n",
              "Schooling                         < 0.0000000000000002 ***\n",
              "---\n",
              "Signif. codes:  0 ‘***’ 0.001 ‘**’ 0.01 ‘*’ 0.05 ‘.’ 0.1 ‘ ’ 1\n",
              "\n",
              "Residual standard error: 3.556 on 1628 degrees of freedom\n",
              "Multiple R-squared:  0.8386,\tAdjusted R-squared:  0.8366 \n",
              "F-statistic: 422.9 on 20 and 1628 DF,  p-value: < 0.00000000000000022\n"
            ]
          },
          "metadata": {
            "tags": []
          }
        }
      ]
    },
    {
      "cell_type": "markdown",
      "metadata": {
        "id": "UOjjbhknpBns"
      },
      "source": [
        "### Exercise 7 - summary of results\n",
        "---\n",
        "Write some comments on your findings\n",
        "* what variables significantly predict life expectancy?\n",
        "* how well do your variables / model account for the variance (change) in life expectancy between countries?\n",
        "* how does the slope (estimates) for each significant variable explain the impact on the IV "
      ]
    },
    {
      "cell_type": "code",
      "metadata": {
        "id": "3iLbsCLDpxX4"
      },
      "source": [
        ""
      ],
      "execution_count": null,
      "outputs": []
    },
    {
      "cell_type": "markdown",
      "metadata": {
        "id": "MupD8m59pyL8"
      },
      "source": [
        "### Exercise 8 - checking assumptions\n",
        "--- \n",
        "\n",
        "Check your model meets assumptions\n",
        "\n",
        "1. check linearity plot\n",
        "2. check Q-Q plot \n",
        "3. Does it meet assumptions?"
      ]
    },
    {
      "cell_type": "code",
      "metadata": {
        "id": "NIVKvXesqQho"
      },
      "source": [
        ""
      ],
      "execution_count": null,
      "outputs": []
    },
    {
      "cell_type": "markdown",
      "metadata": {
        "id": "xdH7PhyFrNmk"
      },
      "source": [
        "### Exercise 9 - contextualise \n",
        "--- \n",
        "\n",
        "Using the results from your analysis, write a few sentences which gives the data meaning \n",
        "* tell a story with the data\n",
        "* what does this tell us about life expectancy?\n",
        "* what makes the biggest impact on life expectancy?"
      ]
    },
    {
      "cell_type": "code",
      "metadata": {
        "id": "FUEbDthIsNaW"
      },
      "source": [
        ""
      ],
      "execution_count": null,
      "outputs": []
    },
    {
      "cell_type": "markdown",
      "metadata": {
        "id": "y-FWYN-5sMvR"
      },
      "source": [
        "### Exercise 10 - Explore the data further\n",
        "---\n",
        "\n",
        "Try running a regression with a different variable as the target variable (e.g. Status) and see if you can make any further predictions "
      ]
    },
    {
      "cell_type": "code",
      "metadata": {
        "id": "YKSzGE8asdfA"
      },
      "source": [
        ""
      ],
      "execution_count": null,
      "outputs": []
    },
    {
      "cell_type": "markdown",
      "metadata": {
        "id": "Rib9VjiFseQC"
      },
      "source": [
        "# Reflection\n",
        "----\n",
        "\n",
        "## What skills have you demonstrated in completing this notebook?"
      ]
    },
    {
      "cell_type": "markdown",
      "metadata": {
        "id": "XWXVNaTisjQX"
      },
      "source": [
        "Your answer:"
      ]
    },
    {
      "cell_type": "markdown",
      "metadata": {
        "id": "_NSqU3jwskyp"
      },
      "source": [
        "## What caused you the most difficulty?"
      ]
    },
    {
      "cell_type": "markdown",
      "metadata": {
        "id": "UVB18pY9soGh"
      },
      "source": [
        "Your answer: "
      ]
    }
  ]
}